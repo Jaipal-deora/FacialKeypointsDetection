{
  "nbformat": 4,
  "nbformat_minor": 0,
  "metadata": {
    "colab": {
      "provenance": [],
      "gpuType": "T4"
    },
    "kernelspec": {
      "name": "python3",
      "display_name": "Python 3"
    },
    "language_info": {
      "name": "python"
    },
    "accelerator": "GPU"
  },
  "cells": [
    {
      "cell_type": "code",
      "execution_count": 1,
      "metadata": {
        "id": "wDzmX7znSvxg"
      },
      "outputs": [],
      "source": [
        "import os\n",
        "import re\n",
        "import glob\n",
        "import numpy as np\n",
        "import pandas as pd\n",
        "from copy import deepcopy\n",
        "\n",
        "import cv2\n",
        "from PIL import Image\n",
        "\n",
        "from tqdm import tqdm\n",
        "\n",
        "import torch\n",
        "from torch import nn\n",
        "from torch.nn import functional as F\n",
        "from torch.optim import Adam\n",
        "from torch import optim\n",
        "from torch.utils.data import TensorDataset, DataLoader, Dataset\n",
        "\n",
        "import torchvision\n",
        "from torchvision import transforms, models, datasets\n",
        "\n",
        "from torchsummary import summary\n",
        "\n",
        "from sklearn.model_selection import train_test_split\n",
        "\n",
        "import matplotlib.pyplot as plt\n",
        "from mpl_toolkits.mplot3d import Axes3D\n",
        "import matplotlib.ticker as mtick\n",
        "import matplotlib.ticker as mticker\n",
        "\n",
        "%matplotlib inline"
      ]
    },
    {
      "cell_type": "code",
      "source": [
        "device = 'cuda' if torch.cuda.is_available() else 'cpu'\n",
        "device"
      ],
      "metadata": {
        "colab": {
          "base_uri": "https://localhost:8080/",
          "height": 36
        },
        "id": "h1GOXQPEc2og",
        "outputId": "20cb8515-0938-4652-88b8-da81344ec10e"
      },
      "execution_count": 2,
      "outputs": [
        {
          "output_type": "execute_result",
          "data": {
            "text/plain": [
              "'cuda'"
            ],
            "application/vnd.google.colaboratory.intrinsic+json": {
              "type": "string"
            }
          },
          "metadata": {},
          "execution_count": 2
        }
      ]
    },
    {
      "cell_type": "code",
      "source": [
        "!git clone https://github.com/udacity/P1_Facial_Keypoints.git\n",
        "!cd P1_Facial_Keypoints\n",
        "root_dir = 'P1_Facial_Keypoints/data/training/'\n",
        "all_img_paths = glob.glob(os.path.join(root_dir, '*.jpg'))\n",
        "data = pd.read_csv('P1_Facial_Keypoints/data/training_frames_keypoints.csv')"
      ],
      "metadata": {
        "colab": {
          "base_uri": "https://localhost:8080/"
        },
        "id": "4blpNwHqc7EA",
        "outputId": "f47dbc80-a84d-4255-ebc9-58d42cb2cf7c"
      },
      "execution_count": 3,
      "outputs": [
        {
          "output_type": "stream",
          "name": "stdout",
          "text": [
            "fatal: destination path 'P1_Facial_Keypoints' already exists and is not an empty directory.\n"
          ]
        }
      ]
    },
    {
      "cell_type": "code",
      "source": [
        "data.head()"
      ],
      "metadata": {
        "colab": {
          "base_uri": "https://localhost:8080/",
          "height": 255
        },
        "id": "t9hVDE2omed1",
        "outputId": "d2fa38a8-93f8-4275-a1a1-9502cb6cb89c"
      },
      "execution_count": 4,
      "outputs": [
        {
          "output_type": "execute_result",
          "data": {
            "text/plain": [
              "                   Unnamed: 0     0     1     2      3     4      5     6  \\\n",
              "0           Luis_Fonsi_21.jpg  45.0  98.0  47.0  106.0  49.0  110.0  53.0   \n",
              "1       Lincoln_Chafee_52.jpg  41.0  83.0  43.0   91.0  45.0  100.0  47.0   \n",
              "2       Valerie_Harper_30.jpg  56.0  69.0  56.0   77.0  56.0   86.0  56.0   \n",
              "3         Angelo_Reyes_22.jpg  61.0  80.0  58.0   95.0  58.0  108.0  58.0   \n",
              "4  Kristen_Breitweiser_11.jpg  58.0  94.0  58.0  104.0  60.0  113.0  62.0   \n",
              "\n",
              "       7     8  ...   126    127    128    129   130    131   132    133  \\\n",
              "0  119.0  56.0  ...  83.0  119.0   90.0  117.0  83.0  119.0  81.0  122.0   \n",
              "1  108.0  51.0  ...  85.0  122.0   94.0  120.0  85.0  122.0  83.0  122.0   \n",
              "2   94.0  58.0  ...  79.0  105.0   86.0  108.0  77.0  105.0  75.0  105.0   \n",
              "3  120.0  58.0  ...  98.0  136.0  107.0  139.0  95.0  139.0  91.0  139.0   \n",
              "4  121.0  67.0  ...  92.0  117.0  103.0  118.0  92.0  120.0  88.0  122.0   \n",
              "\n",
              "    134    135  \n",
              "0  77.0  122.0  \n",
              "1  79.0  122.0  \n",
              "2  73.0  105.0  \n",
              "3  85.0  136.0  \n",
              "4  84.0  122.0  \n",
              "\n",
              "[5 rows x 137 columns]"
            ],
            "text/html": [
              "\n",
              "  <div id=\"df-81da2cb8-ea91-4a27-b46f-da4701e46cdc\" class=\"colab-df-container\">\n",
              "    <div>\n",
              "<style scoped>\n",
              "    .dataframe tbody tr th:only-of-type {\n",
              "        vertical-align: middle;\n",
              "    }\n",
              "\n",
              "    .dataframe tbody tr th {\n",
              "        vertical-align: top;\n",
              "    }\n",
              "\n",
              "    .dataframe thead th {\n",
              "        text-align: right;\n",
              "    }\n",
              "</style>\n",
              "<table border=\"1\" class=\"dataframe\">\n",
              "  <thead>\n",
              "    <tr style=\"text-align: right;\">\n",
              "      <th></th>\n",
              "      <th>Unnamed: 0</th>\n",
              "      <th>0</th>\n",
              "      <th>1</th>\n",
              "      <th>2</th>\n",
              "      <th>3</th>\n",
              "      <th>4</th>\n",
              "      <th>5</th>\n",
              "      <th>6</th>\n",
              "      <th>7</th>\n",
              "      <th>8</th>\n",
              "      <th>...</th>\n",
              "      <th>126</th>\n",
              "      <th>127</th>\n",
              "      <th>128</th>\n",
              "      <th>129</th>\n",
              "      <th>130</th>\n",
              "      <th>131</th>\n",
              "      <th>132</th>\n",
              "      <th>133</th>\n",
              "      <th>134</th>\n",
              "      <th>135</th>\n",
              "    </tr>\n",
              "  </thead>\n",
              "  <tbody>\n",
              "    <tr>\n",
              "      <th>0</th>\n",
              "      <td>Luis_Fonsi_21.jpg</td>\n",
              "      <td>45.0</td>\n",
              "      <td>98.0</td>\n",
              "      <td>47.0</td>\n",
              "      <td>106.0</td>\n",
              "      <td>49.0</td>\n",
              "      <td>110.0</td>\n",
              "      <td>53.0</td>\n",
              "      <td>119.0</td>\n",
              "      <td>56.0</td>\n",
              "      <td>...</td>\n",
              "      <td>83.0</td>\n",
              "      <td>119.0</td>\n",
              "      <td>90.0</td>\n",
              "      <td>117.0</td>\n",
              "      <td>83.0</td>\n",
              "      <td>119.0</td>\n",
              "      <td>81.0</td>\n",
              "      <td>122.0</td>\n",
              "      <td>77.0</td>\n",
              "      <td>122.0</td>\n",
              "    </tr>\n",
              "    <tr>\n",
              "      <th>1</th>\n",
              "      <td>Lincoln_Chafee_52.jpg</td>\n",
              "      <td>41.0</td>\n",
              "      <td>83.0</td>\n",
              "      <td>43.0</td>\n",
              "      <td>91.0</td>\n",
              "      <td>45.0</td>\n",
              "      <td>100.0</td>\n",
              "      <td>47.0</td>\n",
              "      <td>108.0</td>\n",
              "      <td>51.0</td>\n",
              "      <td>...</td>\n",
              "      <td>85.0</td>\n",
              "      <td>122.0</td>\n",
              "      <td>94.0</td>\n",
              "      <td>120.0</td>\n",
              "      <td>85.0</td>\n",
              "      <td>122.0</td>\n",
              "      <td>83.0</td>\n",
              "      <td>122.0</td>\n",
              "      <td>79.0</td>\n",
              "      <td>122.0</td>\n",
              "    </tr>\n",
              "    <tr>\n",
              "      <th>2</th>\n",
              "      <td>Valerie_Harper_30.jpg</td>\n",
              "      <td>56.0</td>\n",
              "      <td>69.0</td>\n",
              "      <td>56.0</td>\n",
              "      <td>77.0</td>\n",
              "      <td>56.0</td>\n",
              "      <td>86.0</td>\n",
              "      <td>56.0</td>\n",
              "      <td>94.0</td>\n",
              "      <td>58.0</td>\n",
              "      <td>...</td>\n",
              "      <td>79.0</td>\n",
              "      <td>105.0</td>\n",
              "      <td>86.0</td>\n",
              "      <td>108.0</td>\n",
              "      <td>77.0</td>\n",
              "      <td>105.0</td>\n",
              "      <td>75.0</td>\n",
              "      <td>105.0</td>\n",
              "      <td>73.0</td>\n",
              "      <td>105.0</td>\n",
              "    </tr>\n",
              "    <tr>\n",
              "      <th>3</th>\n",
              "      <td>Angelo_Reyes_22.jpg</td>\n",
              "      <td>61.0</td>\n",
              "      <td>80.0</td>\n",
              "      <td>58.0</td>\n",
              "      <td>95.0</td>\n",
              "      <td>58.0</td>\n",
              "      <td>108.0</td>\n",
              "      <td>58.0</td>\n",
              "      <td>120.0</td>\n",
              "      <td>58.0</td>\n",
              "      <td>...</td>\n",
              "      <td>98.0</td>\n",
              "      <td>136.0</td>\n",
              "      <td>107.0</td>\n",
              "      <td>139.0</td>\n",
              "      <td>95.0</td>\n",
              "      <td>139.0</td>\n",
              "      <td>91.0</td>\n",
              "      <td>139.0</td>\n",
              "      <td>85.0</td>\n",
              "      <td>136.0</td>\n",
              "    </tr>\n",
              "    <tr>\n",
              "      <th>4</th>\n",
              "      <td>Kristen_Breitweiser_11.jpg</td>\n",
              "      <td>58.0</td>\n",
              "      <td>94.0</td>\n",
              "      <td>58.0</td>\n",
              "      <td>104.0</td>\n",
              "      <td>60.0</td>\n",
              "      <td>113.0</td>\n",
              "      <td>62.0</td>\n",
              "      <td>121.0</td>\n",
              "      <td>67.0</td>\n",
              "      <td>...</td>\n",
              "      <td>92.0</td>\n",
              "      <td>117.0</td>\n",
              "      <td>103.0</td>\n",
              "      <td>118.0</td>\n",
              "      <td>92.0</td>\n",
              "      <td>120.0</td>\n",
              "      <td>88.0</td>\n",
              "      <td>122.0</td>\n",
              "      <td>84.0</td>\n",
              "      <td>122.0</td>\n",
              "    </tr>\n",
              "  </tbody>\n",
              "</table>\n",
              "<p>5 rows × 137 columns</p>\n",
              "</div>\n",
              "    <div class=\"colab-df-buttons\">\n",
              "\n",
              "  <div class=\"colab-df-container\">\n",
              "    <button class=\"colab-df-convert\" onclick=\"convertToInteractive('df-81da2cb8-ea91-4a27-b46f-da4701e46cdc')\"\n",
              "            title=\"Convert this dataframe to an interactive table.\"\n",
              "            style=\"display:none;\">\n",
              "\n",
              "  <svg xmlns=\"http://www.w3.org/2000/svg\" height=\"24px\" viewBox=\"0 -960 960 960\">\n",
              "    <path d=\"M120-120v-720h720v720H120Zm60-500h600v-160H180v160Zm220 220h160v-160H400v160Zm0 220h160v-160H400v160ZM180-400h160v-160H180v160Zm440 0h160v-160H620v160ZM180-180h160v-160H180v160Zm440 0h160v-160H620v160Z\"/>\n",
              "  </svg>\n",
              "    </button>\n",
              "\n",
              "  <style>\n",
              "    .colab-df-container {\n",
              "      display:flex;\n",
              "      gap: 12px;\n",
              "    }\n",
              "\n",
              "    .colab-df-convert {\n",
              "      background-color: #E8F0FE;\n",
              "      border: none;\n",
              "      border-radius: 50%;\n",
              "      cursor: pointer;\n",
              "      display: none;\n",
              "      fill: #1967D2;\n",
              "      height: 32px;\n",
              "      padding: 0 0 0 0;\n",
              "      width: 32px;\n",
              "    }\n",
              "\n",
              "    .colab-df-convert:hover {\n",
              "      background-color: #E2EBFA;\n",
              "      box-shadow: 0px 1px 2px rgba(60, 64, 67, 0.3), 0px 1px 3px 1px rgba(60, 64, 67, 0.15);\n",
              "      fill: #174EA6;\n",
              "    }\n",
              "\n",
              "    .colab-df-buttons div {\n",
              "      margin-bottom: 4px;\n",
              "    }\n",
              "\n",
              "    [theme=dark] .colab-df-convert {\n",
              "      background-color: #3B4455;\n",
              "      fill: #D2E3FC;\n",
              "    }\n",
              "\n",
              "    [theme=dark] .colab-df-convert:hover {\n",
              "      background-color: #434B5C;\n",
              "      box-shadow: 0px 1px 3px 1px rgba(0, 0, 0, 0.15);\n",
              "      filter: drop-shadow(0px 1px 2px rgba(0, 0, 0, 0.3));\n",
              "      fill: #FFFFFF;\n",
              "    }\n",
              "  </style>\n",
              "\n",
              "    <script>\n",
              "      const buttonEl =\n",
              "        document.querySelector('#df-81da2cb8-ea91-4a27-b46f-da4701e46cdc button.colab-df-convert');\n",
              "      buttonEl.style.display =\n",
              "        google.colab.kernel.accessAllowed ? 'block' : 'none';\n",
              "\n",
              "      async function convertToInteractive(key) {\n",
              "        const element = document.querySelector('#df-81da2cb8-ea91-4a27-b46f-da4701e46cdc');\n",
              "        const dataTable =\n",
              "          await google.colab.kernel.invokeFunction('convertToInteractive',\n",
              "                                                    [key], {});\n",
              "        if (!dataTable) return;\n",
              "\n",
              "        const docLinkHtml = 'Like what you see? Visit the ' +\n",
              "          '<a target=\"_blank\" href=https://colab.research.google.com/notebooks/data_table.ipynb>data table notebook</a>'\n",
              "          + ' to learn more about interactive tables.';\n",
              "        element.innerHTML = '';\n",
              "        dataTable['output_type'] = 'display_data';\n",
              "        await google.colab.output.renderOutput(dataTable, element);\n",
              "        const docLink = document.createElement('div');\n",
              "        docLink.innerHTML = docLinkHtml;\n",
              "        element.appendChild(docLink);\n",
              "      }\n",
              "    </script>\n",
              "  </div>\n",
              "\n",
              "\n",
              "<div id=\"df-b27ca114-e376-4a5f-bdff-901d218e29fb\">\n",
              "  <button class=\"colab-df-quickchart\" onclick=\"quickchart('df-b27ca114-e376-4a5f-bdff-901d218e29fb')\"\n",
              "            title=\"Suggest charts\"\n",
              "            style=\"display:none;\">\n",
              "\n",
              "<svg xmlns=\"http://www.w3.org/2000/svg\" height=\"24px\"viewBox=\"0 0 24 24\"\n",
              "     width=\"24px\">\n",
              "    <g>\n",
              "        <path d=\"M19 3H5c-1.1 0-2 .9-2 2v14c0 1.1.9 2 2 2h14c1.1 0 2-.9 2-2V5c0-1.1-.9-2-2-2zM9 17H7v-7h2v7zm4 0h-2V7h2v10zm4 0h-2v-4h2v4z\"/>\n",
              "    </g>\n",
              "</svg>\n",
              "  </button>\n",
              "\n",
              "<style>\n",
              "  .colab-df-quickchart {\n",
              "      --bg-color: #E8F0FE;\n",
              "      --fill-color: #1967D2;\n",
              "      --hover-bg-color: #E2EBFA;\n",
              "      --hover-fill-color: #174EA6;\n",
              "      --disabled-fill-color: #AAA;\n",
              "      --disabled-bg-color: #DDD;\n",
              "  }\n",
              "\n",
              "  [theme=dark] .colab-df-quickchart {\n",
              "      --bg-color: #3B4455;\n",
              "      --fill-color: #D2E3FC;\n",
              "      --hover-bg-color: #434B5C;\n",
              "      --hover-fill-color: #FFFFFF;\n",
              "      --disabled-bg-color: #3B4455;\n",
              "      --disabled-fill-color: #666;\n",
              "  }\n",
              "\n",
              "  .colab-df-quickchart {\n",
              "    background-color: var(--bg-color);\n",
              "    border: none;\n",
              "    border-radius: 50%;\n",
              "    cursor: pointer;\n",
              "    display: none;\n",
              "    fill: var(--fill-color);\n",
              "    height: 32px;\n",
              "    padding: 0;\n",
              "    width: 32px;\n",
              "  }\n",
              "\n",
              "  .colab-df-quickchart:hover {\n",
              "    background-color: var(--hover-bg-color);\n",
              "    box-shadow: 0 1px 2px rgba(60, 64, 67, 0.3), 0 1px 3px 1px rgba(60, 64, 67, 0.15);\n",
              "    fill: var(--button-hover-fill-color);\n",
              "  }\n",
              "\n",
              "  .colab-df-quickchart-complete:disabled,\n",
              "  .colab-df-quickchart-complete:disabled:hover {\n",
              "    background-color: var(--disabled-bg-color);\n",
              "    fill: var(--disabled-fill-color);\n",
              "    box-shadow: none;\n",
              "  }\n",
              "\n",
              "  .colab-df-spinner {\n",
              "    border: 2px solid var(--fill-color);\n",
              "    border-color: transparent;\n",
              "    border-bottom-color: var(--fill-color);\n",
              "    animation:\n",
              "      spin 1s steps(1) infinite;\n",
              "  }\n",
              "\n",
              "  @keyframes spin {\n",
              "    0% {\n",
              "      border-color: transparent;\n",
              "      border-bottom-color: var(--fill-color);\n",
              "      border-left-color: var(--fill-color);\n",
              "    }\n",
              "    20% {\n",
              "      border-color: transparent;\n",
              "      border-left-color: var(--fill-color);\n",
              "      border-top-color: var(--fill-color);\n",
              "    }\n",
              "    30% {\n",
              "      border-color: transparent;\n",
              "      border-left-color: var(--fill-color);\n",
              "      border-top-color: var(--fill-color);\n",
              "      border-right-color: var(--fill-color);\n",
              "    }\n",
              "    40% {\n",
              "      border-color: transparent;\n",
              "      border-right-color: var(--fill-color);\n",
              "      border-top-color: var(--fill-color);\n",
              "    }\n",
              "    60% {\n",
              "      border-color: transparent;\n",
              "      border-right-color: var(--fill-color);\n",
              "    }\n",
              "    80% {\n",
              "      border-color: transparent;\n",
              "      border-right-color: var(--fill-color);\n",
              "      border-bottom-color: var(--fill-color);\n",
              "    }\n",
              "    90% {\n",
              "      border-color: transparent;\n",
              "      border-bottom-color: var(--fill-color);\n",
              "    }\n",
              "  }\n",
              "</style>\n",
              "\n",
              "  <script>\n",
              "    async function quickchart(key) {\n",
              "      const quickchartButtonEl =\n",
              "        document.querySelector('#' + key + ' button');\n",
              "      quickchartButtonEl.disabled = true;  // To prevent multiple clicks.\n",
              "      quickchartButtonEl.classList.add('colab-df-spinner');\n",
              "      try {\n",
              "        const charts = await google.colab.kernel.invokeFunction(\n",
              "            'suggestCharts', [key], {});\n",
              "      } catch (error) {\n",
              "        console.error('Error during call to suggestCharts:', error);\n",
              "      }\n",
              "      quickchartButtonEl.classList.remove('colab-df-spinner');\n",
              "      quickchartButtonEl.classList.add('colab-df-quickchart-complete');\n",
              "    }\n",
              "    (() => {\n",
              "      let quickchartButtonEl =\n",
              "        document.querySelector('#df-b27ca114-e376-4a5f-bdff-901d218e29fb button');\n",
              "      quickchartButtonEl.style.display =\n",
              "        google.colab.kernel.accessAllowed ? 'block' : 'none';\n",
              "    })();\n",
              "  </script>\n",
              "</div>\n",
              "\n",
              "    </div>\n",
              "  </div>\n"
            ],
            "application/vnd.google.colaboratory.intrinsic+json": {
              "type": "dataframe",
              "variable_name": "data"
            }
          },
          "metadata": {},
          "execution_count": 4
        }
      ]
    },
    {
      "cell_type": "code",
      "source": [
        "class FacesData(Dataset):\n",
        "    def __init__(self, df):\n",
        "        super(FacesData).__init__()\n",
        "        self.df = df\n",
        "        self.normalize = transforms.Normalize(mean=[0.485, 0.456, 0.406],\n",
        "                                              std=[0.229, 0.224, 0.225])\n",
        "        self.color_jitter = transforms.ColorJitter(brightness=0.1, contrast=0.1, saturation=0.1, hue=0.1)\n",
        "    def __len__(self):\n",
        "      return len(self.df)\n",
        "\n",
        "    def __getitem__(self, ix):\n",
        "        img_path = 'P1_Facial_Keypoints/data/training/' + self.df.iloc[ix,0]\n",
        "        img = cv2.cvtColor(cv2.imread(img_path),cv2.COLOR_BGR2RGB)/255.\n",
        "        kp = deepcopy(self.df.iloc[ix,1:].tolist())\n",
        "        kp_x = (np.array(kp[0::2])/img.shape[1]).tolist()\n",
        "        kp_y = (np.array(kp[1::2])/img.shape[0]).tolist()\n",
        "        kp2 = kp_x + kp_y\n",
        "        kp2 = torch.tensor(kp2)\n",
        "        img = self.preprocess_input(img)\n",
        "        return img, kp2\n",
        "\n",
        "    def preprocess_input(self, img):\n",
        "        img = cv2.resize(img, (224,224))\n",
        "        # img = self.transform(img).float()\n",
        "        img = torch.tensor(img).permute(2,0,1)\n",
        "        img = self.color_jitter(img)\n",
        "        img = self.normalize(img).float()\n",
        "        return img\n",
        "\n",
        "    def load_img(self, ix):\n",
        "        img_path = 'P1_Facial_Keypoints/data/training/' + self.df.iloc[ix,0]\n",
        "        img = cv2.imread(img_path)\n",
        "        img =cv2.cvtColor(img, cv2.COLOR_BGR2RGB)/255.\n",
        "        img = cv2.resize(img, (224,224))\n",
        "        return img"
      ],
      "metadata": {
        "id": "eeiwhLmsmfmm"
      },
      "execution_count": 5,
      "outputs": []
    },
    {
      "cell_type": "code",
      "source": [
        "train,test = train_test_split(data,test_size=0.2,random_state=42)\n",
        "train_ds = FacesData(train.reset_index(drop=True))\n",
        "test_ds = FacesData(test.reset_index(drop=True))\n",
        "\n",
        "train_loader = DataLoader(train_ds,batch_size=32,shuffle=True,pin_memory=True,num_workers=2)\n",
        "test_loader = DataLoader(test_ds,batch_size=32,pin_memory=True,num_workers=2)"
      ],
      "metadata": {
        "id": "kWGkm2-SnA2d"
      },
      "execution_count": 6,
      "outputs": []
    },
    {
      "cell_type": "code",
      "source": [
        "def get_model():\n",
        "  model = models.vgg16(weights=models.VGG16_Weights.IMAGENET1K_V1)\n",
        "  for param in model.parameters():\n",
        "        param.requires_grad = False\n",
        "  model.avgpool = nn.Sequential( nn.Conv2d(512,512,3),\n",
        "                                nn.BatchNorm2d(512),\n",
        "                                nn.ReLU(),\n",
        "                                nn.MaxPool2d(2),\n",
        "                                nn.Flatten())\n",
        "  model.classifier = nn.Sequential(\n",
        "    nn.Linear(2048, 512),\n",
        "    nn.ReLU(),\n",
        "    nn.Dropout(0.5),\n",
        "    nn.Linear(512, 136),\n",
        "    nn.Sigmoid()\n",
        "  )\n",
        "\n",
        "  criterion = nn.L1Loss()\n",
        "  optimizer = Adam(model.parameters(),lr=1e-4)\n",
        "  lr_scheduler = optim.lr_scheduler.StepLR(optimizer, step_size=30, gamma=0.1)\n",
        "  return model.to(device),criterion, optimizer, lr_scheduler"
      ],
      "metadata": {
        "id": "ha9aXr-jpRdM"
      },
      "execution_count": 7,
      "outputs": []
    },
    {
      "cell_type": "code",
      "source": [
        "model, criterion, optimizer,lr_scheduler = get_model()"
      ],
      "metadata": {
        "colab": {
          "base_uri": "https://localhost:8080/"
        },
        "id": "JE4VcF3xti9f",
        "outputId": "350beb3b-5036-4ca1-9412-27c6f94da16f"
      },
      "execution_count": 8,
      "outputs": [
        {
          "output_type": "stream",
          "name": "stderr",
          "text": [
            "/usr/local/lib/python3.10/dist-packages/torchvision/models/_utils.py:208: UserWarning: The parameter 'pretrained' is deprecated since 0.13 and may be removed in the future, please use 'weights' instead.\n",
            "  warnings.warn(\n",
            "/usr/local/lib/python3.10/dist-packages/torchvision/models/_utils.py:223: UserWarning: Arguments other than a weight enum or `None` for 'weights' are deprecated since 0.13 and may be removed in the future. The current behavior is equivalent to passing `weights=VGG16_Weights.IMAGENET1K_V1`. You can also use `weights=VGG16_Weights.DEFAULT` to get the most up-to-date weights.\n",
            "  warnings.warn(msg)\n"
          ]
        }
      ]
    },
    {
      "cell_type": "code",
      "source": [
        "EPOCHS = 50\n",
        "train_loss, test_loss = [], []\n",
        "\n",
        "for epoch in range(EPOCHS):\n",
        "  epoch_train_loss, epoch_test_loss = 0, 0\n",
        "  with tqdm(train_loader,unit='batch') as tepoch:\n",
        "    tepoch.set_description(f'Epoch {epoch+1}/{EPOCHS} - Training')\n",
        "    model.train()\n",
        "    for ix, (img, kps) in enumerate(train_loader):\n",
        "      img, kps = img.to(device), kps.to(device)\n",
        "\n",
        "      optimizer.zero_grad()\n",
        "      kps_pred = model(img)\n",
        "      loss = criterion(kps_pred,kps)\n",
        "      loss.backward()\n",
        "      optimizer.step()\n",
        "\n",
        "      epoch_train_loss += loss.item()\n",
        "      tepoch.set_postfix(loss=epoch_train_loss/ (tepoch.n + 1))\n",
        "      tepoch.update(1)\n",
        "\n",
        "    # validate\n",
        "    # with tqdm(test_loader,unit='batch', desc=f'Epoch {epoch+1}/{EPOCHS} - Validation') as vepoch:\n",
        "    model.eval()\n",
        "    with torch.no_grad():\n",
        "      for img, kps in tqdm(test_loader,desc=\"Epoch-{} Validate\".format(epoch+1)):\n",
        "        img, kps = img.to(device), kps.to(device)\n",
        "        kps_pred = model(img)\n",
        "        loss = criterion(kps_pred,kps)\n",
        "        epoch_test_loss += loss.item()\n",
        "          # vepoch.set_postfix(loss=epoch_test_loss/(vepoch.n+1))\n",
        "          # vepoch.update(1)\n",
        "\n",
        "    lr_scheduler.step()\n",
        "    avg_train_loss = epoch_train_loss / len(train_loader)\n",
        "    avg_test_loss = epoch_test_loss / len(test_loader)\n",
        "    train_loss.append(avg_train_loss)\n",
        "    test_loss.append(avg_test_loss)\n",
        "\n",
        "\n",
        "    print(f'Epoch [{epoch+1}/{EPOCHS}], ',\n",
        "         f'Training Loss {avg_train_loss:.4f}, ',\n",
        "          f'Validation Loss {avg_test_loss:.4f}, ',\n",
        "          f'LR {lr_scheduler.get_last_lr()[0]}')\n",
        "\n",
        "torch.save(model.state_dict(),'facial_keypoints_detection_model.pth')"
      ],
      "metadata": {
        "colab": {
          "base_uri": "https://localhost:8080/"
        },
        "id": "c3_Mpo9Its7_",
        "outputId": "2a9e0ec4-8aeb-41ab-f71c-12ae5f679485"
      },
      "execution_count": 9,
      "outputs": [
        {
          "output_type": "stream",
          "name": "stderr",
          "text": [
            "Epoch 1/50 - Training: 100%|██████████| 87/87 [00:52<00:00,  2.63batch/s, loss=0.0619]\n",
            "Epoch-1 Validate:   0%|          | 0/22 [00:00<?, ?it/s]\u001b[A\n",
            "Epoch-1 Validate:   5%|▍         | 1/22 [00:01<00:37,  1.80s/it]\u001b[A\n",
            "Epoch-1 Validate:   9%|▉         | 2/22 [00:01<00:16,  1.19it/s]\u001b[A\n",
            "Epoch-1 Validate:  14%|█▎        | 3/22 [00:03<00:21,  1.12s/it]\u001b[A\n",
            "Epoch-1 Validate:  18%|█▊        | 4/22 [00:03<00:13,  1.35it/s]\u001b[A\n",
            "Epoch-1 Validate:  23%|██▎       | 5/22 [00:04<00:13,  1.22it/s]\u001b[A\n",
            "Epoch-1 Validate:  27%|██▋       | 6/22 [00:04<00:09,  1.67it/s]\u001b[A\n",
            "Epoch-1 Validate:  32%|███▏      | 7/22 [00:05<00:10,  1.47it/s]\u001b[A\n",
            "Epoch-1 Validate:  36%|███▋      | 8/22 [00:05<00:07,  1.93it/s]\u001b[A\n",
            "Epoch-1 Validate:  41%|████      | 9/22 [00:06<00:07,  1.74it/s]\u001b[A\n",
            "Epoch-1 Validate:  45%|████▌     | 10/22 [00:06<00:05,  2.23it/s]\u001b[A\n",
            "Epoch-1 Validate:  50%|█████     | 11/22 [00:07<00:05,  1.85it/s]\u001b[A\n",
            "Epoch-1 Validate:  55%|█████▍    | 12/22 [00:07<00:04,  2.34it/s]\u001b[A\n",
            "Epoch-1 Validate:  59%|█████▉    | 13/22 [00:08<00:04,  1.84it/s]\u001b[A\n",
            "Epoch-1 Validate:  64%|██████▎   | 14/22 [00:08<00:03,  2.33it/s]\u001b[A\n",
            "Epoch-1 Validate:  68%|██████▊   | 15/22 [00:09<00:03,  1.88it/s]\u001b[A\n",
            "Epoch-1 Validate:  73%|███████▎  | 16/22 [00:09<00:02,  2.36it/s]\u001b[A\n",
            "Epoch-1 Validate:  77%|███████▋  | 17/22 [00:10<00:02,  2.06it/s]\u001b[A\n",
            "Epoch-1 Validate:  82%|████████▏ | 18/22 [00:10<00:01,  2.54it/s]\u001b[A\n",
            "Epoch-1 Validate:  86%|████████▋ | 19/22 [00:11<00:01,  1.97it/s]\u001b[A\n",
            "Epoch-1 Validate:  91%|█████████ | 20/22 [00:11<00:00,  2.48it/s]\u001b[A\n",
            "Epoch-1 Validate:  95%|█████████▌| 21/22 [00:11<00:00,  2.48it/s]\u001b[A\n",
            "Epoch-1 Validate: 100%|██████████| 22/22 [00:11<00:00,  1.87it/s]\n",
            "Epoch 1/50 - Training: 100%|██████████| 87/87 [01:03<00:00,  1.36batch/s, loss=0.0619]\n"
          ]
        },
        {
          "output_type": "stream",
          "name": "stdout",
          "text": [
            "Epoch [1/50],  Training Loss 0.0619,  Validation Loss 0.0398,  LR 0.0001\n"
          ]
        },
        {
          "output_type": "stream",
          "name": "stderr",
          "text": [
            "Epoch 2/50 - Training: 100%|██████████| 87/87 [00:53<00:00,  1.41batch/s, loss=0.0452]\n",
            "Epoch-2 Validate:   0%|          | 0/22 [00:00<?, ?it/s]\u001b[A\n",
            "Epoch-2 Validate:   5%|▍         | 1/22 [00:01<00:40,  1.91s/it]\u001b[A\n",
            "Epoch-2 Validate:   9%|▉         | 2/22 [00:02<00:18,  1.07it/s]\u001b[A\n",
            "Epoch-2 Validate:  14%|█▎        | 3/22 [00:02<00:15,  1.21it/s]\u001b[A\n",
            "Epoch-2 Validate:  18%|█▊        | 4/22 [00:03<00:11,  1.59it/s]\u001b[A\n",
            "Epoch-2 Validate:  23%|██▎       | 5/22 [00:03<00:10,  1.56it/s]\u001b[A\n",
            "Epoch-2 Validate:  27%|██▋       | 6/22 [00:04<00:07,  2.05it/s]\u001b[A\n",
            "Epoch-2 Validate:  32%|███▏      | 7/22 [00:04<00:08,  1.71it/s]\u001b[A\n",
            "Epoch-2 Validate:  36%|███▋      | 8/22 [00:04<00:06,  2.23it/s]\u001b[A\n",
            "Epoch-2 Validate:  41%|████      | 9/22 [00:05<00:07,  1.82it/s]\u001b[A\n",
            "Epoch-2 Validate:  45%|████▌     | 10/22 [00:05<00:05,  2.31it/s]\u001b[A\n",
            "Epoch-2 Validate:  50%|█████     | 11/22 [00:06<00:05,  1.86it/s]\u001b[A\n",
            "Epoch-2 Validate:  55%|█████▍    | 12/22 [00:06<00:04,  2.36it/s]\u001b[A\n",
            "Epoch-2 Validate:  59%|█████▉    | 13/22 [00:07<00:04,  1.86it/s]\u001b[A\n",
            "Epoch-2 Validate:  64%|██████▎   | 14/22 [00:07<00:03,  2.33it/s]\u001b[A\n",
            "Epoch-2 Validate:  68%|██████▊   | 15/22 [00:08<00:03,  1.94it/s]\u001b[A\n",
            "Epoch-2 Validate:  73%|███████▎  | 16/22 [00:08<00:02,  2.43it/s]\u001b[A\n",
            "Epoch-2 Validate:  77%|███████▋  | 17/22 [00:09<00:02,  1.94it/s]\u001b[A\n",
            "Epoch-2 Validate:  82%|████████▏ | 18/22 [00:09<00:01,  2.43it/s]\u001b[A\n",
            "Epoch-2 Validate:  86%|████████▋ | 19/22 [00:10<00:01,  1.52it/s]\u001b[A\n",
            "Epoch-2 Validate:  91%|█████████ | 20/22 [00:11<00:01,  1.96it/s]\u001b[A\n",
            "Epoch-2 Validate:  95%|█████████▌| 21/22 [00:11<00:00,  1.62it/s]\u001b[A\n",
            "Epoch-2 Validate: 100%|██████████| 22/22 [00:12<00:00,  1.81it/s]\n",
            "Epoch 2/50 - Training: 100%|██████████| 87/87 [01:05<00:00,  1.33batch/s, loss=0.0452]\n"
          ]
        },
        {
          "output_type": "stream",
          "name": "stdout",
          "text": [
            "Epoch [2/50],  Training Loss 0.0452,  Validation Loss 0.0315,  LR 0.0001\n"
          ]
        },
        {
          "output_type": "stream",
          "name": "stderr",
          "text": [
            "Epoch 3/50 - Training: 100%|██████████| 87/87 [00:47<00:00,  2.33batch/s, loss=0.0384]\n",
            "Epoch-3 Validate:   0%|          | 0/22 [00:00<?, ?it/s]\u001b[A\n",
            "Epoch-3 Validate:   5%|▍         | 1/22 [00:01<00:22,  1.08s/it]\u001b[A\n",
            "Epoch-3 Validate:   9%|▉         | 2/22 [00:01<00:10,  1.85it/s]\u001b[A\n",
            "Epoch-3 Validate:  14%|█▎        | 3/22 [00:01<00:10,  1.75it/s]\u001b[A\n",
            "Epoch-3 Validate:  18%|█▊        | 4/22 [00:02<00:08,  2.23it/s]\u001b[A\n",
            "Epoch-3 Validate:  23%|██▎       | 5/22 [00:02<00:08,  1.95it/s]\u001b[A\n",
            "Epoch-3 Validate:  27%|██▋       | 6/22 [00:03<00:07,  2.21it/s]\u001b[A\n",
            "Epoch-3 Validate:  32%|███▏      | 7/22 [00:03<00:07,  2.06it/s]\u001b[A\n",
            "Epoch-3 Validate:  36%|███▋      | 8/22 [00:04<00:06,  2.21it/s]\u001b[A\n",
            "Epoch-3 Validate:  41%|████      | 9/22 [00:04<00:06,  2.14it/s]\u001b[A\n",
            "Epoch-3 Validate:  45%|████▌     | 10/22 [00:04<00:05,  2.19it/s]\u001b[A\n",
            "Epoch-3 Validate:  50%|█████     | 11/22 [00:05<00:05,  2.19it/s]\u001b[A\n",
            "Epoch-3 Validate:  55%|█████▍    | 12/22 [00:05<00:04,  2.14it/s]\u001b[A\n",
            "Epoch-3 Validate:  59%|█████▉    | 13/22 [00:06<00:03,  2.27it/s]\u001b[A\n",
            "Epoch-3 Validate:  64%|██████▎   | 14/22 [00:06<00:03,  2.11it/s]\u001b[A\n",
            "Epoch-3 Validate:  68%|██████▊   | 15/22 [00:07<00:02,  2.34it/s]\u001b[A\n",
            "Epoch-3 Validate:  73%|███████▎  | 16/22 [00:07<00:02,  2.13it/s]\u001b[A\n",
            "Epoch-3 Validate:  77%|███████▋  | 17/22 [00:08<00:02,  2.26it/s]\u001b[A\n",
            "Epoch-3 Validate:  82%|████████▏ | 18/22 [00:08<00:01,  2.14it/s]\u001b[A\n",
            "Epoch-3 Validate:  86%|████████▋ | 19/22 [00:09<00:01,  2.17it/s]\u001b[A\n",
            "Epoch-3 Validate:  91%|█████████ | 20/22 [00:09<00:00,  2.09it/s]\u001b[A\n",
            "Epoch-3 Validate:  95%|█████████▌| 21/22 [00:10<00:00,  1.79it/s]\u001b[A\n",
            "Epoch-3 Validate: 100%|██████████| 22/22 [00:10<00:00,  2.09it/s]\n",
            "Epoch 3/50 - Training: 100%|██████████| 87/87 [00:58<00:00,  1.49batch/s, loss=0.0384]\n"
          ]
        },
        {
          "output_type": "stream",
          "name": "stdout",
          "text": [
            "Epoch [3/50],  Training Loss 0.0384,  Validation Loss 0.0275,  LR 0.0001\n"
          ]
        },
        {
          "output_type": "stream",
          "name": "stderr",
          "text": [
            "Epoch 4/50 - Training: 100%|██████████| 87/87 [00:46<00:00,  2.65batch/s, loss=0.0344]\n",
            "Epoch-4 Validate:   0%|          | 0/22 [00:00<?, ?it/s]\u001b[A\n",
            "Epoch-4 Validate:   5%|▍         | 1/22 [00:01<00:33,  1.58s/it]\u001b[A\n",
            "Epoch-4 Validate:   9%|▉         | 2/22 [00:01<00:17,  1.14it/s]\u001b[A\n",
            "Epoch-4 Validate:  14%|█▎        | 3/22 [00:02<00:17,  1.07it/s]\u001b[A\n",
            "Epoch-4 Validate:  18%|█▊        | 4/22 [00:03<00:11,  1.54it/s]\u001b[A\n",
            "Epoch-4 Validate:  23%|██▎       | 5/22 [00:03<00:11,  1.50it/s]\u001b[A\n",
            "Epoch-4 Validate:  27%|██▋       | 6/22 [00:04<00:07,  2.03it/s]\u001b[A\n",
            "Epoch-4 Validate:  32%|███▏      | 7/22 [00:04<00:08,  1.68it/s]\u001b[A\n",
            "Epoch-4 Validate:  36%|███▋      | 8/22 [00:05<00:06,  2.19it/s]\u001b[A\n",
            "Epoch-4 Validate:  41%|████      | 9/22 [00:05<00:06,  1.89it/s]\u001b[A\n",
            "Epoch-4 Validate:  45%|████▌     | 10/22 [00:05<00:05,  2.40it/s]\u001b[A\n",
            "Epoch-4 Validate:  50%|█████     | 11/22 [00:06<00:05,  1.97it/s]\u001b[A\n",
            "Epoch-4 Validate:  55%|█████▍    | 12/22 [00:06<00:04,  2.47it/s]\u001b[A\n",
            "Epoch-4 Validate:  59%|█████▉    | 13/22 [00:07<00:04,  1.93it/s]\u001b[A\n",
            "Epoch-4 Validate:  64%|██████▎   | 14/22 [00:07<00:03,  2.42it/s]\u001b[A\n",
            "Epoch-4 Validate:  68%|██████▊   | 15/22 [00:08<00:03,  1.93it/s]\u001b[A\n",
            "Epoch-4 Validate:  73%|███████▎  | 16/22 [00:08<00:02,  2.43it/s]\u001b[A\n",
            "Epoch-4 Validate:  77%|███████▋  | 17/22 [00:09<00:02,  2.06it/s]\u001b[A\n",
            "Epoch-4 Validate:  82%|████████▏ | 18/22 [00:09<00:01,  2.58it/s]\u001b[A\n",
            "Epoch-4 Validate:  86%|████████▋ | 19/22 [00:10<00:01,  1.99it/s]\u001b[A\n",
            "Epoch-4 Validate:  91%|█████████ | 20/22 [00:10<00:00,  2.50it/s]\u001b[A\n",
            "Epoch-4 Validate:  95%|█████████▌| 21/22 [00:10<00:00,  2.14it/s]\u001b[A\n",
            "Epoch-4 Validate: 100%|██████████| 22/22 [00:11<00:00,  1.97it/s]\n",
            "Epoch 4/50 - Training: 100%|██████████| 87/87 [00:57<00:00,  1.50batch/s, loss=0.0344]\n"
          ]
        },
        {
          "output_type": "stream",
          "name": "stdout",
          "text": [
            "Epoch [4/50],  Training Loss 0.0344,  Validation Loss 0.0268,  LR 0.0001\n"
          ]
        },
        {
          "output_type": "stream",
          "name": "stderr",
          "text": [
            "Epoch 5/50 - Training: 100%|██████████| 87/87 [00:45<00:00,  3.09batch/s, loss=0.032]\n",
            "Epoch-5 Validate:   0%|          | 0/22 [00:00<?, ?it/s]\u001b[A\n",
            "Epoch-5 Validate:   5%|▍         | 1/22 [00:01<00:23,  1.10s/it]\u001b[A\n",
            "Epoch-5 Validate:   9%|▉         | 2/22 [00:01<00:11,  1.81it/s]\u001b[A\n",
            "Epoch-5 Validate:  14%|█▎        | 3/22 [00:01<00:11,  1.59it/s]\u001b[A\n",
            "Epoch-5 Validate:  18%|█▊        | 4/22 [00:02<00:07,  2.25it/s]\u001b[A\n",
            "Epoch-5 Validate:  23%|██▎       | 5/22 [00:03<00:12,  1.33it/s]\u001b[A\n",
            "Epoch-5 Validate:  27%|██▋       | 6/22 [00:03<00:08,  1.81it/s]\u001b[A\n",
            "Epoch-5 Validate:  32%|███▏      | 7/22 [00:04<00:11,  1.36it/s]\u001b[A\n",
            "Epoch-5 Validate:  36%|███▋      | 8/22 [00:04<00:07,  1.80it/s]\u001b[A\n",
            "Epoch-5 Validate:  41%|████      | 9/22 [00:06<00:10,  1.21it/s]\u001b[A\n",
            "Epoch-5 Validate:  45%|████▌     | 10/22 [00:06<00:07,  1.60it/s]\u001b[A\n",
            "Epoch-5 Validate:  50%|█████     | 11/22 [00:07<00:07,  1.39it/s]\u001b[A\n",
            "Epoch-5 Validate:  55%|█████▍    | 12/22 [00:07<00:05,  1.81it/s]\u001b[A\n",
            "Epoch-5 Validate:  59%|█████▉    | 13/22 [00:08<00:05,  1.63it/s]\u001b[A\n",
            "Epoch-5 Validate:  64%|██████▎   | 14/22 [00:08<00:03,  2.08it/s]\u001b[A\n",
            "Epoch-5 Validate:  68%|██████▊   | 15/22 [00:09<00:03,  1.92it/s]\u001b[A\n",
            "Epoch-5 Validate:  73%|███████▎  | 16/22 [00:09<00:02,  2.43it/s]\u001b[A\n",
            "Epoch-5 Validate:  77%|███████▋  | 17/22 [00:09<00:02,  2.07it/s]\u001b[A\n",
            "Epoch-5 Validate:  82%|████████▏ | 18/22 [00:10<00:01,  2.46it/s]\u001b[A\n",
            "Epoch-5 Validate:  86%|████████▋ | 19/22 [00:10<00:01,  2.05it/s]\u001b[A\n",
            "Epoch-5 Validate:  91%|█████████ | 20/22 [00:11<00:00,  2.36it/s]\u001b[A\n",
            "Epoch-5 Validate:  95%|█████████▌| 21/22 [00:11<00:00,  2.12it/s]\u001b[A\n",
            "Epoch-5 Validate: 100%|██████████| 22/22 [00:11<00:00,  1.85it/s]\n",
            "Epoch 5/50 - Training: 100%|██████████| 87/87 [00:57<00:00,  1.51batch/s, loss=0.032]\n"
          ]
        },
        {
          "output_type": "stream",
          "name": "stdout",
          "text": [
            "Epoch [5/50],  Training Loss 0.0320,  Validation Loss 0.0254,  LR 0.0001\n"
          ]
        },
        {
          "output_type": "stream",
          "name": "stderr",
          "text": [
            "Epoch 6/50 - Training: 100%|██████████| 87/87 [00:45<00:00,  3.40batch/s, loss=0.0301]\n",
            "Epoch-6 Validate:   0%|          | 0/22 [00:00<?, ?it/s]\u001b[A\n",
            "Epoch-6 Validate:   5%|▍         | 1/22 [00:01<00:23,  1.14s/it]\u001b[A\n",
            "Epoch-6 Validate:   9%|▉         | 2/22 [00:01<00:11,  1.77it/s]\u001b[A\n",
            "Epoch-6 Validate:  14%|█▎        | 3/22 [00:01<00:11,  1.71it/s]\u001b[A\n",
            "Epoch-6 Validate:  18%|█▊        | 4/22 [00:02<00:07,  2.32it/s]\u001b[A\n",
            "Epoch-6 Validate:  23%|██▎       | 5/22 [00:02<00:09,  1.81it/s]\u001b[A\n",
            "Epoch-6 Validate:  27%|██▋       | 6/22 [00:03<00:06,  2.39it/s]\u001b[A\n",
            "Epoch-6 Validate:  32%|███▏      | 7/22 [00:03<00:07,  1.89it/s]\u001b[A\n",
            "Epoch-6 Validate:  36%|███▋      | 8/22 [00:03<00:05,  2.43it/s]\u001b[A\n",
            "Epoch-6 Validate:  41%|████      | 9/22 [00:04<00:06,  2.02it/s]\u001b[A\n",
            "Epoch-6 Validate:  45%|████▌     | 10/22 [00:04<00:04,  2.55it/s]\u001b[A\n",
            "Epoch-6 Validate:  50%|█████     | 11/22 [00:05<00:05,  1.96it/s]\u001b[A\n",
            "Epoch-6 Validate:  55%|█████▍    | 12/22 [00:05<00:04,  2.45it/s]\u001b[A\n",
            "Epoch-6 Validate:  59%|█████▉    | 13/22 [00:07<00:06,  1.49it/s]\u001b[A\n",
            "Epoch-6 Validate:  64%|██████▎   | 14/22 [00:07<00:04,  1.92it/s]\u001b[A\n",
            "Epoch-6 Validate:  68%|██████▊   | 15/22 [00:08<00:04,  1.44it/s]\u001b[A\n",
            "Epoch-6 Validate:  73%|███████▎  | 16/22 [00:08<00:03,  1.87it/s]\u001b[A\n",
            "Epoch-6 Validate:  77%|███████▋  | 17/22 [00:09<00:03,  1.29it/s]\u001b[A\n",
            "Epoch-6 Validate:  82%|████████▏ | 18/22 [00:09<00:02,  1.68it/s]\u001b[A\n",
            "Epoch-6 Validate:  86%|████████▋ | 19/22 [00:11<00:02,  1.21it/s]\u001b[A\n",
            "Epoch-6 Validate:  91%|█████████ | 20/22 [00:11<00:01,  1.59it/s]\u001b[A\n",
            "Epoch-6 Validate:  95%|█████████▌| 21/22 [00:12<00:00,  1.68it/s]\u001b[A\n",
            "Epoch-6 Validate: 100%|██████████| 22/22 [00:12<00:00,  1.80it/s]\n",
            "Epoch 6/50 - Training: 100%|██████████| 87/87 [00:57<00:00,  1.51batch/s, loss=0.0301]\n"
          ]
        },
        {
          "output_type": "stream",
          "name": "stdout",
          "text": [
            "Epoch [6/50],  Training Loss 0.0301,  Validation Loss 0.0254,  LR 0.0001\n"
          ]
        },
        {
          "output_type": "stream",
          "name": "stderr",
          "text": [
            "Epoch 7/50 - Training: 100%|██████████| 87/87 [00:45<00:00,  1.90batch/s, loss=0.0281]\n",
            "Epoch-7 Validate:   0%|          | 0/22 [00:00<?, ?it/s]\u001b[A\n",
            "Epoch-7 Validate:   5%|▍         | 1/22 [00:01<00:25,  1.19s/it]\u001b[A\n",
            "Epoch-7 Validate:   9%|▉         | 2/22 [00:01<00:11,  1.70it/s]\u001b[A\n",
            "Epoch-7 Validate:  14%|█▎        | 3/22 [00:02<00:12,  1.54it/s]\u001b[A\n",
            "Epoch-7 Validate:  18%|█▊        | 4/22 [00:02<00:08,  2.18it/s]\u001b[A\n",
            "Epoch-7 Validate:  23%|██▎       | 5/22 [00:03<00:10,  1.67it/s]\u001b[A\n",
            "Epoch-7 Validate:  27%|██▋       | 6/22 [00:03<00:07,  2.19it/s]\u001b[A\n",
            "Epoch-7 Validate:  32%|███▏      | 7/22 [00:04<00:08,  1.82it/s]\u001b[A\n",
            "Epoch-7 Validate:  36%|███▋      | 8/22 [00:04<00:05,  2.35it/s]\u001b[A\n",
            "Epoch-7 Validate:  41%|████      | 9/22 [00:04<00:06,  1.93it/s]\u001b[A\n",
            "Epoch-7 Validate:  45%|████▌     | 10/22 [00:05<00:04,  2.44it/s]\u001b[A\n",
            "Epoch-7 Validate:  50%|█████     | 11/22 [00:05<00:05,  2.14it/s]\u001b[A\n",
            "Epoch-7 Validate:  55%|█████▍    | 12/22 [00:05<00:04,  2.39it/s]\u001b[A\n",
            "Epoch-7 Validate:  59%|█████▉    | 13/22 [00:06<00:04,  2.07it/s]\u001b[A\n",
            "Epoch-7 Validate:  64%|██████▎   | 14/22 [00:06<00:03,  2.52it/s]\u001b[A\n",
            "Epoch-7 Validate:  68%|██████▊   | 15/22 [00:07<00:03,  2.04it/s]\u001b[A\n",
            "Epoch-7 Validate:  73%|███████▎  | 16/22 [00:07<00:02,  2.44it/s]\u001b[A\n",
            "Epoch-7 Validate:  77%|███████▋  | 17/22 [00:08<00:02,  2.12it/s]\u001b[A\n",
            "Epoch-7 Validate:  82%|████████▏ | 18/22 [00:08<00:01,  2.32it/s]\u001b[A\n",
            "Epoch-7 Validate:  86%|████████▋ | 19/22 [00:09<00:01,  2.07it/s]\u001b[A\n",
            "Epoch-7 Validate:  91%|█████████ | 20/22 [00:09<00:00,  2.29it/s]\u001b[A\n",
            "Epoch-7 Validate:  95%|█████████▌| 21/22 [00:10<00:00,  2.12it/s]\u001b[A\n",
            "Epoch-7 Validate: 100%|██████████| 22/22 [00:10<00:00,  2.12it/s]\n",
            "Epoch 7/50 - Training: 100%|██████████| 87/87 [00:55<00:00,  1.57batch/s, loss=0.0281]\n"
          ]
        },
        {
          "output_type": "stream",
          "name": "stdout",
          "text": [
            "Epoch [7/50],  Training Loss 0.0281,  Validation Loss 0.0228,  LR 0.0001\n"
          ]
        },
        {
          "output_type": "stream",
          "name": "stderr",
          "text": [
            "Epoch 8/50 - Training: 100%|██████████| 87/87 [00:44<00:00,  3.04batch/s, loss=0.027]\n",
            "Epoch-8 Validate:   0%|          | 0/22 [00:00<?, ?it/s]\u001b[A\n",
            "Epoch-8 Validate:   5%|▍         | 1/22 [00:01<00:30,  1.46s/it]\u001b[A\n",
            "Epoch-8 Validate:   9%|▉         | 2/22 [00:01<00:14,  1.34it/s]\u001b[A\n",
            "Epoch-8 Validate:  14%|█▎        | 3/22 [00:02<00:17,  1.07it/s]\u001b[A\n",
            "Epoch-8 Validate:  18%|█▊        | 4/22 [00:03<00:11,  1.58it/s]\u001b[A\n",
            "Epoch-8 Validate:  23%|██▎       | 5/22 [00:04<00:14,  1.14it/s]\u001b[A\n",
            "Epoch-8 Validate:  27%|██▋       | 6/22 [00:04<00:10,  1.56it/s]\u001b[A\n",
            "Epoch-8 Validate:  32%|███▏      | 7/22 [00:05<00:12,  1.19it/s]\u001b[A\n",
            "Epoch-8 Validate:  36%|███▋      | 8/22 [00:05<00:08,  1.60it/s]\u001b[A\n",
            "Epoch-8 Validate:  41%|████      | 9/22 [00:06<00:08,  1.50it/s]\u001b[A\n",
            "Epoch-8 Validate:  45%|████▌     | 10/22 [00:06<00:06,  1.91it/s]\u001b[A\n",
            "Epoch-8 Validate:  50%|█████     | 11/22 [00:07<00:06,  1.66it/s]\u001b[A\n",
            "Epoch-8 Validate:  55%|█████▍    | 12/22 [00:07<00:04,  2.13it/s]\u001b[A\n",
            "Epoch-8 Validate:  59%|█████▉    | 13/22 [00:08<00:04,  1.80it/s]\u001b[A\n",
            "Epoch-8 Validate:  64%|██████▎   | 14/22 [00:08<00:03,  2.29it/s]\u001b[A\n",
            "Epoch-8 Validate:  68%|██████▊   | 15/22 [00:09<00:03,  1.89it/s]\u001b[A\n",
            "Epoch-8 Validate:  73%|███████▎  | 16/22 [00:09<00:02,  2.38it/s]\u001b[A\n",
            "Epoch-8 Validate:  77%|███████▋  | 17/22 [00:10<00:02,  1.98it/s]\u001b[A\n",
            "Epoch-8 Validate:  82%|████████▏ | 18/22 [00:10<00:01,  2.47it/s]\u001b[A\n",
            "Epoch-8 Validate:  86%|████████▋ | 19/22 [00:11<00:01,  1.91it/s]\u001b[A\n",
            "Epoch-8 Validate:  91%|█████████ | 20/22 [00:11<00:00,  2.40it/s]\u001b[A\n",
            "Epoch-8 Validate:  95%|█████████▌| 21/22 [00:12<00:00,  2.09it/s]\u001b[A\n",
            "Epoch-8 Validate: 100%|██████████| 22/22 [00:12<00:00,  1.79it/s]\n",
            "Epoch 8/50 - Training: 100%|██████████| 87/87 [00:57<00:00,  1.52batch/s, loss=0.027]\n"
          ]
        },
        {
          "output_type": "stream",
          "name": "stdout",
          "text": [
            "Epoch [8/50],  Training Loss 0.0270,  Validation Loss 0.0221,  LR 0.0001\n"
          ]
        },
        {
          "output_type": "stream",
          "name": "stderr",
          "text": [
            "Epoch 9/50 - Training: 100%|██████████| 87/87 [00:45<00:00,  2.80batch/s, loss=0.0259]\n",
            "Epoch-9 Validate:   0%|          | 0/22 [00:00<?, ?it/s]\u001b[A\n",
            "Epoch-9 Validate:   5%|▍         | 1/22 [00:01<00:22,  1.07s/it]\u001b[A\n",
            "Epoch-9 Validate:   9%|▉         | 2/22 [00:01<00:10,  1.86it/s]\u001b[A\n",
            "Epoch-9 Validate:  14%|█▎        | 3/22 [00:01<00:11,  1.66it/s]\u001b[A\n",
            "Epoch-9 Validate:  18%|█▊        | 4/22 [00:02<00:07,  2.32it/s]\u001b[A\n",
            "Epoch-9 Validate:  23%|██▎       | 5/22 [00:02<00:08,  2.03it/s]\u001b[A\n",
            "Epoch-9 Validate:  27%|██▋       | 6/22 [00:03<00:07,  2.27it/s]\u001b[A\n",
            "Epoch-9 Validate:  32%|███▏      | 7/22 [00:03<00:07,  2.12it/s]\u001b[A\n",
            "Epoch-9 Validate:  36%|███▋      | 8/22 [00:03<00:06,  2.24it/s]\u001b[A\n",
            "Epoch-9 Validate:  41%|████      | 9/22 [00:04<00:06,  1.87it/s]\u001b[A\n",
            "Epoch-9 Validate:  45%|████▌     | 10/22 [00:05<00:06,  1.81it/s]\u001b[A\n",
            "Epoch-9 Validate:  50%|█████     | 11/22 [00:06<00:07,  1.56it/s]\u001b[A\n",
            "Epoch-9 Validate:  55%|█████▍    | 12/22 [00:06<00:06,  1.59it/s]\u001b[A\n",
            "Epoch-9 Validate:  59%|█████▉    | 13/22 [00:07<00:06,  1.42it/s]\u001b[A\n",
            "Epoch-9 Validate:  64%|██████▎   | 14/22 [00:08<00:05,  1.41it/s]\u001b[A\n",
            "Epoch-9 Validate:  68%|██████▊   | 15/22 [00:09<00:05,  1.39it/s]\u001b[A\n",
            "Epoch-9 Validate:  73%|███████▎  | 16/22 [00:09<00:04,  1.39it/s]\u001b[A\n",
            "Epoch-9 Validate:  77%|███████▋  | 17/22 [00:10<00:03,  1.53it/s]\u001b[A\n",
            "Epoch-9 Validate:  82%|████████▏ | 18/22 [00:10<00:02,  1.72it/s]\u001b[A\n",
            "Epoch-9 Validate:  86%|████████▋ | 19/22 [00:11<00:01,  1.76it/s]\u001b[A\n",
            "Epoch-9 Validate:  91%|█████████ | 20/22 [00:11<00:01,  1.99it/s]\u001b[A\n",
            "Epoch-9 Validate:  95%|█████████▌| 21/22 [00:12<00:00,  1.98it/s]\u001b[A\n",
            "Epoch-9 Validate: 100%|██████████| 22/22 [00:12<00:00,  1.79it/s]\n",
            "Epoch 9/50 - Training: 100%|██████████| 87/87 [00:58<00:00,  1.50batch/s, loss=0.0259]\n"
          ]
        },
        {
          "output_type": "stream",
          "name": "stdout",
          "text": [
            "Epoch [9/50],  Training Loss 0.0259,  Validation Loss 0.0215,  LR 0.0001\n"
          ]
        },
        {
          "output_type": "stream",
          "name": "stderr",
          "text": [
            "Epoch 10/50 - Training: 100%|██████████| 87/87 [00:46<00:00,  2.69batch/s, loss=0.0249]\n",
            "Epoch-10 Validate:   0%|          | 0/22 [00:00<?, ?it/s]\u001b[A\n",
            "Epoch-10 Validate:   5%|▍         | 1/22 [00:01<00:23,  1.10s/it]\u001b[A\n",
            "Epoch-10 Validate:   9%|▉         | 2/22 [00:01<00:10,  1.82it/s]\u001b[A\n",
            "Epoch-10 Validate:  14%|█▎        | 3/22 [00:02<00:12,  1.55it/s]\u001b[A\n",
            "Epoch-10 Validate:  18%|█▊        | 4/22 [00:02<00:08,  2.19it/s]\u001b[A\n",
            "Epoch-10 Validate:  23%|██▎       | 5/22 [00:02<00:08,  1.91it/s]\u001b[A\n",
            "Epoch-10 Validate:  27%|██▋       | 6/22 [00:02<00:06,  2.50it/s]\u001b[A\n",
            "Epoch-10 Validate:  32%|███▏      | 7/22 [00:03<00:07,  1.88it/s]\u001b[A\n",
            "Epoch-10 Validate:  36%|███▋      | 8/22 [00:03<00:05,  2.41it/s]\u001b[A\n",
            "Epoch-10 Validate:  41%|████      | 9/22 [00:04<00:06,  1.95it/s]\u001b[A\n",
            "Epoch-10 Validate:  45%|████▌     | 10/22 [00:04<00:04,  2.47it/s]\u001b[A\n",
            "Epoch-10 Validate:  50%|█████     | 11/22 [00:05<00:05,  1.92it/s]\u001b[A\n",
            "Epoch-10 Validate:  55%|█████▍    | 12/22 [00:05<00:04,  2.43it/s]\u001b[A\n",
            "Epoch-10 Validate:  59%|█████▉    | 13/22 [00:06<00:04,  1.90it/s]\u001b[A\n",
            "Epoch-10 Validate:  64%|██████▎   | 14/22 [00:06<00:03,  2.41it/s]\u001b[A\n",
            "Epoch-10 Validate:  68%|██████▊   | 15/22 [00:07<00:04,  1.66it/s]\u001b[A\n",
            "Epoch-10 Validate:  73%|███████▎  | 16/22 [00:07<00:02,  2.12it/s]\u001b[A\n",
            "Epoch-10 Validate:  77%|███████▋  | 17/22 [00:09<00:03,  1.50it/s]\u001b[A\n",
            "Epoch-10 Validate:  82%|████████▏ | 18/22 [00:09<00:02,  1.93it/s]\u001b[A\n",
            "Epoch-10 Validate:  86%|████████▋ | 19/22 [00:10<00:02,  1.36it/s]\u001b[A\n",
            "Epoch-10 Validate:  91%|█████████ | 20/22 [00:10<00:01,  1.77it/s]\u001b[A\n",
            "Epoch-10 Validate:  95%|█████████▌| 21/22 [00:11<00:00,  1.40it/s]\u001b[A\n",
            "Epoch-10 Validate: 100%|██████████| 22/22 [00:11<00:00,  1.84it/s]\n",
            "Epoch 10/50 - Training: 100%|██████████| 87/87 [00:58<00:00,  1.49batch/s, loss=0.0249]\n"
          ]
        },
        {
          "output_type": "stream",
          "name": "stdout",
          "text": [
            "Epoch [10/50],  Training Loss 0.0249,  Validation Loss 0.0218,  LR 0.0001\n"
          ]
        },
        {
          "output_type": "stream",
          "name": "stderr",
          "text": [
            "Epoch 11/50 - Training: 100%|██████████| 87/87 [00:43<00:00,  2.61batch/s, loss=0.0243]\n",
            "Epoch-11 Validate:   0%|          | 0/22 [00:00<?, ?it/s]\u001b[A\n",
            "Epoch-11 Validate:   5%|▍         | 1/22 [00:01<00:28,  1.38s/it]\u001b[A\n",
            "Epoch-11 Validate:   9%|▉         | 2/22 [00:01<00:13,  1.49it/s]\u001b[A\n",
            "Epoch-11 Validate:  14%|█▎        | 3/22 [00:02<00:13,  1.44it/s]\u001b[A\n",
            "Epoch-11 Validate:  18%|█▊        | 4/22 [00:02<00:08,  2.05it/s]\u001b[A\n",
            "Epoch-11 Validate:  23%|██▎       | 5/22 [00:03<00:10,  1.67it/s]\u001b[A\n",
            "Epoch-11 Validate:  27%|██▋       | 6/22 [00:03<00:07,  2.21it/s]\u001b[A\n",
            "Epoch-11 Validate:  32%|███▏      | 7/22 [00:04<00:08,  1.85it/s]\u001b[A\n",
            "Epoch-11 Validate:  36%|███▋      | 8/22 [00:04<00:05,  2.35it/s]\u001b[A\n",
            "Epoch-11 Validate:  41%|████      | 9/22 [00:05<00:06,  1.86it/s]\u001b[A\n",
            "Epoch-11 Validate:  45%|████▌     | 10/22 [00:05<00:05,  2.36it/s]\u001b[A\n",
            "Epoch-11 Validate:  50%|█████     | 11/22 [00:05<00:05,  2.01it/s]\u001b[A\n",
            "Epoch-11 Validate:  55%|█████▍    | 12/22 [00:06<00:03,  2.52it/s]\u001b[A\n",
            "Epoch-11 Validate:  59%|█████▉    | 13/22 [00:06<00:04,  1.91it/s]\u001b[A\n",
            "Epoch-11 Validate:  64%|██████▎   | 14/22 [00:07<00:03,  2.40it/s]\u001b[A\n",
            "Epoch-11 Validate:  68%|██████▊   | 15/22 [00:07<00:03,  1.90it/s]\u001b[A\n",
            "Epoch-11 Validate:  73%|███████▎  | 16/22 [00:08<00:02,  2.38it/s]\u001b[A\n",
            "Epoch-11 Validate:  77%|███████▋  | 17/22 [00:08<00:02,  1.89it/s]\u001b[A\n",
            "Epoch-11 Validate:  82%|████████▏ | 18/22 [00:08<00:01,  2.37it/s]\u001b[A\n",
            "Epoch-11 Validate:  86%|████████▋ | 19/22 [00:09<00:01,  1.96it/s]\u001b[A\n",
            "Epoch-11 Validate:  91%|█████████ | 20/22 [00:09<00:00,  2.47it/s]\u001b[A\n",
            "Epoch-11 Validate:  95%|█████████▌| 21/22 [00:10<00:00,  2.51it/s]\u001b[A\n",
            "Epoch-11 Validate: 100%|██████████| 22/22 [00:10<00:00,  2.11it/s]\n",
            "Epoch 11/50 - Training: 100%|██████████| 87/87 [00:54<00:00,  1.60batch/s, loss=0.0243]\n"
          ]
        },
        {
          "output_type": "stream",
          "name": "stdout",
          "text": [
            "Epoch [11/50],  Training Loss 0.0243,  Validation Loss 0.0219,  LR 0.0001\n"
          ]
        },
        {
          "output_type": "stream",
          "name": "stderr",
          "text": [
            "Epoch 12/50 - Training: 100%|██████████| 87/87 [00:44<00:00,  3.34batch/s, loss=0.0237]\n",
            "Epoch-12 Validate:   0%|          | 0/22 [00:00<?, ?it/s]\u001b[A\n",
            "Epoch-12 Validate:   5%|▍         | 1/22 [00:01<00:27,  1.30s/it]\u001b[A\n",
            "Epoch-12 Validate:   9%|▉         | 2/22 [00:01<00:12,  1.56it/s]\u001b[A\n",
            "Epoch-12 Validate:  14%|█▎        | 3/22 [00:02<00:17,  1.07it/s]\u001b[A\n",
            "Epoch-12 Validate:  18%|█▊        | 4/22 [00:02<00:11,  1.59it/s]\u001b[A\n",
            "Epoch-12 Validate:  23%|██▎       | 5/22 [00:04<00:14,  1.20it/s]\u001b[A\n",
            "Epoch-12 Validate:  27%|██▋       | 6/22 [00:04<00:09,  1.63it/s]\u001b[A\n",
            "Epoch-12 Validate:  32%|███▏      | 7/22 [00:05<00:12,  1.16it/s]\u001b[A\n",
            "Epoch-12 Validate:  36%|███▋      | 8/22 [00:05<00:09,  1.56it/s]\u001b[A\n",
            "Epoch-12 Validate:  41%|████      | 9/22 [00:06<00:08,  1.52it/s]\u001b[A\n",
            "Epoch-12 Validate:  45%|████▌     | 10/22 [00:06<00:06,  1.92it/s]\u001b[A\n",
            "Epoch-12 Validate:  50%|█████     | 11/22 [00:07<00:06,  1.77it/s]\u001b[A\n",
            "Epoch-12 Validate:  55%|█████▍    | 12/22 [00:07<00:04,  2.20it/s]\u001b[A\n",
            "Epoch-12 Validate:  59%|█████▉    | 13/22 [00:08<00:04,  1.90it/s]\u001b[A\n",
            "Epoch-12 Validate:  64%|██████▎   | 14/22 [00:08<00:03,  2.27it/s]\u001b[A\n",
            "Epoch-12 Validate:  68%|██████▊   | 15/22 [00:09<00:03,  1.90it/s]\u001b[A\n",
            "Epoch-12 Validate:  73%|███████▎  | 16/22 [00:09<00:02,  2.40it/s]\u001b[A\n",
            "Epoch-12 Validate:  77%|███████▋  | 17/22 [00:10<00:02,  1.87it/s]\u001b[A\n",
            "Epoch-12 Validate:  82%|████████▏ | 18/22 [00:10<00:01,  2.35it/s]\u001b[A\n",
            "Epoch-12 Validate:  86%|████████▋ | 19/22 [00:11<00:01,  1.91it/s]\u001b[A\n",
            "Epoch-12 Validate:  91%|█████████ | 20/22 [00:11<00:00,  2.41it/s]\u001b[A\n",
            "Epoch-12 Validate:  95%|█████████▌| 21/22 [00:11<00:00,  2.12it/s]\u001b[A\n",
            "Epoch-12 Validate: 100%|██████████| 22/22 [00:12<00:00,  1.81it/s]\n",
            "Epoch 12/50 - Training: 100%|██████████| 87/87 [00:56<00:00,  1.53batch/s, loss=0.0237]\n"
          ]
        },
        {
          "output_type": "stream",
          "name": "stdout",
          "text": [
            "Epoch [12/50],  Training Loss 0.0237,  Validation Loss 0.0204,  LR 0.0001\n"
          ]
        },
        {
          "output_type": "stream",
          "name": "stderr",
          "text": [
            "Epoch 13/50 - Training: 100%|██████████| 87/87 [00:45<00:00,  2.81batch/s, loss=0.023]\n",
            "Epoch-13 Validate:   0%|          | 0/22 [00:00<?, ?it/s]\u001b[A\n",
            "Epoch-13 Validate:   5%|▍         | 1/22 [00:01<00:23,  1.13s/it]\u001b[A\n",
            "Epoch-13 Validate:   9%|▉         | 2/22 [00:01<00:11,  1.76it/s]\u001b[A\n",
            "Epoch-13 Validate:  14%|█▎        | 3/22 [00:01<00:11,  1.64it/s]\u001b[A\n",
            "Epoch-13 Validate:  18%|█▊        | 4/22 [00:02<00:07,  2.29it/s]\u001b[A\n",
            "Epoch-13 Validate:  23%|██▎       | 5/22 [00:02<00:09,  1.84it/s]\u001b[A\n",
            "Epoch-13 Validate:  27%|██▋       | 6/22 [00:03<00:06,  2.34it/s]\u001b[A\n",
            "Epoch-13 Validate:  32%|███▏      | 7/22 [00:04<00:10,  1.48it/s]\u001b[A\n",
            "Epoch-13 Validate:  36%|███▋      | 8/22 [00:04<00:08,  1.74it/s]\u001b[A\n",
            "Epoch-13 Validate:  41%|████      | 9/22 [00:05<00:09,  1.35it/s]\u001b[A\n",
            "Epoch-13 Validate:  45%|████▌     | 10/22 [00:06<00:07,  1.65it/s]\u001b[A\n",
            "Epoch-13 Validate:  50%|█████     | 11/22 [00:07<00:08,  1.27it/s]\u001b[A\n",
            "Epoch-13 Validate:  55%|█████▍    | 12/22 [00:07<00:06,  1.52it/s]\u001b[A\n",
            "Epoch-13 Validate:  59%|█████▉    | 13/22 [00:08<00:06,  1.39it/s]\u001b[A\n",
            "Epoch-13 Validate:  64%|██████▎   | 14/22 [00:08<00:04,  1.81it/s]\u001b[A\n",
            "Epoch-13 Validate:  68%|██████▊   | 15/22 [00:09<00:04,  1.64it/s]\u001b[A\n",
            "Epoch-13 Validate:  73%|███████▎  | 16/22 [00:09<00:02,  2.11it/s]\u001b[A\n",
            "Epoch-13 Validate:  77%|███████▋  | 17/22 [00:10<00:02,  1.74it/s]\u001b[A\n",
            "Epoch-13 Validate:  82%|████████▏ | 18/22 [00:10<00:01,  2.22it/s]\u001b[A\n",
            "Epoch-13 Validate:  86%|████████▋ | 19/22 [00:11<00:01,  1.81it/s]\u001b[A\n",
            "Epoch-13 Validate:  91%|█████████ | 20/22 [00:11<00:00,  2.26it/s]\u001b[A\n",
            "Epoch-13 Validate:  95%|█████████▌| 21/22 [00:11<00:00,  2.21it/s]\u001b[A\n",
            "Epoch-13 Validate: 100%|██████████| 22/22 [00:12<00:00,  1.82it/s]\n",
            "Epoch 13/50 - Training: 100%|██████████| 87/87 [00:57<00:00,  1.51batch/s, loss=0.023]\n"
          ]
        },
        {
          "output_type": "stream",
          "name": "stdout",
          "text": [
            "Epoch [13/50],  Training Loss 0.0230,  Validation Loss 0.0203,  LR 0.0001\n"
          ]
        },
        {
          "output_type": "stream",
          "name": "stderr",
          "text": [
            "Epoch 14/50 - Training: 100%|██████████| 87/87 [00:45<00:00,  2.80batch/s, loss=0.0222]\n",
            "Epoch-14 Validate:   0%|          | 0/22 [00:00<?, ?it/s]\u001b[A\n",
            "Epoch-14 Validate:   5%|▍         | 1/22 [00:01<00:23,  1.11s/it]\u001b[A\n",
            "Epoch-14 Validate:   9%|▉         | 2/22 [00:01<00:11,  1.81it/s]\u001b[A\n",
            "Epoch-14 Validate:  14%|█▎        | 3/22 [00:01<00:11,  1.67it/s]\u001b[A\n",
            "Epoch-14 Validate:  18%|█▊        | 4/22 [00:02<00:07,  2.29it/s]\u001b[A\n",
            "Epoch-14 Validate:  23%|██▎       | 5/22 [00:02<00:08,  1.91it/s]\u001b[A\n",
            "Epoch-14 Validate:  27%|██▋       | 6/22 [00:03<00:06,  2.37it/s]\u001b[A\n",
            "Epoch-14 Validate:  32%|███▏      | 7/22 [00:03<00:08,  1.87it/s]\u001b[A\n",
            "Epoch-14 Validate:  36%|███▋      | 8/22 [00:03<00:05,  2.34it/s]\u001b[A\n",
            "Epoch-14 Validate:  41%|████      | 9/22 [00:04<00:06,  2.04it/s]\u001b[A\n",
            "Epoch-14 Validate:  45%|████▌     | 10/22 [00:04<00:05,  2.34it/s]\u001b[A\n",
            "Epoch-14 Validate:  50%|█████     | 11/22 [00:05<00:05,  2.20it/s]\u001b[A\n",
            "Epoch-14 Validate:  55%|█████▍    | 12/22 [00:05<00:04,  2.28it/s]\u001b[A\n",
            "Epoch-14 Validate:  59%|█████▉    | 13/22 [00:06<00:04,  2.15it/s]\u001b[A\n",
            "Epoch-14 Validate:  64%|██████▎   | 14/22 [00:06<00:03,  2.13it/s]\u001b[A\n",
            "Epoch-14 Validate:  68%|██████▊   | 15/22 [00:07<00:03,  1.85it/s]\u001b[A\n",
            "Epoch-14 Validate:  73%|███████▎  | 16/22 [00:08<00:03,  1.64it/s]\u001b[A\n",
            "Epoch-14 Validate:  77%|███████▋  | 17/22 [00:08<00:03,  1.61it/s]\u001b[A\n",
            "Epoch-14 Validate:  82%|████████▏ | 18/22 [00:09<00:02,  1.52it/s]\u001b[A\n",
            "Epoch-14 Validate:  86%|████████▋ | 19/22 [00:10<00:02,  1.41it/s]\u001b[A\n",
            "Epoch-14 Validate:  91%|█████████ | 20/22 [00:11<00:01,  1.44it/s]\u001b[A\n",
            "Epoch-14 Validate:  95%|█████████▌| 21/22 [00:12<00:00,  1.34it/s]\u001b[A\n",
            "Epoch-14 Validate: 100%|██████████| 22/22 [00:12<00:00,  1.80it/s]\n",
            "Epoch 14/50 - Training: 100%|██████████| 87/87 [00:57<00:00,  1.51batch/s, loss=0.0222]\n"
          ]
        },
        {
          "output_type": "stream",
          "name": "stdout",
          "text": [
            "Epoch [14/50],  Training Loss 0.0222,  Validation Loss 0.0208,  LR 0.0001\n"
          ]
        },
        {
          "output_type": "stream",
          "name": "stderr",
          "text": [
            "Epoch 15/50 - Training: 100%|██████████| 87/87 [00:44<00:00,  2.30batch/s, loss=0.0215]\n",
            "Epoch-15 Validate:   0%|          | 0/22 [00:00<?, ?it/s]\u001b[A\n",
            "Epoch-15 Validate:   5%|▍         | 1/22 [00:01<00:27,  1.32s/it]\u001b[A\n",
            "Epoch-15 Validate:   9%|▉         | 2/22 [00:01<00:12,  1.55it/s]\u001b[A\n",
            "Epoch-15 Validate:  14%|█▎        | 3/22 [00:02<00:12,  1.49it/s]\u001b[A\n",
            "Epoch-15 Validate:  18%|█▊        | 4/22 [00:02<00:08,  2.11it/s]\u001b[A\n",
            "Epoch-15 Validate:  23%|██▎       | 5/22 [00:03<00:09,  1.78it/s]\u001b[A\n",
            "Epoch-15 Validate:  27%|██▋       | 6/22 [00:03<00:06,  2.34it/s]\u001b[A\n",
            "Epoch-15 Validate:  32%|███▏      | 7/22 [00:04<00:08,  1.82it/s]\u001b[A\n",
            "Epoch-15 Validate:  36%|███▋      | 8/22 [00:04<00:06,  2.33it/s]\u001b[A\n",
            "Epoch-15 Validate:  41%|████      | 9/22 [00:05<00:07,  1.86it/s]\u001b[A\n",
            "Epoch-15 Validate:  45%|████▌     | 10/22 [00:05<00:05,  2.37it/s]\u001b[A\n",
            "Epoch-15 Validate:  50%|█████     | 11/22 [00:05<00:05,  1.86it/s]\u001b[A\n",
            "Epoch-15 Validate:  55%|█████▍    | 12/22 [00:06<00:04,  2.36it/s]\u001b[A\n",
            "Epoch-15 Validate:  59%|█████▉    | 13/22 [00:06<00:04,  1.87it/s]\u001b[A\n",
            "Epoch-15 Validate:  64%|██████▎   | 14/22 [00:07<00:03,  2.36it/s]\u001b[A\n",
            "Epoch-15 Validate:  68%|██████▊   | 15/22 [00:07<00:03,  2.03it/s]\u001b[A\n",
            "Epoch-15 Validate:  73%|███████▎  | 16/22 [00:07<00:02,  2.51it/s]\u001b[A\n",
            "Epoch-15 Validate:  77%|███████▋  | 17/22 [00:08<00:02,  2.22it/s]\u001b[A\n",
            "Epoch-15 Validate:  82%|████████▏ | 18/22 [00:08<00:01,  2.67it/s]\u001b[A\n",
            "Epoch-15 Validate:  86%|████████▋ | 19/22 [00:09<00:01,  2.06it/s]\u001b[A\n",
            "Epoch-15 Validate:  91%|█████████ | 20/22 [00:09<00:00,  2.57it/s]\u001b[A\n",
            "Epoch-15 Validate:  95%|█████████▌| 21/22 [00:10<00:00,  2.15it/s]\u001b[A\n",
            "Epoch-15 Validate: 100%|██████████| 22/22 [00:10<00:00,  2.11it/s]\n",
            "Epoch 15/50 - Training: 100%|██████████| 87/87 [00:55<00:00,  1.57batch/s, loss=0.0215]\n"
          ]
        },
        {
          "output_type": "stream",
          "name": "stdout",
          "text": [
            "Epoch [15/50],  Training Loss 0.0215,  Validation Loss 0.0218,  LR 0.0001\n"
          ]
        },
        {
          "output_type": "stream",
          "name": "stderr",
          "text": [
            "Epoch 16/50 - Training: 100%|██████████| 87/87 [00:45<00:00,  3.22batch/s, loss=0.0216]\n",
            "Epoch-16 Validate:   0%|          | 0/22 [00:00<?, ?it/s]\u001b[A\n",
            "Epoch-16 Validate:   5%|▍         | 1/22 [00:01<00:37,  1.79s/it]\u001b[A\n",
            "Epoch-16 Validate:   9%|▉         | 2/22 [00:01<00:16,  1.19it/s]\u001b[A\n",
            "Epoch-16 Validate:  14%|█▎        | 3/22 [00:03<00:19,  1.03s/it]\u001b[A\n",
            "Epoch-16 Validate:  18%|█▊        | 4/22 [00:03<00:12,  1.45it/s]\u001b[A\n",
            "Epoch-16 Validate:  23%|██▎       | 5/22 [00:04<00:16,  1.05it/s]\u001b[A\n",
            "Epoch-16 Validate:  27%|██▋       | 6/22 [00:04<00:10,  1.46it/s]\u001b[A\n",
            "Epoch-16 Validate:  32%|███▏      | 7/22 [00:06<00:12,  1.24it/s]\u001b[A\n",
            "Epoch-16 Validate:  36%|███▋      | 8/22 [00:06<00:08,  1.66it/s]\u001b[A\n",
            "Epoch-16 Validate:  41%|████      | 9/22 [00:06<00:08,  1.53it/s]\u001b[A\n",
            "Epoch-16 Validate:  45%|████▌     | 10/22 [00:07<00:06,  1.98it/s]\u001b[A\n",
            "Epoch-16 Validate:  50%|█████     | 11/22 [00:07<00:06,  1.74it/s]\u001b[A\n",
            "Epoch-16 Validate:  55%|█████▍    | 12/22 [00:08<00:04,  2.21it/s]\u001b[A\n",
            "Epoch-16 Validate:  59%|█████▉    | 13/22 [00:08<00:05,  1.80it/s]\u001b[A\n",
            "Epoch-16 Validate:  64%|██████▎   | 14/22 [00:08<00:03,  2.28it/s]\u001b[A\n",
            "Epoch-16 Validate:  68%|██████▊   | 15/22 [00:09<00:03,  1.87it/s]\u001b[A\n",
            "Epoch-16 Validate:  73%|███████▎  | 16/22 [00:09<00:02,  2.36it/s]\u001b[A\n",
            "Epoch-16 Validate:  77%|███████▋  | 17/22 [00:10<00:02,  1.88it/s]\u001b[A\n",
            "Epoch-16 Validate:  82%|████████▏ | 18/22 [00:10<00:01,  2.38it/s]\u001b[A\n",
            "Epoch-16 Validate:  86%|████████▋ | 19/22 [00:11<00:01,  1.93it/s]\u001b[A\n",
            "Epoch-16 Validate:  91%|█████████ | 20/22 [00:11<00:00,  2.42it/s]\u001b[A\n",
            "Epoch-16 Validate:  95%|█████████▌| 21/22 [00:12<00:00,  2.46it/s]\u001b[A\n",
            "Epoch-16 Validate: 100%|██████████| 22/22 [00:12<00:00,  1.78it/s]\n",
            "Epoch 16/50 - Training: 100%|██████████| 87/87 [00:58<00:00,  1.50batch/s, loss=0.0216]\n"
          ]
        },
        {
          "output_type": "stream",
          "name": "stdout",
          "text": [
            "Epoch [16/50],  Training Loss 0.0216,  Validation Loss 0.0203,  LR 0.0001\n"
          ]
        },
        {
          "output_type": "stream",
          "name": "stderr",
          "text": [
            "Epoch 17/50 - Training: 100%|██████████| 87/87 [00:45<00:00,  2.96batch/s, loss=0.0212]\n",
            "Epoch-17 Validate:   0%|          | 0/22 [00:00<?, ?it/s]\u001b[A\n",
            "Epoch-17 Validate:   5%|▍         | 1/22 [00:01<00:24,  1.16s/it]\u001b[A\n",
            "Epoch-17 Validate:   9%|▉         | 2/22 [00:01<00:11,  1.73it/s]\u001b[A\n",
            "Epoch-17 Validate:  14%|█▎        | 3/22 [00:02<00:11,  1.61it/s]\u001b[A\n",
            "Epoch-17 Validate:  18%|█▊        | 4/22 [00:02<00:07,  2.27it/s]\u001b[A\n",
            "Epoch-17 Validate:  23%|██▎       | 5/22 [00:02<00:08,  1.91it/s]\u001b[A\n",
            "Epoch-17 Validate:  27%|██▋       | 6/22 [00:03<00:06,  2.50it/s]\u001b[A\n",
            "Epoch-17 Validate:  32%|███▏      | 7/22 [00:03<00:07,  2.11it/s]\u001b[A\n",
            "Epoch-17 Validate:  36%|███▋      | 8/22 [00:03<00:05,  2.43it/s]\u001b[A\n",
            "Epoch-17 Validate:  41%|████      | 9/22 [00:04<00:06,  1.91it/s]\u001b[A\n",
            "Epoch-17 Validate:  45%|████▌     | 10/22 [00:04<00:05,  2.31it/s]\u001b[A\n",
            "Epoch-17 Validate:  50%|█████     | 11/22 [00:06<00:06,  1.57it/s]\u001b[A\n",
            "Epoch-17 Validate:  55%|█████▍    | 12/22 [00:06<00:05,  1.89it/s]\u001b[A\n",
            "Epoch-17 Validate:  59%|█████▉    | 13/22 [00:07<00:06,  1.41it/s]\u001b[A\n",
            "Epoch-17 Validate:  64%|██████▎   | 14/22 [00:07<00:04,  1.80it/s]\u001b[A\n",
            "Epoch-17 Validate:  68%|██████▊   | 15/22 [00:08<00:05,  1.24it/s]\u001b[A\n",
            "Epoch-17 Validate:  73%|███████▎  | 16/22 [00:09<00:03,  1.58it/s]\u001b[A\n",
            "Epoch-17 Validate:  77%|███████▋  | 17/22 [00:10<00:03,  1.29it/s]\u001b[A\n",
            "Epoch-17 Validate:  82%|████████▏ | 18/22 [00:10<00:02,  1.68it/s]\u001b[A\n",
            "Epoch-17 Validate:  86%|████████▋ | 19/22 [00:11<00:02,  1.49it/s]\u001b[A\n",
            "Epoch-17 Validate:  91%|█████████ | 20/22 [00:11<00:01,  1.93it/s]\u001b[A\n",
            "Epoch-17 Validate:  95%|█████████▌| 21/22 [00:12<00:00,  1.86it/s]\u001b[A\n",
            "Epoch-17 Validate: 100%|██████████| 22/22 [00:12<00:00,  1.79it/s]\n",
            "Epoch 17/50 - Training: 100%|██████████| 87/87 [00:57<00:00,  1.52batch/s, loss=0.0212]\n"
          ]
        },
        {
          "output_type": "stream",
          "name": "stdout",
          "text": [
            "Epoch [17/50],  Training Loss 0.0212,  Validation Loss 0.0188,  LR 0.0001\n"
          ]
        },
        {
          "output_type": "stream",
          "name": "stderr",
          "text": [
            "Epoch 18/50 - Training: 100%|██████████| 87/87 [00:45<00:00,  2.75batch/s, loss=0.0202]\n",
            "Epoch-18 Validate:   0%|          | 0/22 [00:00<?, ?it/s]\u001b[A\n",
            "Epoch-18 Validate:   5%|▍         | 1/22 [00:01<00:23,  1.14s/it]\u001b[A\n",
            "Epoch-18 Validate:   9%|▉         | 2/22 [00:01<00:11,  1.77it/s]\u001b[A\n",
            "Epoch-18 Validate:  14%|█▎        | 3/22 [00:01<00:11,  1.62it/s]\u001b[A\n",
            "Epoch-18 Validate:  18%|█▊        | 4/22 [00:02<00:07,  2.27it/s]\u001b[A\n",
            "Epoch-18 Validate:  23%|██▎       | 5/22 [00:02<00:09,  1.84it/s]\u001b[A\n",
            "Epoch-18 Validate:  27%|██▋       | 6/22 [00:03<00:06,  2.40it/s]\u001b[A\n",
            "Epoch-18 Validate:  32%|███▏      | 7/22 [00:03<00:07,  1.88it/s]\u001b[A\n",
            "Epoch-18 Validate:  36%|███▋      | 8/22 [00:03<00:05,  2.41it/s]\u001b[A\n",
            "Epoch-18 Validate:  41%|████      | 9/22 [00:04<00:06,  2.03it/s]\u001b[A\n",
            "Epoch-18 Validate:  45%|████▌     | 10/22 [00:04<00:04,  2.49it/s]\u001b[A\n",
            "Epoch-18 Validate:  50%|█████     | 11/22 [00:05<00:05,  2.07it/s]\u001b[A\n",
            "Epoch-18 Validate:  55%|█████▍    | 12/22 [00:05<00:03,  2.58it/s]\u001b[A\n",
            "Epoch-18 Validate:  59%|█████▉    | 13/22 [00:06<00:04,  2.02it/s]\u001b[A\n",
            "Epoch-18 Validate:  64%|██████▎   | 14/22 [00:06<00:03,  2.46it/s]\u001b[A\n",
            "Epoch-18 Validate:  68%|██████▊   | 15/22 [00:07<00:03,  2.14it/s]\u001b[A\n",
            "Epoch-18 Validate:  73%|███████▎  | 16/22 [00:07<00:02,  2.44it/s]\u001b[A\n",
            "Epoch-18 Validate:  77%|███████▋  | 17/22 [00:08<00:02,  2.08it/s]\u001b[A\n",
            "Epoch-18 Validate:  82%|████████▏ | 18/22 [00:08<00:01,  2.26it/s]\u001b[A\n",
            "Epoch-18 Validate:  86%|████████▋ | 19/22 [00:09<00:01,  1.69it/s]\u001b[A\n",
            "Epoch-18 Validate:  91%|█████████ | 20/22 [00:09<00:01,  1.91it/s]\u001b[A\n",
            "Epoch-18 Validate:  95%|█████████▌| 21/22 [00:10<00:00,  1.54it/s]\u001b[A\n",
            "Epoch-18 Validate: 100%|██████████| 22/22 [00:10<00:00,  2.01it/s]\n",
            "Epoch 18/50 - Training: 100%|██████████| 87/87 [00:56<00:00,  1.55batch/s, loss=0.0202]\n"
          ]
        },
        {
          "output_type": "stream",
          "name": "stdout",
          "text": [
            "Epoch [18/50],  Training Loss 0.0202,  Validation Loss 0.0196,  LR 0.0001\n"
          ]
        },
        {
          "output_type": "stream",
          "name": "stderr",
          "text": [
            "Epoch 19/50 - Training: 100%|██████████| 87/87 [00:44<00:00,  2.19batch/s, loss=0.0201]\n",
            "Epoch-19 Validate:   0%|          | 0/22 [00:00<?, ?it/s]\u001b[A\n",
            "Epoch-19 Validate:   5%|▍         | 1/22 [00:01<00:24,  1.18s/it]\u001b[A\n",
            "Epoch-19 Validate:   9%|▉         | 2/22 [00:01<00:11,  1.72it/s]\u001b[A\n",
            "Epoch-19 Validate:  14%|█▎        | 3/22 [00:02<00:11,  1.61it/s]\u001b[A\n",
            "Epoch-19 Validate:  18%|█▊        | 4/22 [00:02<00:07,  2.26it/s]\u001b[A\n",
            "Epoch-19 Validate:  23%|██▎       | 5/22 [00:02<00:09,  1.78it/s]\u001b[A\n",
            "Epoch-19 Validate:  27%|██▋       | 6/22 [00:03<00:06,  2.34it/s]\u001b[A\n",
            "Epoch-19 Validate:  32%|███▏      | 7/22 [00:03<00:07,  1.91it/s]\u001b[A\n",
            "Epoch-19 Validate:  36%|███▋      | 8/22 [00:04<00:05,  2.44it/s]\u001b[A\n",
            "Epoch-19 Validate:  41%|████      | 9/22 [00:04<00:06,  1.87it/s]\u001b[A\n",
            "Epoch-19 Validate:  45%|████▌     | 10/22 [00:04<00:05,  2.38it/s]\u001b[A\n",
            "Epoch-19 Validate:  50%|█████     | 11/22 [00:05<00:05,  1.93it/s]\u001b[A\n",
            "Epoch-19 Validate:  55%|█████▍    | 12/22 [00:05<00:04,  2.44it/s]\u001b[A\n",
            "Epoch-19 Validate:  59%|█████▉    | 13/22 [00:06<00:04,  1.96it/s]\u001b[A\n",
            "Epoch-19 Validate:  64%|██████▎   | 14/22 [00:06<00:03,  2.47it/s]\u001b[A\n",
            "Epoch-19 Validate:  68%|██████▊   | 15/22 [00:07<00:03,  1.91it/s]\u001b[A\n",
            "Epoch-19 Validate:  73%|███████▎  | 16/22 [00:07<00:02,  2.40it/s]\u001b[A\n",
            "Epoch-19 Validate:  77%|███████▋  | 17/22 [00:08<00:02,  1.93it/s]\u001b[A\n",
            "Epoch-19 Validate:  82%|████████▏ | 18/22 [00:08<00:01,  2.41it/s]\u001b[A\n",
            "Epoch-19 Validate:  86%|████████▋ | 19/22 [00:09<00:01,  1.97it/s]\u001b[A\n",
            "Epoch-19 Validate:  91%|█████████ | 20/22 [00:09<00:00,  2.46it/s]\u001b[A\n",
            "Epoch-19 Validate:  95%|█████████▌| 21/22 [00:10<00:00,  2.09it/s]\u001b[A\n",
            "Epoch-19 Validate: 100%|██████████| 22/22 [00:10<00:00,  2.11it/s]\n",
            "Epoch 19/50 - Training: 100%|██████████| 87/87 [00:55<00:00,  1.57batch/s, loss=0.0201]\n"
          ]
        },
        {
          "output_type": "stream",
          "name": "stdout",
          "text": [
            "Epoch [19/50],  Training Loss 0.0201,  Validation Loss 0.0200,  LR 0.0001\n"
          ]
        },
        {
          "output_type": "stream",
          "name": "stderr",
          "text": [
            "Epoch 20/50 - Training: 100%|██████████| 87/87 [00:46<00:00,  2.90batch/s, loss=0.0199]\n",
            "Epoch-20 Validate:   0%|          | 0/22 [00:00<?, ?it/s]\u001b[A\n",
            "Epoch-20 Validate:   5%|▍         | 1/22 [00:01<00:32,  1.54s/it]\u001b[A\n",
            "Epoch-20 Validate:   9%|▉         | 2/22 [00:01<00:17,  1.17it/s]\u001b[A\n",
            "Epoch-20 Validate:  14%|█▎        | 3/22 [00:02<00:17,  1.07it/s]\u001b[A\n",
            "Epoch-20 Validate:  18%|█▊        | 4/22 [00:03<00:12,  1.44it/s]\u001b[A\n",
            "Epoch-20 Validate:  23%|██▎       | 5/22 [00:04<00:14,  1.16it/s]\u001b[A\n",
            "Epoch-20 Validate:  27%|██▋       | 6/22 [00:04<00:10,  1.53it/s]\u001b[A\n",
            "Epoch-20 Validate:  32%|███▏      | 7/22 [00:05<00:10,  1.44it/s]\u001b[A\n",
            "Epoch-20 Validate:  36%|███▋      | 8/22 [00:05<00:07,  1.89it/s]\u001b[A\n",
            "Epoch-20 Validate:  41%|████      | 9/22 [00:06<00:07,  1.69it/s]\u001b[A\n",
            "Epoch-20 Validate:  45%|████▌     | 10/22 [00:06<00:05,  2.14it/s]\u001b[A\n",
            "Epoch-20 Validate:  50%|█████     | 11/22 [00:07<00:05,  1.98it/s]\u001b[A\n",
            "Epoch-20 Validate:  55%|█████▍    | 12/22 [00:07<00:04,  2.29it/s]\u001b[A\n",
            "Epoch-20 Validate:  59%|█████▉    | 13/22 [00:08<00:04,  1.94it/s]\u001b[A\n",
            "Epoch-20 Validate:  64%|██████▎   | 14/22 [00:08<00:03,  2.43it/s]\u001b[A\n",
            "Epoch-20 Validate:  68%|██████▊   | 15/22 [00:09<00:03,  1.98it/s]\u001b[A\n",
            "Epoch-20 Validate:  73%|███████▎  | 16/22 [00:09<00:02,  2.44it/s]\u001b[A\n",
            "Epoch-20 Validate:  77%|███████▋  | 17/22 [00:09<00:02,  2.17it/s]\u001b[A\n",
            "Epoch-20 Validate:  82%|████████▏ | 18/22 [00:10<00:01,  2.32it/s]\u001b[A\n",
            "Epoch-20 Validate:  86%|████████▋ | 19/22 [00:10<00:01,  2.15it/s]\u001b[A\n",
            "Epoch-20 Validate:  91%|█████████ | 20/22 [00:11<00:00,  2.30it/s]\u001b[A\n",
            "Epoch-20 Validate:  95%|█████████▌| 21/22 [00:11<00:00,  2.25it/s]\u001b[A\n",
            "Epoch-20 Validate: 100%|██████████| 22/22 [00:11<00:00,  1.88it/s]\n",
            "Epoch 20/50 - Training: 100%|██████████| 87/87 [00:57<00:00,  1.50batch/s, loss=0.0199]\n"
          ]
        },
        {
          "output_type": "stream",
          "name": "stdout",
          "text": [
            "Epoch [20/50],  Training Loss 0.0199,  Validation Loss 0.0195,  LR 0.0001\n"
          ]
        },
        {
          "output_type": "stream",
          "name": "stderr",
          "text": [
            "Epoch 21/50 - Training: 100%|██████████| 87/87 [00:45<00:00,  2.97batch/s, loss=0.0196]\n",
            "Epoch-21 Validate:   0%|          | 0/22 [00:00<?, ?it/s]\u001b[A\n",
            "Epoch-21 Validate:   5%|▍         | 1/22 [00:01<00:23,  1.11s/it]\u001b[A\n",
            "Epoch-21 Validate:   9%|▉         | 2/22 [00:01<00:11,  1.80it/s]\u001b[A\n",
            "Epoch-21 Validate:  14%|█▎        | 3/22 [00:02<00:11,  1.59it/s]\u001b[A\n",
            "Epoch-21 Validate:  18%|█▊        | 4/22 [00:02<00:08,  2.22it/s]\u001b[A\n",
            "Epoch-21 Validate:  23%|██▎       | 5/22 [00:02<00:09,  1.84it/s]\u001b[A\n",
            "Epoch-21 Validate:  27%|██▋       | 6/22 [00:03<00:06,  2.39it/s]\u001b[A\n",
            "Epoch-21 Validate:  32%|███▏      | 7/22 [00:03<00:08,  1.77it/s]\u001b[A\n",
            "Epoch-21 Validate:  36%|███▋      | 8/22 [00:04<00:06,  2.29it/s]\u001b[A\n",
            "Epoch-21 Validate:  41%|████      | 9/22 [00:05<00:09,  1.43it/s]\u001b[A\n",
            "Epoch-21 Validate:  45%|████▌     | 10/22 [00:05<00:06,  1.88it/s]\u001b[A\n",
            "Epoch-21 Validate:  50%|█████     | 11/22 [00:06<00:07,  1.44it/s]\u001b[A\n",
            "Epoch-21 Validate:  55%|█████▍    | 12/22 [00:06<00:05,  1.69it/s]\u001b[A\n",
            "Epoch-21 Validate:  59%|█████▉    | 13/22 [00:08<00:07,  1.25it/s]\u001b[A\n",
            "Epoch-21 Validate:  64%|██████▎   | 14/22 [00:08<00:05,  1.55it/s]\u001b[A\n",
            "Epoch-21 Validate:  68%|██████▊   | 15/22 [00:09<00:05,  1.33it/s]\u001b[A\n",
            "Epoch-21 Validate:  73%|███████▎  | 16/22 [00:09<00:03,  1.74it/s]\u001b[A\n",
            "Epoch-21 Validate:  77%|███████▋  | 17/22 [00:10<00:03,  1.58it/s]\u001b[A\n",
            "Epoch-21 Validate:  82%|████████▏ | 18/22 [00:10<00:01,  2.04it/s]\u001b[A\n",
            "Epoch-21 Validate:  86%|████████▋ | 19/22 [00:11<00:01,  1.73it/s]\u001b[A\n",
            "Epoch-21 Validate:  91%|█████████ | 20/22 [00:11<00:00,  2.18it/s]\u001b[A\n",
            "Epoch-21 Validate:  95%|█████████▌| 21/22 [00:12<00:00,  2.02it/s]\u001b[A\n",
            "Epoch-21 Validate: 100%|██████████| 22/22 [00:12<00:00,  1.79it/s]\n",
            "Epoch 21/50 - Training: 100%|██████████| 87/87 [00:58<00:00,  1.50batch/s, loss=0.0196]\n"
          ]
        },
        {
          "output_type": "stream",
          "name": "stdout",
          "text": [
            "Epoch [21/50],  Training Loss 0.0196,  Validation Loss 0.0186,  LR 0.0001\n"
          ]
        },
        {
          "output_type": "stream",
          "name": "stderr",
          "text": [
            "Epoch 22/50 - Training: 100%|██████████| 87/87 [00:45<00:00,  2.88batch/s, loss=0.0193]\n",
            "Epoch-22 Validate:   0%|          | 0/22 [00:00<?, ?it/s]\u001b[A\n",
            "Epoch-22 Validate:   5%|▍         | 1/22 [00:01<00:22,  1.08s/it]\u001b[A\n",
            "Epoch-22 Validate:   9%|▉         | 2/22 [00:01<00:10,  1.85it/s]\u001b[A\n",
            "Epoch-22 Validate:  14%|█▎        | 3/22 [00:01<00:11,  1.63it/s]\u001b[A\n",
            "Epoch-22 Validate:  18%|█▊        | 4/22 [00:02<00:07,  2.29it/s]\u001b[A\n",
            "Epoch-22 Validate:  23%|██▎       | 5/22 [00:02<00:09,  1.77it/s]\u001b[A\n",
            "Epoch-22 Validate:  27%|██▋       | 6/22 [00:03<00:06,  2.31it/s]\u001b[A\n",
            "Epoch-22 Validate:  32%|███▏      | 7/22 [00:03<00:08,  1.80it/s]\u001b[A\n",
            "Epoch-22 Validate:  36%|███▋      | 8/22 [00:04<00:06,  2.33it/s]\u001b[A\n",
            "Epoch-22 Validate:  41%|████      | 9/22 [00:04<00:06,  2.03it/s]\u001b[A\n",
            "Epoch-22 Validate:  45%|████▌     | 10/22 [00:04<00:04,  2.53it/s]\u001b[A\n",
            "Epoch-22 Validate:  50%|█████     | 11/22 [00:05<00:05,  1.94it/s]\u001b[A\n",
            "Epoch-22 Validate:  55%|█████▍    | 12/22 [00:05<00:04,  2.44it/s]\u001b[A\n",
            "Epoch-22 Validate:  59%|█████▉    | 13/22 [00:06<00:04,  1.93it/s]\u001b[A\n",
            "Epoch-22 Validate:  64%|██████▎   | 14/22 [00:06<00:03,  2.42it/s]\u001b[A\n",
            "Epoch-22 Validate:  68%|██████▊   | 15/22 [00:07<00:03,  1.82it/s]\u001b[A\n",
            "Epoch-22 Validate:  73%|███████▎  | 16/22 [00:07<00:02,  2.28it/s]\u001b[A\n",
            "Epoch-22 Validate:  77%|███████▋  | 17/22 [00:09<00:03,  1.46it/s]\u001b[A\n",
            "Epoch-22 Validate:  82%|████████▏ | 18/22 [00:09<00:02,  1.89it/s]\u001b[A\n",
            "Epoch-22 Validate:  86%|████████▋ | 19/22 [00:10<00:02,  1.30it/s]\u001b[A\n",
            "Epoch-22 Validate:  91%|█████████ | 20/22 [00:10<00:01,  1.69it/s]\u001b[A\n",
            "Epoch-22 Validate:  95%|█████████▌| 21/22 [00:11<00:00,  1.57it/s]\u001b[A\n",
            "Epoch-22 Validate: 100%|██████████| 22/22 [00:11<00:00,  1.89it/s]\n",
            "Epoch 22/50 - Training: 100%|██████████| 87/87 [00:57<00:00,  1.52batch/s, loss=0.0193]\n"
          ]
        },
        {
          "output_type": "stream",
          "name": "stdout",
          "text": [
            "Epoch [22/50],  Training Loss 0.0193,  Validation Loss 0.0185,  LR 0.0001\n"
          ]
        },
        {
          "output_type": "stream",
          "name": "stderr",
          "text": [
            "Epoch 23/50 - Training: 100%|██████████| 87/87 [00:43<00:00,  2.26batch/s, loss=0.0192]\n",
            "Epoch-23 Validate:   0%|          | 0/22 [00:00<?, ?it/s]\u001b[A\n",
            "Epoch-23 Validate:   5%|▍         | 1/22 [00:01<00:29,  1.38s/it]\u001b[A\n",
            "Epoch-23 Validate:   9%|▉         | 2/22 [00:01<00:13,  1.48it/s]\u001b[A\n",
            "Epoch-23 Validate:  14%|█▎        | 3/22 [00:02<00:13,  1.40it/s]\u001b[A\n",
            "Epoch-23 Validate:  18%|█▊        | 4/22 [00:02<00:08,  2.00it/s]\u001b[A\n",
            "Epoch-23 Validate:  23%|██▎       | 5/22 [00:03<00:09,  1.79it/s]\u001b[A\n",
            "Epoch-23 Validate:  27%|██▋       | 6/22 [00:03<00:06,  2.36it/s]\u001b[A\n",
            "Epoch-23 Validate:  32%|███▏      | 7/22 [00:04<00:07,  1.91it/s]\u001b[A\n",
            "Epoch-23 Validate:  36%|███▋      | 8/22 [00:04<00:05,  2.45it/s]\u001b[A\n",
            "Epoch-23 Validate:  41%|████      | 9/22 [00:04<00:06,  2.00it/s]\u001b[A\n",
            "Epoch-23 Validate:  45%|████▌     | 10/22 [00:05<00:04,  2.52it/s]\u001b[A\n",
            "Epoch-23 Validate:  50%|█████     | 11/22 [00:05<00:05,  1.99it/s]\u001b[A\n",
            "Epoch-23 Validate:  55%|█████▍    | 12/22 [00:05<00:03,  2.51it/s]\u001b[A\n",
            "Epoch-23 Validate:  59%|█████▉    | 13/22 [00:06<00:04,  1.89it/s]\u001b[A\n",
            "Epoch-23 Validate:  64%|██████▎   | 14/22 [00:06<00:03,  2.39it/s]\u001b[A\n",
            "Epoch-23 Validate:  68%|██████▊   | 15/22 [00:07<00:03,  1.89it/s]\u001b[A\n",
            "Epoch-23 Validate:  73%|███████▎  | 16/22 [00:07<00:02,  2.36it/s]\u001b[A\n",
            "Epoch-23 Validate:  77%|███████▋  | 17/22 [00:08<00:02,  1.93it/s]\u001b[A\n",
            "Epoch-23 Validate:  82%|████████▏ | 18/22 [00:08<00:01,  2.42it/s]\u001b[A\n",
            "Epoch-23 Validate:  86%|████████▋ | 19/22 [00:09<00:01,  1.86it/s]\u001b[A\n",
            "Epoch-23 Validate:  91%|█████████ | 20/22 [00:09<00:00,  2.33it/s]\u001b[A\n",
            "Epoch-23 Validate:  95%|█████████▌| 21/22 [00:10<00:00,  2.33it/s]\u001b[A\n",
            "Epoch-23 Validate: 100%|██████████| 22/22 [00:10<00:00,  2.10it/s]\n",
            "Epoch 23/50 - Training: 100%|██████████| 87/87 [00:54<00:00,  1.61batch/s, loss=0.0192]\n"
          ]
        },
        {
          "output_type": "stream",
          "name": "stdout",
          "text": [
            "Epoch [23/50],  Training Loss 0.0192,  Validation Loss 0.0182,  LR 0.0001\n"
          ]
        },
        {
          "output_type": "stream",
          "name": "stderr",
          "text": [
            "Epoch 24/50 - Training: 100%|██████████| 87/87 [00:44<00:00,  3.09batch/s, loss=0.0189]\n",
            "Epoch-24 Validate:   0%|          | 0/22 [00:00<?, ?it/s]\u001b[A\n",
            "Epoch-24 Validate:   5%|▍         | 1/22 [00:01<00:24,  1.17s/it]\u001b[A\n",
            "Epoch-24 Validate:   9%|▉         | 2/22 [00:01<00:11,  1.71it/s]\u001b[A\n",
            "Epoch-24 Validate:  14%|█▎        | 3/22 [00:02<00:15,  1.22it/s]\u001b[A\n",
            "Epoch-24 Validate:  18%|█▊        | 4/22 [00:02<00:10,  1.67it/s]\u001b[A\n",
            "Epoch-24 Validate:  23%|██▎       | 5/22 [00:03<00:13,  1.30it/s]\u001b[A\n",
            "Epoch-24 Validate:  27%|██▋       | 6/22 [00:03<00:09,  1.72it/s]\u001b[A\n",
            "Epoch-24 Validate:  32%|███▏      | 7/22 [00:05<00:12,  1.20it/s]\u001b[A\n",
            "Epoch-24 Validate:  36%|███▋      | 8/22 [00:05<00:08,  1.62it/s]\u001b[A\n",
            "Epoch-24 Validate:  41%|████      | 9/22 [00:06<00:10,  1.21it/s]\u001b[A\n",
            "Epoch-24 Validate:  45%|████▌     | 10/22 [00:06<00:07,  1.61it/s]\u001b[A\n",
            "Epoch-24 Validate:  50%|█████     | 11/22 [00:07<00:07,  1.49it/s]\u001b[A\n",
            "Epoch-24 Validate:  55%|█████▍    | 12/22 [00:07<00:05,  1.94it/s]\u001b[A\n",
            "Epoch-24 Validate:  59%|█████▉    | 13/22 [00:08<00:05,  1.72it/s]\u001b[A\n",
            "Epoch-24 Validate:  64%|██████▎   | 14/22 [00:08<00:03,  2.19it/s]\u001b[A\n",
            "Epoch-24 Validate:  68%|██████▊   | 15/22 [00:09<00:03,  1.82it/s]\u001b[A\n",
            "Epoch-24 Validate:  73%|███████▎  | 16/22 [00:09<00:02,  2.30it/s]\u001b[A\n",
            "Epoch-24 Validate:  77%|███████▋  | 17/22 [00:10<00:02,  1.87it/s]\u001b[A\n",
            "Epoch-24 Validate:  82%|████████▏ | 18/22 [00:10<00:01,  2.37it/s]\u001b[A\n",
            "Epoch-24 Validate:  86%|████████▋ | 19/22 [00:11<00:01,  1.87it/s]\u001b[A\n",
            "Epoch-24 Validate:  91%|█████████ | 20/22 [00:11<00:00,  2.36it/s]\u001b[A\n",
            "Epoch-24 Validate:  95%|█████████▌| 21/22 [00:12<00:00,  2.32it/s]\u001b[A\n",
            "Epoch-24 Validate: 100%|██████████| 22/22 [00:12<00:00,  1.80it/s]\n",
            "Epoch 24/50 - Training: 100%|██████████| 87/87 [00:57<00:00,  1.52batch/s, loss=0.0189]\n"
          ]
        },
        {
          "output_type": "stream",
          "name": "stdout",
          "text": [
            "Epoch [24/50],  Training Loss 0.0189,  Validation Loss 0.0182,  LR 0.0001\n"
          ]
        },
        {
          "output_type": "stream",
          "name": "stderr",
          "text": [
            "Epoch 25/50 - Training: 100%|██████████| 87/87 [00:44<00:00,  3.13batch/s, loss=0.0187]\n",
            "Epoch-25 Validate:   0%|          | 0/22 [00:00<?, ?it/s]\u001b[A\n",
            "Epoch-25 Validate:   5%|▍         | 1/22 [00:01<00:22,  1.09s/it]\u001b[A\n",
            "Epoch-25 Validate:   9%|▉         | 2/22 [00:01<00:11,  1.81it/s]\u001b[A\n",
            "Epoch-25 Validate:  14%|█▎        | 3/22 [00:01<00:11,  1.67it/s]\u001b[A\n",
            "Epoch-25 Validate:  18%|█▊        | 4/22 [00:02<00:07,  2.35it/s]\u001b[A\n",
            "Epoch-25 Validate:  23%|██▎       | 5/22 [00:02<00:08,  1.90it/s]\u001b[A\n",
            "Epoch-25 Validate:  27%|██▋       | 6/22 [00:02<00:06,  2.48it/s]\u001b[A\n",
            "Epoch-25 Validate:  32%|███▏      | 7/22 [00:03<00:07,  1.93it/s]\u001b[A\n",
            "Epoch-25 Validate:  36%|███▋      | 8/22 [00:03<00:05,  2.46it/s]\u001b[A\n",
            "Epoch-25 Validate:  41%|████      | 9/22 [00:04<00:06,  1.90it/s]\u001b[A\n",
            "Epoch-25 Validate:  45%|████▌     | 10/22 [00:04<00:04,  2.42it/s]\u001b[A\n",
            "Epoch-25 Validate:  50%|█████     | 11/22 [00:05<00:05,  2.07it/s]\u001b[A\n",
            "Epoch-25 Validate:  55%|█████▍    | 12/22 [00:05<00:03,  2.58it/s]\u001b[A\n",
            "Epoch-25 Validate:  59%|█████▉    | 13/22 [00:06<00:05,  1.51it/s]\u001b[A\n",
            "Epoch-25 Validate:  64%|██████▎   | 14/22 [00:07<00:04,  1.95it/s]\u001b[A\n",
            "Epoch-25 Validate:  68%|██████▊   | 15/22 [00:08<00:05,  1.36it/s]\u001b[A\n",
            "Epoch-25 Validate:  73%|███████▎  | 16/22 [00:08<00:03,  1.78it/s]\u001b[A\n",
            "Epoch-25 Validate:  77%|███████▋  | 17/22 [00:09<00:03,  1.27it/s]\u001b[A\n",
            "Epoch-25 Validate:  82%|████████▏ | 18/22 [00:09<00:02,  1.67it/s]\u001b[A\n",
            "Epoch-25 Validate:  86%|████████▋ | 19/22 [00:11<00:02,  1.19it/s]\u001b[A\n",
            "Epoch-25 Validate:  91%|█████████ | 20/22 [00:11<00:01,  1.57it/s]\u001b[A\n",
            "Epoch-25 Validate:  95%|█████████▌| 21/22 [00:12<00:00,  1.66it/s]\u001b[A\n",
            "Epoch-25 Validate: 100%|██████████| 22/22 [00:12<00:00,  1.80it/s]\n",
            "Epoch 25/50 - Training: 100%|██████████| 87/87 [00:57<00:00,  1.52batch/s, loss=0.0187]\n"
          ]
        },
        {
          "output_type": "stream",
          "name": "stdout",
          "text": [
            "Epoch [25/50],  Training Loss 0.0187,  Validation Loss 0.0183,  LR 0.0001\n"
          ]
        },
        {
          "output_type": "stream",
          "name": "stderr",
          "text": [
            "Epoch 26/50 - Training: 100%|██████████| 87/87 [00:44<00:00,  2.07batch/s, loss=0.0186]\n",
            "Epoch-26 Validate:   0%|          | 0/22 [00:00<?, ?it/s]\u001b[A\n",
            "Epoch-26 Validate:   5%|▍         | 1/22 [00:01<00:24,  1.19s/it]\u001b[A\n",
            "Epoch-26 Validate:   9%|▉         | 2/22 [00:01<00:11,  1.70it/s]\u001b[A\n",
            "Epoch-26 Validate:  14%|█▎        | 3/22 [00:01<00:11,  1.64it/s]\u001b[A\n",
            "Epoch-26 Validate:  18%|█▊        | 4/22 [00:02<00:07,  2.29it/s]\u001b[A\n",
            "Epoch-26 Validate:  23%|██▎       | 5/22 [00:02<00:09,  1.85it/s]\u001b[A\n",
            "Epoch-26 Validate:  27%|██▋       | 6/22 [00:03<00:06,  2.39it/s]\u001b[A\n",
            "Epoch-26 Validate:  32%|███▏      | 7/22 [00:03<00:07,  1.99it/s]\u001b[A\n",
            "Epoch-26 Validate:  36%|███▋      | 8/22 [00:03<00:05,  2.44it/s]\u001b[A\n",
            "Epoch-26 Validate:  41%|████      | 9/22 [00:04<00:06,  2.02it/s]\u001b[A\n",
            "Epoch-26 Validate:  45%|████▌     | 10/22 [00:04<00:04,  2.48it/s]\u001b[A\n",
            "Epoch-26 Validate:  50%|█████     | 11/22 [00:05<00:05,  2.04it/s]\u001b[A\n",
            "Epoch-26 Validate:  55%|█████▍    | 12/22 [00:05<00:03,  2.56it/s]\u001b[A\n",
            "Epoch-26 Validate:  59%|█████▉    | 13/22 [00:06<00:04,  2.02it/s]\u001b[A\n",
            "Epoch-26 Validate:  64%|██████▎   | 14/22 [00:06<00:03,  2.52it/s]\u001b[A\n",
            "Epoch-26 Validate:  68%|██████▊   | 15/22 [00:07<00:03,  2.02it/s]\u001b[A\n",
            "Epoch-26 Validate:  73%|███████▎  | 16/22 [00:07<00:02,  2.51it/s]\u001b[A\n",
            "Epoch-26 Validate:  77%|███████▋  | 17/22 [00:08<00:02,  2.12it/s]\u001b[A\n",
            "Epoch-26 Validate:  82%|████████▏ | 18/22 [00:08<00:01,  2.54it/s]\u001b[A\n",
            "Epoch-26 Validate:  86%|████████▋ | 19/22 [00:09<00:01,  2.12it/s]\u001b[A\n",
            "Epoch-26 Validate:  91%|█████████ | 20/22 [00:09<00:00,  2.55it/s]\u001b[A\n",
            "Epoch-26 Validate:  95%|█████████▌| 21/22 [00:09<00:00,  2.15it/s]\u001b[A\n",
            "Epoch-26 Validate: 100%|██████████| 22/22 [00:10<00:00,  2.19it/s]\n",
            "Epoch 26/50 - Training: 100%|██████████| 87/87 [00:54<00:00,  1.60batch/s, loss=0.0186]\n"
          ]
        },
        {
          "output_type": "stream",
          "name": "stdout",
          "text": [
            "Epoch [26/50],  Training Loss 0.0186,  Validation Loss 0.0192,  LR 0.0001\n"
          ]
        },
        {
          "output_type": "stream",
          "name": "stderr",
          "text": [
            "Epoch 27/50 - Training: 100%|██████████| 87/87 [00:44<00:00,  3.49batch/s, loss=0.0183]\n",
            "Epoch-27 Validate:   0%|          | 0/22 [00:00<?, ?it/s]\u001b[A\n",
            "Epoch-27 Validate:   5%|▍         | 1/22 [00:01<00:22,  1.08s/it]\u001b[A\n",
            "Epoch-27 Validate:   9%|▉         | 2/22 [00:01<00:11,  1.81it/s]\u001b[A\n",
            "Epoch-27 Validate:  14%|█▎        | 3/22 [00:02<00:13,  1.44it/s]\u001b[A\n",
            "Epoch-27 Validate:  18%|█▊        | 4/22 [00:02<00:08,  2.07it/s]\u001b[A\n",
            "Epoch-27 Validate:  23%|██▎       | 5/22 [00:03<00:12,  1.32it/s]\u001b[A\n",
            "Epoch-27 Validate:  27%|██▋       | 6/22 [00:03<00:08,  1.80it/s]\u001b[A\n",
            "Epoch-27 Validate:  32%|███▏      | 7/22 [00:04<00:11,  1.27it/s]\u001b[A\n",
            "Epoch-27 Validate:  36%|███▋      | 8/22 [00:05<00:08,  1.70it/s]\u001b[A\n",
            "Epoch-27 Validate:  41%|████      | 9/22 [00:06<00:10,  1.20it/s]\u001b[A\n",
            "Epoch-27 Validate:  45%|████▌     | 10/22 [00:06<00:07,  1.60it/s]\u001b[A\n",
            "Epoch-27 Validate:  50%|█████     | 11/22 [00:07<00:08,  1.33it/s]\u001b[A\n",
            "Epoch-27 Validate:  55%|█████▍    | 12/22 [00:07<00:05,  1.74it/s]\u001b[A\n",
            "Epoch-27 Validate:  59%|█████▉    | 13/22 [00:08<00:05,  1.61it/s]\u001b[A\n",
            "Epoch-27 Validate:  64%|██████▎   | 14/22 [00:08<00:03,  2.07it/s]\u001b[A\n",
            "Epoch-27 Validate:  68%|██████▊   | 15/22 [00:09<00:03,  1.76it/s]\u001b[A\n",
            "Epoch-27 Validate:  73%|███████▎  | 16/22 [00:09<00:02,  2.25it/s]\u001b[A\n",
            "Epoch-27 Validate:  77%|███████▋  | 17/22 [00:10<00:02,  1.95it/s]\u001b[A\n",
            "Epoch-27 Validate:  82%|████████▏ | 18/22 [00:10<00:01,  2.46it/s]\u001b[A\n",
            "Epoch-27 Validate:  86%|████████▋ | 19/22 [00:11<00:01,  2.01it/s]\u001b[A\n",
            "Epoch-27 Validate:  91%|█████████ | 20/22 [00:11<00:00,  2.53it/s]\u001b[A\n",
            "Epoch-27 Validate:  95%|█████████▌| 21/22 [00:12<00:00,  1.96it/s]\u001b[A\n",
            "Epoch-27 Validate: 100%|██████████| 22/22 [00:12<00:00,  1.78it/s]\n",
            "Epoch 27/50 - Training: 100%|██████████| 87/87 [00:56<00:00,  1.53batch/s, loss=0.0183]\n"
          ]
        },
        {
          "output_type": "stream",
          "name": "stdout",
          "text": [
            "Epoch [27/50],  Training Loss 0.0183,  Validation Loss 0.0189,  LR 0.0001\n"
          ]
        },
        {
          "output_type": "stream",
          "name": "stderr",
          "text": [
            "Epoch 28/50 - Training: 100%|██████████| 87/87 [00:45<00:00,  2.76batch/s, loss=0.0184]\n",
            "Epoch-28 Validate:   0%|          | 0/22 [00:00<?, ?it/s]\u001b[A\n",
            "Epoch-28 Validate:   5%|▍         | 1/22 [00:01<00:23,  1.12s/it]\u001b[A\n",
            "Epoch-28 Validate:   9%|▉         | 2/22 [00:01<00:11,  1.78it/s]\u001b[A\n",
            "Epoch-28 Validate:  14%|█▎        | 3/22 [00:01<00:11,  1.61it/s]\u001b[A\n",
            "Epoch-28 Validate:  18%|█▊        | 4/22 [00:02<00:07,  2.28it/s]\u001b[A\n",
            "Epoch-28 Validate:  23%|██▎       | 5/22 [00:02<00:08,  1.96it/s]\u001b[A\n",
            "Epoch-28 Validate:  27%|██▋       | 6/22 [00:03<00:07,  2.20it/s]\u001b[A\n",
            "Epoch-28 Validate:  32%|███▏      | 7/22 [00:03<00:06,  2.16it/s]\u001b[A\n",
            "Epoch-28 Validate:  36%|███▋      | 8/22 [00:04<00:06,  2.23it/s]\u001b[A\n",
            "Epoch-28 Validate:  41%|████      | 9/22 [00:04<00:06,  2.15it/s]\u001b[A\n",
            "Epoch-28 Validate:  45%|████▌     | 10/22 [00:04<00:05,  2.16it/s]\u001b[A\n",
            "Epoch-28 Validate:  50%|█████     | 11/22 [00:05<00:04,  2.28it/s]\u001b[A\n",
            "Epoch-28 Validate:  55%|█████▍    | 12/22 [00:05<00:04,  2.07it/s]\u001b[A\n",
            "Epoch-28 Validate:  59%|█████▉    | 13/22 [00:06<00:04,  2.21it/s]\u001b[A\n",
            "Epoch-28 Validate:  64%|██████▎   | 14/22 [00:07<00:04,  1.76it/s]\u001b[A\n",
            "Epoch-28 Validate:  68%|██████▊   | 15/22 [00:07<00:04,  1.70it/s]\u001b[A\n",
            "Epoch-28 Validate:  73%|███████▎  | 16/22 [00:08<00:03,  1.53it/s]\u001b[A\n",
            "Epoch-28 Validate:  77%|███████▋  | 17/22 [00:09<00:03,  1.61it/s]\u001b[A\n",
            "Epoch-28 Validate:  82%|████████▏ | 18/22 [00:10<00:02,  1.37it/s]\u001b[A\n",
            "Epoch-28 Validate:  86%|████████▋ | 19/22 [00:10<00:02,  1.43it/s]\u001b[A\n",
            "Epoch-28 Validate:  91%|█████████ | 20/22 [00:11<00:01,  1.31it/s]\u001b[A\n",
            "Epoch-28 Validate:  95%|█████████▌| 21/22 [00:12<00:00,  1.51it/s]\u001b[A\n",
            "Epoch-28 Validate: 100%|██████████| 22/22 [00:12<00:00,  1.79it/s]\n",
            "Epoch 28/50 - Training: 100%|██████████| 87/87 [00:57<00:00,  1.51batch/s, loss=0.0184]\n"
          ]
        },
        {
          "output_type": "stream",
          "name": "stdout",
          "text": [
            "Epoch [28/50],  Training Loss 0.0184,  Validation Loss 0.0190,  LR 0.0001\n"
          ]
        },
        {
          "output_type": "stream",
          "name": "stderr",
          "text": [
            "Epoch 29/50 - Training: 100%|██████████| 87/87 [00:44<00:00,  2.08batch/s, loss=0.0181]\n",
            "Epoch-29 Validate:   0%|          | 0/22 [00:00<?, ?it/s]\u001b[A\n",
            "Epoch-29 Validate:   5%|▍         | 1/22 [00:01<00:26,  1.27s/it]\u001b[A\n",
            "Epoch-29 Validate:   9%|▉         | 2/22 [00:01<00:12,  1.59it/s]\u001b[A\n",
            "Epoch-29 Validate:  14%|█▎        | 3/22 [00:02<00:12,  1.48it/s]\u001b[A\n",
            "Epoch-29 Validate:  18%|█▊        | 4/22 [00:02<00:08,  2.12it/s]\u001b[A\n",
            "Epoch-29 Validate:  23%|██▎       | 5/22 [00:03<00:09,  1.84it/s]\u001b[A\n",
            "Epoch-29 Validate:  27%|██▋       | 6/22 [00:03<00:06,  2.42it/s]\u001b[A\n",
            "Epoch-29 Validate:  32%|███▏      | 7/22 [00:03<00:07,  1.88it/s]\u001b[A\n",
            "Epoch-29 Validate:  36%|███▋      | 8/22 [00:04<00:05,  2.41it/s]\u001b[A\n",
            "Epoch-29 Validate:  41%|████      | 9/22 [00:04<00:06,  2.10it/s]\u001b[A\n",
            "Epoch-29 Validate:  45%|████▌     | 10/22 [00:04<00:04,  2.65it/s]\u001b[A\n",
            "Epoch-29 Validate:  50%|█████     | 11/22 [00:05<00:05,  2.05it/s]\u001b[A\n",
            "Epoch-29 Validate:  55%|█████▍    | 12/22 [00:05<00:03,  2.56it/s]\u001b[A\n",
            "Epoch-29 Validate:  59%|█████▉    | 13/22 [00:06<00:04,  2.05it/s]\u001b[A\n",
            "Epoch-29 Validate:  64%|██████▎   | 14/22 [00:06<00:03,  2.57it/s]\u001b[A\n",
            "Epoch-29 Validate:  68%|██████▊   | 15/22 [00:07<00:03,  2.12it/s]\u001b[A\n",
            "Epoch-29 Validate:  73%|███████▎  | 16/22 [00:07<00:02,  2.63it/s]\u001b[A\n",
            "Epoch-29 Validate:  77%|███████▋  | 17/22 [00:08<00:02,  2.07it/s]\u001b[A\n",
            "Epoch-29 Validate:  82%|████████▏ | 18/22 [00:08<00:01,  2.52it/s]\u001b[A\n",
            "Epoch-29 Validate:  86%|████████▋ | 19/22 [00:09<00:01,  2.06it/s]\u001b[A\n",
            "Epoch-29 Validate:  91%|█████████ | 20/22 [00:09<00:00,  2.46it/s]\u001b[A\n",
            "Epoch-29 Validate:  95%|█████████▌| 21/22 [00:09<00:00,  2.15it/s]\u001b[A\n",
            "Epoch-29 Validate: 100%|██████████| 22/22 [00:10<00:00,  2.18it/s]\n",
            "Epoch 29/50 - Training: 100%|██████████| 87/87 [00:54<00:00,  1.60batch/s, loss=0.0181]\n"
          ]
        },
        {
          "output_type": "stream",
          "name": "stdout",
          "text": [
            "Epoch [29/50],  Training Loss 0.0181,  Validation Loss 0.0190,  LR 0.0001\n"
          ]
        },
        {
          "output_type": "stream",
          "name": "stderr",
          "text": [
            "Epoch 30/50 - Training: 100%|██████████| 87/87 [00:45<00:00,  3.57batch/s, loss=0.0179]\n",
            "Epoch-30 Validate:   0%|          | 0/22 [00:00<?, ?it/s]\u001b[A\n",
            "Epoch-30 Validate:   5%|▍         | 1/22 [00:01<00:23,  1.11s/it]\u001b[A\n",
            "Epoch-30 Validate:   9%|▉         | 2/22 [00:01<00:11,  1.78it/s]\u001b[A\n",
            "Epoch-30 Validate:  14%|█▎        | 3/22 [00:02<00:15,  1.20it/s]\u001b[A\n",
            "Epoch-30 Validate:  18%|█▊        | 4/22 [00:02<00:10,  1.76it/s]\u001b[A\n",
            "Epoch-30 Validate:  23%|██▎       | 5/22 [00:03<00:13,  1.27it/s]\u001b[A\n",
            "Epoch-30 Validate:  27%|██▋       | 6/22 [00:03<00:09,  1.73it/s]\u001b[A\n",
            "Epoch-30 Validate:  32%|███▏      | 7/22 [00:05<00:12,  1.23it/s]\u001b[A\n",
            "Epoch-30 Validate:  36%|███▋      | 8/22 [00:05<00:08,  1.64it/s]\u001b[A\n",
            "Epoch-30 Validate:  41%|████      | 9/22 [00:06<00:10,  1.19it/s]\u001b[A\n",
            "Epoch-30 Validate:  45%|████▌     | 10/22 [00:06<00:07,  1.54it/s]\u001b[A\n",
            "Epoch-30 Validate:  50%|█████     | 11/22 [00:07<00:07,  1.48it/s]\u001b[A\n",
            "Epoch-30 Validate:  55%|█████▍    | 12/22 [00:07<00:05,  1.93it/s]\u001b[A\n",
            "Epoch-30 Validate:  59%|█████▉    | 13/22 [00:08<00:05,  1.72it/s]\u001b[A\n",
            "Epoch-30 Validate:  64%|██████▎   | 14/22 [00:08<00:03,  2.18it/s]\u001b[A\n",
            "Epoch-30 Validate:  68%|██████▊   | 15/22 [00:09<00:03,  1.89it/s]\u001b[A\n",
            "Epoch-30 Validate:  73%|███████▎  | 16/22 [00:09<00:02,  2.29it/s]\u001b[A\n",
            "Epoch-30 Validate:  77%|███████▋  | 17/22 [00:10<00:02,  2.01it/s]\u001b[A\n",
            "Epoch-30 Validate:  82%|████████▏ | 18/22 [00:10<00:01,  2.22it/s]\u001b[A\n",
            "Epoch-30 Validate:  86%|████████▋ | 19/22 [00:11<00:01,  1.94it/s]\u001b[A\n",
            "Epoch-30 Validate:  91%|█████████ | 20/22 [00:11<00:00,  2.39it/s]\u001b[A\n",
            "Epoch-30 Validate:  95%|█████████▌| 21/22 [00:12<00:00,  1.98it/s]\u001b[A\n",
            "Epoch-30 Validate: 100%|██████████| 22/22 [00:12<00:00,  1.77it/s]\n",
            "Epoch 30/50 - Training: 100%|██████████| 87/87 [00:57<00:00,  1.51batch/s, loss=0.0179]\n"
          ]
        },
        {
          "output_type": "stream",
          "name": "stdout",
          "text": [
            "Epoch [30/50],  Training Loss 0.0179,  Validation Loss 0.0180,  LR 1e-05\n"
          ]
        },
        {
          "output_type": "stream",
          "name": "stderr",
          "text": [
            "Epoch 31/50 - Training: 100%|██████████| 87/87 [00:45<00:00,  2.98batch/s, loss=0.0174]\n",
            "Epoch-31 Validate:   0%|          | 0/22 [00:00<?, ?it/s]\u001b[A\n",
            "Epoch-31 Validate:   5%|▍         | 1/22 [00:01<00:23,  1.10s/it]\u001b[A\n",
            "Epoch-31 Validate:   9%|▉         | 2/22 [00:01<00:11,  1.80it/s]\u001b[A\n",
            "Epoch-31 Validate:  14%|█▎        | 3/22 [00:01<00:11,  1.59it/s]\u001b[A\n",
            "Epoch-31 Validate:  18%|█▊        | 4/22 [00:02<00:08,  2.22it/s]\u001b[A\n",
            "Epoch-31 Validate:  23%|██▎       | 5/22 [00:02<00:09,  1.72it/s]\u001b[A\n",
            "Epoch-31 Validate:  27%|██▋       | 6/22 [00:03<00:07,  2.27it/s]\u001b[A\n",
            "Epoch-31 Validate:  32%|███▏      | 7/22 [00:03<00:08,  1.75it/s]\u001b[A\n",
            "Epoch-31 Validate:  36%|███▋      | 8/22 [00:04<00:06,  2.27it/s]\u001b[A\n",
            "Epoch-31 Validate:  41%|████      | 9/22 [00:04<00:07,  1.80it/s]\u001b[A\n",
            "Epoch-31 Validate:  45%|████▌     | 10/22 [00:05<00:05,  2.31it/s]\u001b[A\n",
            "Epoch-31 Validate:  50%|█████     | 11/22 [00:06<00:07,  1.43it/s]\u001b[A\n",
            "Epoch-31 Validate:  55%|█████▍    | 12/22 [00:06<00:05,  1.86it/s]\u001b[A\n",
            "Epoch-31 Validate:  59%|█████▉    | 13/22 [00:07<00:06,  1.31it/s]\u001b[A\n",
            "Epoch-31 Validate:  64%|██████▎   | 14/22 [00:08<00:04,  1.71it/s]\u001b[A\n",
            "Epoch-31 Validate:  68%|██████▊   | 15/22 [00:09<00:05,  1.24it/s]\u001b[A\n",
            "Epoch-31 Validate:  73%|███████▎  | 16/22 [00:09<00:03,  1.63it/s]\u001b[A\n",
            "Epoch-31 Validate:  77%|███████▋  | 17/22 [00:10<00:03,  1.30it/s]\u001b[A\n",
            "Epoch-31 Validate:  82%|████████▏ | 18/22 [00:10<00:02,  1.71it/s]\u001b[A\n",
            "Epoch-31 Validate:  86%|████████▋ | 19/22 [00:11<00:01,  1.57it/s]\u001b[A\n",
            "Epoch-31 Validate:  91%|█████████ | 20/22 [00:11<00:00,  2.00it/s]\u001b[A\n",
            "Epoch-31 Validate:  95%|█████████▌| 21/22 [00:12<00:00,  2.01it/s]\u001b[A\n",
            "Epoch-31 Validate: 100%|██████████| 22/22 [00:12<00:00,  1.77it/s]\n",
            "Epoch 31/50 - Training: 100%|██████████| 87/87 [00:58<00:00,  1.50batch/s, loss=0.0174]\n"
          ]
        },
        {
          "output_type": "stream",
          "name": "stdout",
          "text": [
            "Epoch [31/50],  Training Loss 0.0174,  Validation Loss 0.0175,  LR 1e-05\n"
          ]
        },
        {
          "output_type": "stream",
          "name": "stderr",
          "text": [
            "Epoch 32/50 - Training: 100%|██████████| 87/87 [00:46<00:00,  2.82batch/s, loss=0.0168]\n",
            "Epoch-32 Validate:   0%|          | 0/22 [00:00<?, ?it/s]\u001b[A\n",
            "Epoch-32 Validate:   5%|▍         | 1/22 [00:01<00:22,  1.09s/it]\u001b[A\n",
            "Epoch-32 Validate:   9%|▉         | 2/22 [00:01<00:11,  1.80it/s]\u001b[A\n",
            "Epoch-32 Validate:  14%|█▎        | 3/22 [00:01<00:11,  1.65it/s]\u001b[A\n",
            "Epoch-32 Validate:  18%|█▊        | 4/22 [00:02<00:07,  2.32it/s]\u001b[A\n",
            "Epoch-32 Validate:  23%|██▎       | 5/22 [00:02<00:09,  1.80it/s]\u001b[A\n",
            "Epoch-32 Validate:  27%|██▋       | 6/22 [00:03<00:06,  2.35it/s]\u001b[A\n",
            "Epoch-32 Validate:  32%|███▏      | 7/22 [00:03<00:08,  1.84it/s]\u001b[A\n",
            "Epoch-32 Validate:  36%|███▋      | 8/22 [00:04<00:05,  2.37it/s]\u001b[A\n",
            "Epoch-32 Validate:  41%|████      | 9/22 [00:04<00:06,  1.92it/s]\u001b[A\n",
            "Epoch-32 Validate:  45%|████▌     | 10/22 [00:04<00:04,  2.41it/s]\u001b[A\n",
            "Epoch-32 Validate:  50%|█████     | 11/22 [00:05<00:05,  1.92it/s]\u001b[A\n",
            "Epoch-32 Validate:  55%|█████▍    | 12/22 [00:05<00:04,  2.41it/s]\u001b[A\n",
            "Epoch-32 Validate:  59%|█████▉    | 13/22 [00:06<00:05,  1.77it/s]\u001b[A\n",
            "Epoch-32 Validate:  64%|██████▎   | 14/22 [00:06<00:03,  2.25it/s]\u001b[A\n",
            "Epoch-32 Validate:  68%|██████▊   | 15/22 [00:07<00:03,  1.86it/s]\u001b[A\n",
            "Epoch-32 Validate:  73%|███████▎  | 16/22 [00:07<00:02,  2.37it/s]\u001b[A\n",
            "Epoch-32 Validate:  77%|███████▋  | 17/22 [00:08<00:02,  1.81it/s]\u001b[A\n",
            "Epoch-32 Validate:  82%|████████▏ | 18/22 [00:08<00:01,  2.31it/s]\u001b[A\n",
            "Epoch-32 Validate:  86%|████████▋ | 19/22 [00:10<00:02,  1.44it/s]\u001b[A\n",
            "Epoch-32 Validate:  91%|█████████ | 20/22 [00:10<00:01,  1.87it/s]\u001b[A\n",
            "Epoch-32 Validate:  95%|█████████▌| 21/22 [00:11<00:00,  1.48it/s]\u001b[A\n",
            "Epoch-32 Validate: 100%|██████████| 22/22 [00:11<00:00,  1.91it/s]\n",
            "Epoch 32/50 - Training: 100%|██████████| 87/87 [00:57<00:00,  1.50batch/s, loss=0.0168]\n"
          ]
        },
        {
          "output_type": "stream",
          "name": "stdout",
          "text": [
            "Epoch [32/50],  Training Loss 0.0168,  Validation Loss 0.0179,  LR 1e-05\n"
          ]
        },
        {
          "output_type": "stream",
          "name": "stderr",
          "text": [
            "Epoch 33/50 - Training: 100%|██████████| 87/87 [00:45<00:00,  2.02batch/s, loss=0.0168]\n",
            "Epoch-33 Validate:   0%|          | 0/22 [00:00<?, ?it/s]\u001b[A\n",
            "Epoch-33 Validate:   5%|▍         | 1/22 [00:01<00:25,  1.22s/it]\u001b[A\n",
            "Epoch-33 Validate:   9%|▉         | 2/22 [00:01<00:11,  1.67it/s]\u001b[A\n",
            "Epoch-33 Validate:  14%|█▎        | 3/22 [00:02<00:12,  1.49it/s]\u001b[A\n",
            "Epoch-33 Validate:  18%|█▊        | 4/22 [00:02<00:08,  2.09it/s]\u001b[A\n",
            "Epoch-33 Validate:  23%|██▎       | 5/22 [00:03<00:09,  1.79it/s]\u001b[A\n",
            "Epoch-33 Validate:  27%|██▋       | 6/22 [00:03<00:06,  2.36it/s]\u001b[A\n",
            "Epoch-33 Validate:  32%|███▏      | 7/22 [00:03<00:08,  1.83it/s]\u001b[A\n",
            "Epoch-33 Validate:  36%|███▋      | 8/22 [00:04<00:05,  2.36it/s]\u001b[A\n",
            "Epoch-33 Validate:  41%|████      | 9/22 [00:04<00:06,  2.00it/s]\u001b[A\n",
            "Epoch-33 Validate:  45%|████▌     | 10/22 [00:04<00:04,  2.52it/s]\u001b[A\n",
            "Epoch-33 Validate:  50%|█████     | 11/22 [00:05<00:05,  2.13it/s]\u001b[A\n",
            "Epoch-33 Validate:  55%|█████▍    | 12/22 [00:05<00:03,  2.62it/s]\u001b[A\n",
            "Epoch-33 Validate:  59%|█████▉    | 13/22 [00:06<00:04,  1.98it/s]\u001b[A\n",
            "Epoch-33 Validate:  64%|██████▎   | 14/22 [00:06<00:03,  2.49it/s]\u001b[A\n",
            "Epoch-33 Validate:  68%|██████▊   | 15/22 [00:07<00:03,  1.98it/s]\u001b[A\n",
            "Epoch-33 Validate:  73%|███████▎  | 16/22 [00:07<00:02,  2.40it/s]\u001b[A\n",
            "Epoch-33 Validate:  77%|███████▋  | 17/22 [00:08<00:02,  1.91it/s]\u001b[A\n",
            "Epoch-33 Validate:  82%|████████▏ | 18/22 [00:08<00:01,  2.41it/s]\u001b[A\n",
            "Epoch-33 Validate:  86%|████████▋ | 19/22 [00:09<00:01,  1.90it/s]\u001b[A\n",
            "Epoch-33 Validate:  91%|█████████ | 20/22 [00:09<00:00,  2.39it/s]\u001b[A\n",
            "Epoch-33 Validate:  95%|█████████▌| 21/22 [00:10<00:00,  2.01it/s]\u001b[A\n",
            "Epoch-33 Validate: 100%|██████████| 22/22 [00:10<00:00,  2.10it/s]\n",
            "Epoch 33/50 - Training: 100%|██████████| 87/87 [00:55<00:00,  1.56batch/s, loss=0.0168]\n"
          ]
        },
        {
          "output_type": "stream",
          "name": "stdout",
          "text": [
            "Epoch [33/50],  Training Loss 0.0168,  Validation Loss 0.0176,  LR 1e-05\n"
          ]
        },
        {
          "output_type": "stream",
          "name": "stderr",
          "text": [
            "Epoch 34/50 - Training: 100%|██████████| 87/87 [00:45<00:00,  2.81batch/s, loss=0.0165]\n",
            "Epoch-34 Validate:   0%|          | 0/22 [00:00<?, ?it/s]\u001b[A\n",
            "Epoch-34 Validate:   5%|▍         | 1/22 [00:01<00:37,  1.79s/it]\u001b[A\n",
            "Epoch-34 Validate:   9%|▉         | 2/22 [00:01<00:16,  1.20it/s]\u001b[A\n",
            "Epoch-34 Validate:  14%|█▎        | 3/22 [00:03<00:20,  1.07s/it]\u001b[A\n",
            "Epoch-34 Validate:  18%|█▊        | 4/22 [00:03<00:12,  1.39it/s]\u001b[A\n",
            "Epoch-34 Validate:  23%|██▎       | 5/22 [00:04<00:15,  1.10it/s]\u001b[A\n",
            "Epoch-34 Validate:  27%|██▋       | 6/22 [00:04<00:10,  1.52it/s]\u001b[A\n",
            "Epoch-34 Validate:  32%|███▏      | 7/22 [00:05<00:11,  1.35it/s]\u001b[A\n",
            "Epoch-34 Validate:  36%|███▋      | 8/22 [00:05<00:07,  1.80it/s]\u001b[A\n",
            "Epoch-34 Validate:  41%|████      | 9/22 [00:06<00:07,  1.63it/s]\u001b[A\n",
            "Epoch-34 Validate:  45%|████▌     | 10/22 [00:06<00:05,  2.10it/s]\u001b[A\n",
            "Epoch-34 Validate:  50%|█████     | 11/22 [00:07<00:06,  1.77it/s]\u001b[A\n",
            "Epoch-34 Validate:  55%|█████▍    | 12/22 [00:07<00:04,  2.23it/s]\u001b[A\n",
            "Epoch-34 Validate:  59%|█████▉    | 13/22 [00:08<00:04,  1.86it/s]\u001b[A\n",
            "Epoch-34 Validate:  64%|██████▎   | 14/22 [00:08<00:03,  2.35it/s]\u001b[A\n",
            "Epoch-34 Validate:  68%|██████▊   | 15/22 [00:09<00:03,  1.94it/s]\u001b[A\n",
            "Epoch-34 Validate:  73%|███████▎  | 16/22 [00:09<00:02,  2.44it/s]\u001b[A\n",
            "Epoch-34 Validate:  77%|███████▋  | 17/22 [00:10<00:02,  1.93it/s]\u001b[A\n",
            "Epoch-34 Validate:  82%|████████▏ | 18/22 [00:10<00:01,  2.44it/s]\u001b[A\n",
            "Epoch-34 Validate:  86%|████████▋ | 19/22 [00:11<00:01,  1.83it/s]\u001b[A\n",
            "Epoch-34 Validate:  91%|█████████ | 20/22 [00:11<00:00,  2.32it/s]\u001b[A\n",
            "Epoch-34 Validate:  95%|█████████▌| 21/22 [00:12<00:00,  2.10it/s]\u001b[A\n",
            "Epoch-34 Validate: 100%|██████████| 22/22 [00:12<00:00,  1.78it/s]\n",
            "Epoch 34/50 - Training: 100%|██████████| 87/87 [00:58<00:00,  1.50batch/s, loss=0.0165]\n"
          ]
        },
        {
          "output_type": "stream",
          "name": "stdout",
          "text": [
            "Epoch [34/50],  Training Loss 0.0165,  Validation Loss 0.0175,  LR 1e-05\n"
          ]
        },
        {
          "output_type": "stream",
          "name": "stderr",
          "text": [
            "Epoch 35/50 - Training: 100%|██████████| 87/87 [00:45<00:00,  3.43batch/s, loss=0.0166]\n",
            "Epoch-35 Validate:   0%|          | 0/22 [00:00<?, ?it/s]\u001b[A\n",
            "Epoch-35 Validate:   5%|▍         | 1/22 [00:01<00:23,  1.11s/it]\u001b[A\n",
            "Epoch-35 Validate:   9%|▉         | 2/22 [00:01<00:10,  1.82it/s]\u001b[A\n",
            "Epoch-35 Validate:  14%|█▎        | 3/22 [00:02<00:12,  1.50it/s]\u001b[A\n",
            "Epoch-35 Validate:  18%|█▊        | 4/22 [00:02<00:08,  2.13it/s]\u001b[A\n",
            "Epoch-35 Validate:  23%|██▎       | 5/22 [00:03<00:10,  1.66it/s]\u001b[A\n",
            "Epoch-35 Validate:  27%|██▋       | 6/22 [00:03<00:07,  2.21it/s]\u001b[A\n",
            "Epoch-35 Validate:  32%|███▏      | 7/22 [00:04<00:10,  1.47it/s]\u001b[A\n",
            "Epoch-35 Validate:  36%|███▋      | 8/22 [00:04<00:07,  1.89it/s]\u001b[A\n",
            "Epoch-35 Validate:  41%|████      | 9/22 [00:05<00:10,  1.29it/s]\u001b[A\n",
            "Epoch-35 Validate:  45%|████▌     | 10/22 [00:06<00:07,  1.70it/s]\u001b[A\n",
            "Epoch-35 Validate:  50%|█████     | 11/22 [00:07<00:09,  1.21it/s]\u001b[A\n",
            "Epoch-35 Validate:  55%|█████▍    | 12/22 [00:07<00:06,  1.59it/s]\u001b[A\n",
            "Epoch-35 Validate:  59%|█████▉    | 13/22 [00:08<00:06,  1.40it/s]\u001b[A\n",
            "Epoch-35 Validate:  64%|██████▎   | 14/22 [00:08<00:04,  1.83it/s]\u001b[A\n",
            "Epoch-35 Validate:  68%|██████▊   | 15/22 [00:09<00:04,  1.66it/s]\u001b[A\n",
            "Epoch-35 Validate:  73%|███████▎  | 16/22 [00:09<00:02,  2.13it/s]\u001b[A\n",
            "Epoch-35 Validate:  77%|███████▋  | 17/22 [00:10<00:02,  1.78it/s]\u001b[A\n",
            "Epoch-35 Validate:  82%|████████▏ | 18/22 [00:10<00:01,  2.25it/s]\u001b[A\n",
            "Epoch-35 Validate:  86%|████████▋ | 19/22 [00:11<00:01,  1.82it/s]\u001b[A\n",
            "Epoch-35 Validate:  91%|█████████ | 20/22 [00:11<00:00,  2.31it/s]\u001b[A\n",
            "Epoch-35 Validate:  95%|█████████▌| 21/22 [00:12<00:00,  2.13it/s]\u001b[A\n",
            "Epoch-35 Validate: 100%|██████████| 22/22 [00:12<00:00,  1.80it/s]\n",
            "Epoch 35/50 - Training: 100%|██████████| 87/87 [00:57<00:00,  1.50batch/s, loss=0.0166]\n"
          ]
        },
        {
          "output_type": "stream",
          "name": "stdout",
          "text": [
            "Epoch [35/50],  Training Loss 0.0166,  Validation Loss 0.0177,  LR 1e-05\n"
          ]
        },
        {
          "output_type": "stream",
          "name": "stderr",
          "text": [
            "Epoch 36/50 - Training: 100%|██████████| 87/87 [00:46<00:00,  3.07batch/s, loss=0.0165]\n",
            "Epoch-36 Validate:   0%|          | 0/22 [00:00<?, ?it/s]\u001b[A\n",
            "Epoch-36 Validate:   5%|▍         | 1/22 [00:01<00:23,  1.11s/it]\u001b[A\n",
            "Epoch-36 Validate:   9%|▉         | 2/22 [00:01<00:11,  1.81it/s]\u001b[A\n",
            "Epoch-36 Validate:  14%|█▎        | 3/22 [00:02<00:12,  1.52it/s]\u001b[A\n",
            "Epoch-36 Validate:  18%|█▊        | 4/22 [00:02<00:08,  2.16it/s]\u001b[A\n",
            "Epoch-36 Validate:  23%|██▎       | 5/22 [00:03<00:10,  1.67it/s]\u001b[A\n",
            "Epoch-36 Validate:  27%|██▋       | 6/22 [00:03<00:07,  2.21it/s]\u001b[A\n",
            "Epoch-36 Validate:  32%|███▏      | 7/22 [00:04<00:08,  1.76it/s]\u001b[A\n",
            "Epoch-36 Validate:  36%|███▋      | 8/22 [00:04<00:06,  2.28it/s]\u001b[A\n",
            "Epoch-36 Validate:  41%|████      | 9/22 [00:04<00:07,  1.83it/s]\u001b[A\n",
            "Epoch-36 Validate:  45%|████▌     | 10/22 [00:05<00:05,  2.31it/s]\u001b[A\n",
            "Epoch-36 Validate:  50%|█████     | 11/22 [00:05<00:05,  1.94it/s]\u001b[A\n",
            "Epoch-36 Validate:  55%|█████▍    | 12/22 [00:06<00:04,  2.43it/s]\u001b[A\n",
            "Epoch-36 Validate:  59%|█████▉    | 13/22 [00:07<00:06,  1.47it/s]\u001b[A\n",
            "Epoch-36 Validate:  64%|██████▎   | 14/22 [00:07<00:04,  1.90it/s]\u001b[A\n",
            "Epoch-36 Validate:  68%|██████▊   | 15/22 [00:08<00:05,  1.32it/s]\u001b[A\n",
            "Epoch-36 Validate:  73%|███████▎  | 16/22 [00:08<00:03,  1.72it/s]\u001b[A\n",
            "Epoch-36 Validate:  77%|███████▋  | 17/22 [00:10<00:04,  1.22it/s]\u001b[A\n",
            "Epoch-36 Validate:  82%|████████▏ | 18/22 [00:10<00:02,  1.60it/s]\u001b[A\n",
            "Epoch-36 Validate:  86%|████████▋ | 19/22 [00:11<00:02,  1.26it/s]\u001b[A\n",
            "Epoch-36 Validate:  91%|█████████ | 20/22 [00:11<00:01,  1.66it/s]\u001b[A\n",
            "Epoch-36 Validate:  95%|█████████▌| 21/22 [00:12<00:00,  1.69it/s]\u001b[A\n",
            "Epoch-36 Validate: 100%|██████████| 22/22 [00:12<00:00,  1.74it/s]\n",
            "Epoch 36/50 - Training: 100%|██████████| 87/87 [00:59<00:00,  1.47batch/s, loss=0.0165]\n"
          ]
        },
        {
          "output_type": "stream",
          "name": "stdout",
          "text": [
            "Epoch [36/50],  Training Loss 0.0165,  Validation Loss 0.0174,  LR 1e-05\n"
          ]
        },
        {
          "output_type": "stream",
          "name": "stderr",
          "text": [
            "Epoch 37/50 - Training: 100%|██████████| 87/87 [00:46<00:00,  2.69batch/s, loss=0.0164]\n",
            "Epoch-37 Validate:   0%|          | 0/22 [00:00<?, ?it/s]\u001b[A\n",
            "Epoch-37 Validate:   5%|▍         | 1/22 [00:01<00:22,  1.09s/it]\u001b[A\n",
            "Epoch-37 Validate:   9%|▉         | 2/22 [00:01<00:10,  1.84it/s]\u001b[A\n",
            "Epoch-37 Validate:  14%|█▎        | 3/22 [00:02<00:12,  1.49it/s]\u001b[A\n",
            "Epoch-37 Validate:  18%|█▊        | 4/22 [00:02<00:08,  2.13it/s]\u001b[A\n",
            "Epoch-37 Validate:  23%|██▎       | 5/22 [00:03<00:09,  1.70it/s]\u001b[A\n",
            "Epoch-37 Validate:  27%|██▋       | 6/22 [00:03<00:07,  2.24it/s]\u001b[A\n",
            "Epoch-37 Validate:  32%|███▏      | 7/22 [00:03<00:07,  1.88it/s]\u001b[A\n",
            "Epoch-37 Validate:  36%|███▋      | 8/22 [00:04<00:05,  2.39it/s]\u001b[A\n",
            "Epoch-37 Validate:  41%|████      | 9/22 [00:04<00:06,  1.87it/s]\u001b[A\n",
            "Epoch-37 Validate:  45%|████▌     | 10/22 [00:05<00:05,  2.36it/s]\u001b[A\n",
            "Epoch-37 Validate:  50%|█████     | 11/22 [00:05<00:05,  1.86it/s]\u001b[A\n",
            "Epoch-37 Validate:  55%|█████▍    | 12/22 [00:06<00:04,  2.37it/s]\u001b[A\n",
            "Epoch-37 Validate:  59%|█████▉    | 13/22 [00:06<00:04,  1.92it/s]\u001b[A\n",
            "Epoch-37 Validate:  64%|██████▎   | 14/22 [00:06<00:03,  2.40it/s]\u001b[A\n",
            "Epoch-37 Validate:  68%|██████▊   | 15/22 [00:07<00:03,  1.98it/s]\u001b[A\n",
            "Epoch-37 Validate:  73%|███████▎  | 16/22 [00:07<00:02,  2.47it/s]\u001b[A\n",
            "Epoch-37 Validate:  77%|███████▋  | 17/22 [00:08<00:02,  1.93it/s]\u001b[A\n",
            "Epoch-37 Validate:  82%|████████▏ | 18/22 [00:08<00:01,  2.43it/s]\u001b[A\n",
            "Epoch-37 Validate:  86%|████████▋ | 19/22 [00:10<00:01,  1.52it/s]\u001b[A\n",
            "Epoch-37 Validate:  91%|█████████ | 20/22 [00:10<00:01,  1.95it/s]\u001b[A\n",
            "Epoch-37 Validate:  95%|█████████▌| 21/22 [00:10<00:00,  1.76it/s]\u001b[A\n",
            "Epoch-37 Validate: 100%|██████████| 22/22 [00:11<00:00,  1.99it/s]\n",
            "Epoch 37/50 - Training: 100%|██████████| 87/87 [00:57<00:00,  1.52batch/s, loss=0.0164]\n"
          ]
        },
        {
          "output_type": "stream",
          "name": "stdout",
          "text": [
            "Epoch [37/50],  Training Loss 0.0164,  Validation Loss 0.0176,  LR 1e-05\n"
          ]
        },
        {
          "output_type": "stream",
          "name": "stderr",
          "text": [
            "Epoch 38/50 - Training: 100%|██████████| 87/87 [00:45<00:00,  2.24batch/s, loss=0.0163]\n",
            "Epoch-38 Validate:   0%|          | 0/22 [00:00<?, ?it/s]\u001b[A\n",
            "Epoch-38 Validate:   5%|▍         | 1/22 [00:01<00:24,  1.19s/it]\u001b[A\n",
            "Epoch-38 Validate:   9%|▉         | 2/22 [00:01<00:11,  1.71it/s]\u001b[A\n",
            "Epoch-38 Validate:  14%|█▎        | 3/22 [00:02<00:12,  1.50it/s]\u001b[A\n",
            "Epoch-38 Validate:  18%|█▊        | 4/22 [00:02<00:08,  2.14it/s]\u001b[A\n",
            "Epoch-38 Validate:  23%|██▎       | 5/22 [00:03<00:10,  1.67it/s]\u001b[A\n",
            "Epoch-38 Validate:  27%|██▋       | 6/22 [00:03<00:07,  2.23it/s]\u001b[A\n",
            "Epoch-38 Validate:  32%|███▏      | 7/22 [00:04<00:08,  1.79it/s]\u001b[A\n",
            "Epoch-38 Validate:  36%|███▋      | 8/22 [00:04<00:06,  2.31it/s]\u001b[A\n",
            "Epoch-38 Validate:  41%|████      | 9/22 [00:04<00:06,  1.87it/s]\u001b[A\n",
            "Epoch-38 Validate:  45%|████▌     | 10/22 [00:05<00:05,  2.36it/s]\u001b[A\n",
            "Epoch-38 Validate:  50%|█████     | 11/22 [00:05<00:05,  1.85it/s]\u001b[A\n",
            "Epoch-38 Validate:  55%|█████▍    | 12/22 [00:06<00:04,  2.35it/s]\u001b[A\n",
            "Epoch-38 Validate:  59%|█████▉    | 13/22 [00:06<00:04,  1.92it/s]\u001b[A\n",
            "Epoch-38 Validate:  64%|██████▎   | 14/22 [00:07<00:03,  2.42it/s]\u001b[A\n",
            "Epoch-38 Validate:  68%|██████▊   | 15/22 [00:07<00:03,  1.98it/s]\u001b[A\n",
            "Epoch-38 Validate:  73%|███████▎  | 16/22 [00:07<00:02,  2.47it/s]\u001b[A\n",
            "Epoch-38 Validate:  77%|███████▋  | 17/22 [00:08<00:02,  2.10it/s]\u001b[A\n",
            "Epoch-38 Validate:  82%|████████▏ | 18/22 [00:08<00:01,  2.62it/s]\u001b[A\n",
            "Epoch-38 Validate:  86%|████████▋ | 19/22 [00:09<00:01,  2.00it/s]\u001b[A\n",
            "Epoch-38 Validate:  91%|█████████ | 20/22 [00:09<00:00,  2.50it/s]\u001b[A\n",
            "Epoch-38 Validate:  95%|█████████▌| 21/22 [00:10<00:00,  2.29it/s]\u001b[A\n",
            "Epoch-38 Validate: 100%|██████████| 22/22 [00:10<00:00,  2.12it/s]\n",
            "Epoch 38/50 - Training: 100%|██████████| 87/87 [00:55<00:00,  1.56batch/s, loss=0.0163]\n"
          ]
        },
        {
          "output_type": "stream",
          "name": "stdout",
          "text": [
            "Epoch [38/50],  Training Loss 0.0163,  Validation Loss 0.0176,  LR 1e-05\n"
          ]
        },
        {
          "output_type": "stream",
          "name": "stderr",
          "text": [
            "Epoch 39/50 - Training: 100%|██████████| 87/87 [00:44<00:00,  3.47batch/s, loss=0.0163]\n",
            "Epoch-39 Validate:   0%|          | 0/22 [00:00<?, ?it/s]\u001b[A\n",
            "Epoch-39 Validate:   5%|▍         | 1/22 [00:01<00:32,  1.57s/it]\u001b[A\n",
            "Epoch-39 Validate:   9%|▉         | 2/22 [00:01<00:14,  1.34it/s]\u001b[A\n",
            "Epoch-39 Validate:  14%|█▎        | 3/22 [00:02<00:17,  1.07it/s]\u001b[A\n",
            "Epoch-39 Validate:  18%|█▊        | 4/22 [00:03<00:11,  1.51it/s]\u001b[A\n",
            "Epoch-39 Validate:  23%|██▎       | 5/22 [00:04<00:14,  1.16it/s]\u001b[A\n",
            "Epoch-39 Validate:  27%|██▋       | 6/22 [00:04<00:10,  1.48it/s]\u001b[A\n",
            "Epoch-39 Validate:  32%|███▏      | 7/22 [00:05<00:09,  1.50it/s]\u001b[A\n",
            "Epoch-39 Validate:  36%|███▋      | 8/22 [00:05<00:07,  1.84it/s]\u001b[A\n",
            "Epoch-39 Validate:  41%|████      | 9/22 [00:06<00:07,  1.72it/s]\u001b[A\n",
            "Epoch-39 Validate:  45%|████▌     | 10/22 [00:06<00:05,  2.03it/s]\u001b[A\n",
            "Epoch-39 Validate:  50%|█████     | 11/22 [00:07<00:05,  1.87it/s]\u001b[A\n",
            "Epoch-39 Validate:  55%|█████▍    | 12/22 [00:07<00:04,  2.15it/s]\u001b[A\n",
            "Epoch-39 Validate:  59%|█████▉    | 13/22 [00:08<00:04,  1.94it/s]\u001b[A\n",
            "Epoch-39 Validate:  64%|██████▎   | 14/22 [00:08<00:03,  2.26it/s]\u001b[A\n",
            "Epoch-39 Validate:  68%|██████▊   | 15/22 [00:09<00:03,  1.96it/s]\u001b[A\n",
            "Epoch-39 Validate:  73%|███████▎  | 16/22 [00:09<00:02,  2.38it/s]\u001b[A\n",
            "Epoch-39 Validate:  77%|███████▋  | 17/22 [00:09<00:02,  2.08it/s]\u001b[A\n",
            "Epoch-39 Validate:  82%|████████▏ | 18/22 [00:10<00:01,  2.45it/s]\u001b[A\n",
            "Epoch-39 Validate:  86%|████████▋ | 19/22 [00:10<00:01,  2.03it/s]\u001b[A\n",
            "Epoch-39 Validate:  91%|█████████ | 20/22 [00:11<00:00,  2.34it/s]\u001b[A\n",
            "Epoch-39 Validate:  95%|█████████▌| 21/22 [00:11<00:00,  2.13it/s]\u001b[A\n",
            "Epoch-39 Validate: 100%|██████████| 22/22 [00:11<00:00,  1.85it/s]\n",
            "Epoch 39/50 - Training: 100%|██████████| 87/87 [00:56<00:00,  1.54batch/s, loss=0.0163]\n"
          ]
        },
        {
          "output_type": "stream",
          "name": "stdout",
          "text": [
            "Epoch [39/50],  Training Loss 0.0163,  Validation Loss 0.0174,  LR 1e-05\n"
          ]
        },
        {
          "output_type": "stream",
          "name": "stderr",
          "text": [
            "Epoch 40/50 - Training: 100%|██████████| 87/87 [00:45<00:00,  3.66batch/s, loss=0.0163]\n",
            "Epoch-40 Validate:   0%|          | 0/22 [00:00<?, ?it/s]\u001b[A\n",
            "Epoch-40 Validate:   5%|▍         | 1/22 [00:01<00:22,  1.08s/it]\u001b[A\n",
            "Epoch-40 Validate:   9%|▉         | 2/22 [00:01<00:10,  1.83it/s]\u001b[A\n",
            "Epoch-40 Validate:  14%|█▎        | 3/22 [00:02<00:12,  1.54it/s]\u001b[A\n",
            "Epoch-40 Validate:  18%|█▊        | 4/22 [00:02<00:08,  2.19it/s]\u001b[A\n",
            "Epoch-40 Validate:  23%|██▎       | 5/22 [00:02<00:09,  1.76it/s]\u001b[A\n",
            "Epoch-40 Validate:  27%|██▋       | 6/22 [00:03<00:06,  2.33it/s]\u001b[A\n",
            "Epoch-40 Validate:  32%|███▏      | 7/22 [00:04<00:09,  1.64it/s]\u001b[A\n",
            "Epoch-40 Validate:  36%|███▋      | 8/22 [00:04<00:06,  2.12it/s]\u001b[A\n",
            "Epoch-40 Validate:  41%|████      | 9/22 [00:05<00:08,  1.47it/s]\u001b[A\n",
            "Epoch-40 Validate:  45%|████▌     | 10/22 [00:05<00:06,  1.76it/s]\u001b[A\n",
            "Epoch-40 Validate:  50%|█████     | 11/22 [00:06<00:07,  1.47it/s]\u001b[A\n",
            "Epoch-40 Validate:  55%|█████▍    | 12/22 [00:07<00:06,  1.52it/s]\u001b[A\n",
            "Epoch-40 Validate:  59%|█████▉    | 13/22 [00:08<00:06,  1.32it/s]\u001b[A\n",
            "Epoch-40 Validate:  64%|██████▎   | 14/22 [00:08<00:05,  1.42it/s]\u001b[A\n",
            "Epoch-40 Validate:  68%|██████▊   | 15/22 [00:09<00:04,  1.49it/s]\u001b[A\n",
            "Epoch-40 Validate:  73%|███████▎  | 16/22 [00:09<00:03,  1.80it/s]\u001b[A\n",
            "Epoch-40 Validate:  77%|███████▋  | 17/22 [00:10<00:02,  1.80it/s]\u001b[A\n",
            "Epoch-40 Validate:  82%|████████▏ | 18/22 [00:10<00:01,  2.05it/s]\u001b[A\n",
            "Epoch-40 Validate:  86%|████████▋ | 19/22 [00:11<00:01,  1.90it/s]\u001b[A\n",
            "Epoch-40 Validate:  91%|█████████ | 20/22 [00:11<00:00,  2.28it/s]\u001b[A\n",
            "Epoch-40 Validate:  95%|█████████▌| 21/22 [00:12<00:00,  2.09it/s]\u001b[A\n",
            "Epoch-40 Validate: 100%|██████████| 22/22 [00:12<00:00,  1.80it/s]\n",
            "Epoch 40/50 - Training: 100%|██████████| 87/87 [00:57<00:00,  1.51batch/s, loss=0.0163]\n"
          ]
        },
        {
          "output_type": "stream",
          "name": "stdout",
          "text": [
            "Epoch [40/50],  Training Loss 0.0163,  Validation Loss 0.0171,  LR 1e-05\n"
          ]
        },
        {
          "output_type": "stream",
          "name": "stderr",
          "text": [
            "Epoch 41/50 - Training: 100%|██████████| 87/87 [00:45<00:00,  3.07batch/s, loss=0.0162]\n",
            "Epoch-41 Validate:   0%|          | 0/22 [00:00<?, ?it/s]\u001b[A\n",
            "Epoch-41 Validate:   5%|▍         | 1/22 [00:01<00:22,  1.09s/it]\u001b[A\n",
            "Epoch-41 Validate:   9%|▉         | 2/22 [00:01<00:10,  1.82it/s]\u001b[A\n",
            "Epoch-41 Validate:  14%|█▎        | 3/22 [00:01<00:11,  1.70it/s]\u001b[A\n",
            "Epoch-41 Validate:  18%|█▊        | 4/22 [00:02<00:07,  2.36it/s]\u001b[A\n",
            "Epoch-41 Validate:  23%|██▎       | 5/22 [00:02<00:08,  1.92it/s]\u001b[A\n",
            "Epoch-41 Validate:  27%|██▋       | 6/22 [00:02<00:06,  2.47it/s]\u001b[A\n",
            "Epoch-41 Validate:  32%|███▏      | 7/22 [00:03<00:07,  1.91it/s]\u001b[A\n",
            "Epoch-41 Validate:  36%|███▋      | 8/22 [00:03<00:05,  2.46it/s]\u001b[A\n",
            "Epoch-41 Validate:  41%|████      | 9/22 [00:04<00:06,  1.92it/s]\u001b[A\n",
            "Epoch-41 Validate:  45%|████▌     | 10/22 [00:04<00:04,  2.44it/s]\u001b[A\n",
            "Epoch-41 Validate:  50%|█████     | 11/22 [00:05<00:05,  1.86it/s]\u001b[A\n",
            "Epoch-41 Validate:  55%|█████▍    | 12/22 [00:05<00:04,  2.35it/s]\u001b[A\n",
            "Epoch-41 Validate:  59%|█████▉    | 13/22 [00:06<00:04,  1.83it/s]\u001b[A\n",
            "Epoch-41 Validate:  64%|██████▎   | 14/22 [00:06<00:03,  2.32it/s]\u001b[A\n",
            "Epoch-41 Validate:  68%|██████▊   | 15/22 [00:07<00:03,  1.88it/s]\u001b[A\n",
            "Epoch-41 Validate:  73%|███████▎  | 16/22 [00:07<00:02,  2.37it/s]\u001b[A\n",
            "Epoch-41 Validate:  77%|███████▋  | 17/22 [00:08<00:03,  1.49it/s]\u001b[A\n",
            "Epoch-41 Validate:  82%|████████▏ | 18/22 [00:09<00:02,  1.93it/s]\u001b[A\n",
            "Epoch-41 Validate:  86%|████████▋ | 19/22 [00:10<00:02,  1.37it/s]\u001b[A\n",
            "Epoch-41 Validate:  91%|█████████ | 20/22 [00:10<00:01,  1.78it/s]\u001b[A\n",
            "Epoch-41 Validate:  95%|█████████▌| 21/22 [00:11<00:00,  1.45it/s]\u001b[A\n",
            "Epoch-41 Validate: 100%|██████████| 22/22 [00:11<00:00,  1.88it/s]\n",
            "Epoch 41/50 - Training: 100%|██████████| 87/87 [00:56<00:00,  1.53batch/s, loss=0.0162]\n"
          ]
        },
        {
          "output_type": "stream",
          "name": "stdout",
          "text": [
            "Epoch [41/50],  Training Loss 0.0162,  Validation Loss 0.0175,  LR 1e-05\n"
          ]
        },
        {
          "output_type": "stream",
          "name": "stderr",
          "text": [
            "Epoch 42/50 - Training: 100%|██████████| 87/87 [00:45<00:00,  2.04batch/s, loss=0.0163]\n",
            "Epoch-42 Validate:   0%|          | 0/22 [00:00<?, ?it/s]\u001b[A\n",
            "Epoch-42 Validate:   5%|▍         | 1/22 [00:01<00:23,  1.13s/it]\u001b[A\n",
            "Epoch-42 Validate:   9%|▉         | 2/22 [00:01<00:11,  1.78it/s]\u001b[A\n",
            "Epoch-42 Validate:  14%|█▎        | 3/22 [00:02<00:12,  1.55it/s]\u001b[A\n",
            "Epoch-42 Validate:  18%|█▊        | 4/22 [00:02<00:08,  2.16it/s]\u001b[A\n",
            "Epoch-42 Validate:  23%|██▎       | 5/22 [00:02<00:09,  1.84it/s]\u001b[A\n",
            "Epoch-42 Validate:  27%|██▋       | 6/22 [00:03<00:06,  2.43it/s]\u001b[A\n",
            "Epoch-42 Validate:  32%|███▏      | 7/22 [00:03<00:08,  1.87it/s]\u001b[A\n",
            "Epoch-42 Validate:  36%|███▋      | 8/22 [00:04<00:05,  2.41it/s]\u001b[A\n",
            "Epoch-42 Validate:  41%|████      | 9/22 [00:04<00:06,  1.91it/s]\u001b[A\n",
            "Epoch-42 Validate:  45%|████▌     | 10/22 [00:04<00:04,  2.42it/s]\u001b[A\n",
            "Epoch-42 Validate:  50%|█████     | 11/22 [00:05<00:05,  1.94it/s]\u001b[A\n",
            "Epoch-42 Validate:  55%|█████▍    | 12/22 [00:05<00:04,  2.45it/s]\u001b[A\n",
            "Epoch-42 Validate:  59%|█████▉    | 13/22 [00:06<00:04,  1.93it/s]\u001b[A\n",
            "Epoch-42 Validate:  64%|██████▎   | 14/22 [00:06<00:03,  2.41it/s]\u001b[A\n",
            "Epoch-42 Validate:  68%|██████▊   | 15/22 [00:07<00:03,  1.96it/s]\u001b[A\n",
            "Epoch-42 Validate:  73%|███████▎  | 16/22 [00:07<00:02,  2.48it/s]\u001b[A\n",
            "Epoch-42 Validate:  77%|███████▋  | 17/22 [00:08<00:02,  2.00it/s]\u001b[A\n",
            "Epoch-42 Validate:  82%|████████▏ | 18/22 [00:08<00:01,  2.51it/s]\u001b[A\n",
            "Epoch-42 Validate:  86%|████████▋ | 19/22 [00:09<00:01,  2.04it/s]\u001b[A\n",
            "Epoch-42 Validate:  91%|█████████ | 20/22 [00:09<00:00,  2.55it/s]\u001b[A\n",
            "Epoch-42 Validate:  95%|█████████▌| 21/22 [00:10<00:00,  2.16it/s]\u001b[A\n",
            "Epoch-42 Validate: 100%|██████████| 22/22 [00:10<00:00,  2.14it/s]\n",
            "Epoch 42/50 - Training: 100%|██████████| 87/87 [00:56<00:00,  1.55batch/s, loss=0.0163]\n"
          ]
        },
        {
          "output_type": "stream",
          "name": "stdout",
          "text": [
            "Epoch [42/50],  Training Loss 0.0163,  Validation Loss 0.0174,  LR 1e-05\n"
          ]
        },
        {
          "output_type": "stream",
          "name": "stderr",
          "text": [
            "Epoch 43/50 - Training: 100%|██████████| 87/87 [00:45<00:00,  2.69batch/s, loss=0.0162]\n",
            "Epoch-43 Validate:   0%|          | 0/22 [00:00<?, ?it/s]\u001b[A\n",
            "Epoch-43 Validate:   5%|▍         | 1/22 [00:01<00:39,  1.89s/it]\u001b[A\n",
            "Epoch-43 Validate:   9%|▉         | 2/22 [00:02<00:17,  1.14it/s]\u001b[A\n",
            "Epoch-43 Validate:  14%|█▎        | 3/22 [00:03<00:21,  1.14s/it]\u001b[A\n",
            "Epoch-43 Validate:  18%|█▊        | 4/22 [00:03<00:13,  1.32it/s]\u001b[A\n",
            "Epoch-43 Validate:  23%|██▎       | 5/22 [00:04<00:14,  1.17it/s]\u001b[A\n",
            "Epoch-43 Validate:  27%|██▋       | 6/22 [00:04<00:09,  1.61it/s]\u001b[A\n",
            "Epoch-43 Validate:  32%|███▏      | 7/22 [00:05<00:10,  1.49it/s]\u001b[A\n",
            "Epoch-43 Validate:  36%|███▋      | 8/22 [00:05<00:07,  1.96it/s]\u001b[A\n",
            "Epoch-43 Validate:  41%|████      | 9/22 [00:06<00:07,  1.72it/s]\u001b[A\n",
            "Epoch-43 Validate:  45%|████▌     | 10/22 [00:06<00:05,  2.18it/s]\u001b[A\n",
            "Epoch-43 Validate:  50%|█████     | 11/22 [00:07<00:05,  1.85it/s]\u001b[A\n",
            "Epoch-43 Validate:  55%|█████▍    | 12/22 [00:07<00:04,  2.34it/s]\u001b[A\n",
            "Epoch-43 Validate:  59%|█████▉    | 13/22 [00:08<00:04,  1.89it/s]\u001b[A\n",
            "Epoch-43 Validate:  64%|██████▎   | 14/22 [00:08<00:03,  2.36it/s]\u001b[A\n",
            "Epoch-43 Validate:  68%|██████▊   | 15/22 [00:09<00:03,  1.91it/s]\u001b[A\n",
            "Epoch-43 Validate:  73%|███████▎  | 16/22 [00:09<00:02,  2.42it/s]\u001b[A\n",
            "Epoch-43 Validate:  77%|███████▋  | 17/22 [00:10<00:02,  1.97it/s]\u001b[A\n",
            "Epoch-43 Validate:  82%|████████▏ | 18/22 [00:10<00:01,  2.47it/s]\u001b[A\n",
            "Epoch-43 Validate:  86%|████████▋ | 19/22 [00:11<00:01,  2.03it/s]\u001b[A\n",
            "Epoch-43 Validate:  91%|█████████ | 20/22 [00:11<00:00,  2.54it/s]\u001b[A\n",
            "Epoch-43 Validate:  95%|█████████▌| 21/22 [00:11<00:00,  2.31it/s]\u001b[A\n",
            "Epoch-43 Validate: 100%|██████████| 22/22 [00:11<00:00,  1.84it/s]\n",
            "Epoch 43/50 - Training: 100%|██████████| 87/87 [00:57<00:00,  1.52batch/s, loss=0.0162]\n"
          ]
        },
        {
          "output_type": "stream",
          "name": "stdout",
          "text": [
            "Epoch [43/50],  Training Loss 0.0162,  Validation Loss 0.0175,  LR 1e-05\n"
          ]
        },
        {
          "output_type": "stream",
          "name": "stderr",
          "text": [
            "Epoch 44/50 - Training: 100%|██████████| 87/87 [00:45<00:00,  2.96batch/s, loss=0.0163]\n",
            "Epoch-44 Validate:   0%|          | 0/22 [00:00<?, ?it/s]\u001b[A\n",
            "Epoch-44 Validate:   5%|▍         | 1/22 [00:01<00:23,  1.10s/it]\u001b[A\n",
            "Epoch-44 Validate:   9%|▉         | 2/22 [00:01<00:11,  1.82it/s]\u001b[A\n",
            "Epoch-44 Validate:  14%|█▎        | 3/22 [00:01<00:11,  1.68it/s]\u001b[A\n",
            "Epoch-44 Validate:  18%|█▊        | 4/22 [00:02<00:08,  2.24it/s]\u001b[A\n",
            "Epoch-44 Validate:  23%|██▎       | 5/22 [00:02<00:08,  1.91it/s]\u001b[A\n",
            "Epoch-44 Validate:  27%|██▋       | 6/22 [00:03<00:07,  2.28it/s]\u001b[A\n",
            "Epoch-44 Validate:  32%|███▏      | 7/22 [00:04<00:09,  1.63it/s]\u001b[A\n",
            "Epoch-44 Validate:  36%|███▋      | 8/22 [00:04<00:08,  1.66it/s]\u001b[A\n",
            "Epoch-44 Validate:  41%|████      | 9/22 [00:05<00:08,  1.52it/s]\u001b[A\n",
            "Epoch-44 Validate:  45%|████▌     | 10/22 [00:05<00:07,  1.61it/s]\u001b[A\n",
            "Epoch-44 Validate:  50%|█████     | 11/22 [00:06<00:07,  1.46it/s]\u001b[A\n",
            "Epoch-44 Validate:  55%|█████▍    | 12/22 [00:07<00:07,  1.41it/s]\u001b[A\n",
            "Epoch-44 Validate:  59%|█████▉    | 13/22 [00:08<00:06,  1.32it/s]\u001b[A\n",
            "Epoch-44 Validate:  64%|██████▎   | 14/22 [00:08<00:05,  1.52it/s]\u001b[A\n",
            "Epoch-44 Validate:  68%|██████▊   | 15/22 [00:09<00:04,  1.62it/s]\u001b[A\n",
            "Epoch-44 Validate:  73%|███████▎  | 16/22 [00:09<00:03,  1.92it/s]\u001b[A\n",
            "Epoch-44 Validate:  77%|███████▋  | 17/22 [00:10<00:02,  1.77it/s]\u001b[A\n",
            "Epoch-44 Validate:  82%|████████▏ | 18/22 [00:10<00:01,  2.24it/s]\u001b[A\n",
            "Epoch-44 Validate:  86%|████████▋ | 19/22 [00:11<00:01,  1.92it/s]\u001b[A\n",
            "Epoch-44 Validate:  91%|█████████ | 20/22 [00:11<00:00,  2.42it/s]\u001b[A\n",
            "Epoch-44 Validate:  95%|█████████▌| 21/22 [00:12<00:00,  2.05it/s]\u001b[A\n",
            "Epoch-44 Validate: 100%|██████████| 22/22 [00:12<00:00,  1.80it/s]\n",
            "Epoch 44/50 - Training: 100%|██████████| 87/87 [00:58<00:00,  1.49batch/s, loss=0.0163]\n"
          ]
        },
        {
          "output_type": "stream",
          "name": "stdout",
          "text": [
            "Epoch [44/50],  Training Loss 0.0163,  Validation Loss 0.0174,  LR 1e-05\n"
          ]
        },
        {
          "output_type": "stream",
          "name": "stderr",
          "text": [
            "Epoch 45/50 - Training: 100%|██████████| 87/87 [00:45<00:00,  3.27batch/s, loss=0.0159]\n",
            "Epoch-45 Validate:   0%|          | 0/22 [00:00<?, ?it/s]\u001b[A\n",
            "Epoch-45 Validate:   5%|▍         | 1/22 [00:01<00:22,  1.08s/it]\u001b[A\n",
            "Epoch-45 Validate:   9%|▉         | 2/22 [00:01<00:10,  1.86it/s]\u001b[A\n",
            "Epoch-45 Validate:  14%|█▎        | 3/22 [00:01<00:11,  1.68it/s]\u001b[A\n",
            "Epoch-45 Validate:  18%|█▊        | 4/22 [00:02<00:08,  2.18it/s]\u001b[A\n",
            "Epoch-45 Validate:  23%|██▎       | 5/22 [00:02<00:08,  1.92it/s]\u001b[A\n",
            "Epoch-45 Validate:  27%|██▋       | 6/22 [00:02<00:06,  2.44it/s]\u001b[A\n",
            "Epoch-45 Validate:  32%|███▏      | 7/22 [00:03<00:08,  1.84it/s]\u001b[A\n",
            "Epoch-45 Validate:  36%|███▋      | 8/22 [00:03<00:05,  2.35it/s]\u001b[A\n",
            "Epoch-45 Validate:  41%|████      | 9/22 [00:04<00:06,  1.86it/s]\u001b[A\n",
            "Epoch-45 Validate:  45%|████▌     | 10/22 [00:04<00:05,  2.34it/s]\u001b[A\n",
            "Epoch-45 Validate:  50%|█████     | 11/22 [00:05<00:05,  1.86it/s]\u001b[A\n",
            "Epoch-45 Validate:  55%|█████▍    | 12/22 [00:05<00:04,  2.36it/s]\u001b[A\n",
            "Epoch-45 Validate:  59%|█████▉    | 13/22 [00:06<00:04,  1.99it/s]\u001b[A\n",
            "Epoch-45 Validate:  64%|██████▎   | 14/22 [00:06<00:03,  2.48it/s]\u001b[A\n",
            "Epoch-45 Validate:  68%|██████▊   | 15/22 [00:07<00:04,  1.58it/s]\u001b[A\n",
            "Epoch-45 Validate:  73%|███████▎  | 16/22 [00:08<00:02,  2.03it/s]\u001b[A\n",
            "Epoch-45 Validate:  77%|███████▋  | 17/22 [00:09<00:03,  1.47it/s]\u001b[A\n",
            "Epoch-45 Validate:  82%|████████▏ | 18/22 [00:09<00:02,  1.88it/s]\u001b[A\n",
            "Epoch-45 Validate:  86%|████████▋ | 19/22 [00:10<00:02,  1.32it/s]\u001b[A\n",
            "Epoch-45 Validate:  91%|█████████ | 20/22 [00:10<00:01,  1.73it/s]\u001b[A\n",
            "Epoch-45 Validate:  95%|█████████▌| 21/22 [00:11<00:00,  1.39it/s]\u001b[A\n",
            "Epoch-45 Validate: 100%|██████████| 22/22 [00:12<00:00,  1.83it/s]\n",
            "Epoch 45/50 - Training: 100%|██████████| 87/87 [00:57<00:00,  1.51batch/s, loss=0.0159]\n"
          ]
        },
        {
          "output_type": "stream",
          "name": "stdout",
          "text": [
            "Epoch [45/50],  Training Loss 0.0159,  Validation Loss 0.0175,  LR 1e-05\n"
          ]
        },
        {
          "output_type": "stream",
          "name": "stderr",
          "text": [
            "Epoch 46/50 - Training: 100%|██████████| 87/87 [00:45<00:00,  2.20batch/s, loss=0.016]\n",
            "Epoch-46 Validate:   0%|          | 0/22 [00:00<?, ?it/s]\u001b[A\n",
            "Epoch-46 Validate:   5%|▍         | 1/22 [00:01<00:23,  1.12s/it]\u001b[A\n",
            "Epoch-46 Validate:   9%|▉         | 2/22 [00:01<00:11,  1.79it/s]\u001b[A\n",
            "Epoch-46 Validate:  14%|█▎        | 3/22 [00:02<00:12,  1.58it/s]\u001b[A\n",
            "Epoch-46 Validate:  18%|█▊        | 4/22 [00:02<00:08,  2.23it/s]\u001b[A\n",
            "Epoch-46 Validate:  23%|██▎       | 5/22 [00:02<00:09,  1.78it/s]\u001b[A\n",
            "Epoch-46 Validate:  27%|██▋       | 6/22 [00:03<00:06,  2.35it/s]\u001b[A\n",
            "Epoch-46 Validate:  32%|███▏      | 7/22 [00:03<00:08,  1.75it/s]\u001b[A\n",
            "Epoch-46 Validate:  36%|███▋      | 8/22 [00:04<00:06,  2.27it/s]\u001b[A\n",
            "Epoch-46 Validate:  41%|████      | 9/22 [00:04<00:06,  1.96it/s]\u001b[A\n",
            "Epoch-46 Validate:  45%|████▌     | 10/22 [00:04<00:04,  2.48it/s]\u001b[A\n",
            "Epoch-46 Validate:  50%|█████     | 11/22 [00:05<00:05,  1.90it/s]\u001b[A\n",
            "Epoch-46 Validate:  55%|█████▍    | 12/22 [00:05<00:04,  2.40it/s]\u001b[A\n",
            "Epoch-46 Validate:  59%|█████▉    | 13/22 [00:06<00:04,  1.81it/s]\u001b[A\n",
            "Epoch-46 Validate:  64%|██████▎   | 14/22 [00:06<00:03,  2.30it/s]\u001b[A\n",
            "Epoch-46 Validate:  68%|██████▊   | 15/22 [00:07<00:03,  1.89it/s]\u001b[A\n",
            "Epoch-46 Validate:  73%|███████▎  | 16/22 [00:07<00:02,  2.37it/s]\u001b[A\n",
            "Epoch-46 Validate:  77%|███████▋  | 17/22 [00:08<00:02,  2.03it/s]\u001b[A\n",
            "Epoch-46 Validate:  82%|████████▏ | 18/22 [00:08<00:01,  2.52it/s]\u001b[A\n",
            "Epoch-46 Validate:  86%|████████▋ | 19/22 [00:09<00:01,  2.01it/s]\u001b[A\n",
            "Epoch-46 Validate:  91%|█████████ | 20/22 [00:09<00:00,  2.24it/s]\u001b[A\n",
            "Epoch-46 Validate:  95%|█████████▌| 21/22 [00:10<00:00,  1.55it/s]\u001b[A\n",
            "Epoch-46 Validate: 100%|██████████| 22/22 [00:11<00:00,  1.98it/s]\n",
            "Epoch 46/50 - Training: 100%|██████████| 87/87 [00:56<00:00,  1.54batch/s, loss=0.016]\n"
          ]
        },
        {
          "output_type": "stream",
          "name": "stdout",
          "text": [
            "Epoch [46/50],  Training Loss 0.0160,  Validation Loss 0.0177,  LR 1e-05\n"
          ]
        },
        {
          "output_type": "stream",
          "name": "stderr",
          "text": [
            "Epoch 47/50 - Training: 100%|██████████| 87/87 [00:46<00:00,  2.25batch/s, loss=0.016]\n",
            "Epoch-47 Validate:   0%|          | 0/22 [00:00<?, ?it/s]\u001b[A\n",
            "Epoch-47 Validate:   5%|▍         | 1/22 [00:01<00:34,  1.64s/it]\u001b[A\n",
            "Epoch-47 Validate:   9%|▉         | 2/22 [00:01<00:16,  1.21it/s]\u001b[A\n",
            "Epoch-47 Validate:  14%|█▎        | 3/22 [00:03<00:18,  1.04it/s]\u001b[A\n",
            "Epoch-47 Validate:  18%|█▊        | 4/22 [00:03<00:14,  1.26it/s]\u001b[A\n",
            "Epoch-47 Validate:  23%|██▎       | 5/22 [00:04<00:12,  1.32it/s]\u001b[A\n",
            "Epoch-47 Validate:  27%|██▋       | 6/22 [00:04<00:09,  1.66it/s]\u001b[A\n",
            "Epoch-47 Validate:  32%|███▏      | 7/22 [00:05<00:09,  1.58it/s]\u001b[A\n",
            "Epoch-47 Validate:  36%|███▋      | 8/22 [00:05<00:06,  2.07it/s]\u001b[A\n",
            "Epoch-47 Validate:  41%|████      | 9/22 [00:06<00:07,  1.74it/s]\u001b[A\n",
            "Epoch-47 Validate:  45%|████▌     | 10/22 [00:06<00:05,  2.22it/s]\u001b[A\n",
            "Epoch-47 Validate:  50%|█████     | 11/22 [00:07<00:06,  1.77it/s]\u001b[A\n",
            "Epoch-47 Validate:  55%|█████▍    | 12/22 [00:07<00:04,  2.25it/s]\u001b[A\n",
            "Epoch-47 Validate:  59%|█████▉    | 13/22 [00:08<00:04,  1.96it/s]\u001b[A\n",
            "Epoch-47 Validate:  64%|██████▎   | 14/22 [00:08<00:03,  2.44it/s]\u001b[A\n",
            "Epoch-47 Validate:  68%|██████▊   | 15/22 [00:08<00:03,  1.97it/s]\u001b[A\n",
            "Epoch-47 Validate:  73%|███████▎  | 16/22 [00:09<00:02,  2.47it/s]\u001b[A\n",
            "Epoch-47 Validate:  77%|███████▋  | 17/22 [00:10<00:02,  1.69it/s]\u001b[A\n",
            "Epoch-47 Validate:  82%|████████▏ | 18/22 [00:10<00:01,  2.14it/s]\u001b[A\n",
            "Epoch-47 Validate:  86%|████████▋ | 19/22 [00:11<00:01,  1.75it/s]\u001b[A\n",
            "Epoch-47 Validate:  91%|█████████ | 20/22 [00:11<00:00,  2.22it/s]\u001b[A\n",
            "Epoch-47 Validate:  95%|█████████▌| 21/22 [00:11<00:00,  2.01it/s]\u001b[A\n",
            "Epoch-47 Validate: 100%|██████████| 22/22 [00:12<00:00,  1.82it/s]\n",
            "Epoch 47/50 - Training: 100%|██████████| 87/87 [00:58<00:00,  1.48batch/s, loss=0.016]\n"
          ]
        },
        {
          "output_type": "stream",
          "name": "stdout",
          "text": [
            "Epoch [47/50],  Training Loss 0.0160,  Validation Loss 0.0172,  LR 1e-05\n"
          ]
        },
        {
          "output_type": "stream",
          "name": "stderr",
          "text": [
            "Epoch 48/50 - Training: 100%|██████████| 87/87 [00:46<00:00,  2.82batch/s, loss=0.0159]\n",
            "Epoch-48 Validate:   0%|          | 0/22 [00:00<?, ?it/s]\u001b[A\n",
            "Epoch-48 Validate:   5%|▍         | 1/22 [00:01<00:23,  1.12s/it]\u001b[A\n",
            "Epoch-48 Validate:   9%|▉         | 2/22 [00:01<00:11,  1.77it/s]\u001b[A\n",
            "Epoch-48 Validate:  14%|█▎        | 3/22 [00:02<00:14,  1.35it/s]\u001b[A\n",
            "Epoch-48 Validate:  18%|█▊        | 4/22 [00:02<00:10,  1.64it/s]\u001b[A\n",
            "Epoch-48 Validate:  23%|██▎       | 5/22 [00:03<00:12,  1.31it/s]\u001b[A\n",
            "Epoch-48 Validate:  27%|██▋       | 6/22 [00:03<00:09,  1.72it/s]\u001b[A\n",
            "Epoch-48 Validate:  32%|███▏      | 7/22 [00:05<00:12,  1.21it/s]\u001b[A\n",
            "Epoch-48 Validate:  36%|███▋      | 8/22 [00:05<00:08,  1.62it/s]\u001b[A\n",
            "Epoch-48 Validate:  41%|████      | 9/22 [00:06<00:11,  1.17it/s]\u001b[A\n",
            "Epoch-48 Validate:  45%|████▌     | 10/22 [00:06<00:07,  1.54it/s]\u001b[A\n",
            "Epoch-48 Validate:  50%|█████     | 11/22 [00:07<00:07,  1.44it/s]\u001b[A\n",
            "Epoch-48 Validate:  55%|█████▍    | 12/22 [00:07<00:05,  1.88it/s]\u001b[A\n",
            "Epoch-48 Validate:  59%|█████▉    | 13/22 [00:08<00:05,  1.69it/s]\u001b[A\n",
            "Epoch-48 Validate:  64%|██████▎   | 14/22 [00:08<00:03,  2.15it/s]\u001b[A\n",
            "Epoch-48 Validate:  68%|██████▊   | 15/22 [00:09<00:04,  1.72it/s]\u001b[A\n",
            "Epoch-48 Validate:  73%|███████▎  | 16/22 [00:09<00:02,  2.20it/s]\u001b[A\n",
            "Epoch-48 Validate:  77%|███████▋  | 17/22 [00:10<00:03,  1.55it/s]\u001b[A\n",
            "Epoch-48 Validate:  82%|████████▏ | 18/22 [00:11<00:01,  2.00it/s]\u001b[A\n",
            "Epoch-48 Validate:  86%|████████▋ | 19/22 [00:11<00:01,  1.74it/s]\u001b[A\n",
            "Epoch-48 Validate:  91%|█████████ | 20/22 [00:12<00:00,  2.21it/s]\u001b[A\n",
            "Epoch-48 Validate:  95%|█████████▌| 21/22 [00:12<00:00,  1.96it/s]\u001b[A\n",
            "Epoch-48 Validate: 100%|██████████| 22/22 [00:12<00:00,  1.71it/s]\n",
            "Epoch 48/50 - Training: 100%|██████████| 87/87 [00:59<00:00,  1.45batch/s, loss=0.0159]\n"
          ]
        },
        {
          "output_type": "stream",
          "name": "stdout",
          "text": [
            "Epoch [48/50],  Training Loss 0.0159,  Validation Loss 0.0174,  LR 1e-05\n"
          ]
        },
        {
          "output_type": "stream",
          "name": "stderr",
          "text": [
            "Epoch 49/50 - Training: 100%|██████████| 87/87 [00:46<00:00,  3.47batch/s, loss=0.0158]\n",
            "Epoch-49 Validate:   0%|          | 0/22 [00:00<?, ?it/s]\u001b[A\n",
            "Epoch-49 Validate:   5%|▍         | 1/22 [00:01<00:23,  1.13s/it]\u001b[A\n",
            "Epoch-49 Validate:   9%|▉         | 2/22 [00:01<00:11,  1.77it/s]\u001b[A\n",
            "Epoch-49 Validate:  14%|█▎        | 3/22 [00:02<00:12,  1.50it/s]\u001b[A\n",
            "Epoch-49 Validate:  18%|█▊        | 4/22 [00:02<00:08,  2.13it/s]\u001b[A\n",
            "Epoch-49 Validate:  23%|██▎       | 5/22 [00:03<00:10,  1.68it/s]\u001b[A\n",
            "Epoch-49 Validate:  27%|██▋       | 6/22 [00:03<00:07,  2.22it/s]\u001b[A\n",
            "Epoch-49 Validate:  32%|███▏      | 7/22 [00:04<00:10,  1.49it/s]\u001b[A\n",
            "Epoch-49 Validate:  36%|███▋      | 8/22 [00:04<00:07,  1.95it/s]\u001b[A\n",
            "Epoch-49 Validate:  41%|████      | 9/22 [00:05<00:09,  1.37it/s]\u001b[A\n",
            "Epoch-49 Validate:  45%|████▌     | 10/22 [00:05<00:06,  1.78it/s]\u001b[A\n",
            "Epoch-49 Validate:  50%|█████     | 11/22 [00:07<00:10,  1.01it/s]\u001b[A\n",
            "Epoch-49 Validate:  55%|█████▍    | 12/22 [00:08<00:07,  1.35it/s]\u001b[A\n",
            "Epoch-49 Validate:  59%|█████▉    | 13/22 [00:09<00:07,  1.14it/s]\u001b[A\n",
            "Epoch-49 Validate:  64%|██████▎   | 14/22 [00:09<00:05,  1.50it/s]\u001b[A\n",
            "Epoch-49 Validate:  68%|██████▊   | 15/22 [00:10<00:04,  1.44it/s]\u001b[A\n",
            "Epoch-49 Validate:  73%|███████▎  | 16/22 [00:10<00:03,  1.86it/s]\u001b[A\n",
            "Epoch-49 Validate:  77%|███████▋  | 17/22 [00:11<00:03,  1.64it/s]\u001b[A\n",
            "Epoch-49 Validate:  82%|████████▏ | 18/22 [00:11<00:01,  2.09it/s]\u001b[A\n",
            "Epoch-49 Validate:  86%|████████▋ | 19/22 [00:12<00:01,  1.75it/s]\u001b[A\n",
            "Epoch-49 Validate:  91%|█████████ | 20/22 [00:12<00:00,  2.21it/s]\u001b[A\n",
            "Epoch-49 Validate:  95%|█████████▌| 21/22 [00:12<00:00,  2.07it/s]\u001b[A\n",
            "Epoch-49 Validate: 100%|██████████| 22/22 [00:13<00:00,  1.69it/s]\n",
            "Epoch 49/50 - Training: 100%|██████████| 87/87 [00:59<00:00,  1.45batch/s, loss=0.0158]\n"
          ]
        },
        {
          "output_type": "stream",
          "name": "stdout",
          "text": [
            "Epoch [49/50],  Training Loss 0.0158,  Validation Loss 0.0175,  LR 1e-05\n"
          ]
        },
        {
          "output_type": "stream",
          "name": "stderr",
          "text": [
            "Epoch 50/50 - Training: 100%|██████████| 87/87 [00:46<00:00,  3.15batch/s, loss=0.0159]\n",
            "Epoch-50 Validate:   0%|          | 0/22 [00:00<?, ?it/s]\u001b[A\n",
            "Epoch-50 Validate:   5%|▍         | 1/22 [00:01<00:23,  1.14s/it]\u001b[A\n",
            "Epoch-50 Validate:   9%|▉         | 2/22 [00:01<00:11,  1.77it/s]\u001b[A\n",
            "Epoch-50 Validate:  14%|█▎        | 3/22 [00:01<00:11,  1.61it/s]\u001b[A\n",
            "Epoch-50 Validate:  18%|█▊        | 4/22 [00:02<00:08,  2.25it/s]\u001b[A\n",
            "Epoch-50 Validate:  23%|██▎       | 5/22 [00:02<00:09,  1.77it/s]\u001b[A\n",
            "Epoch-50 Validate:  27%|██▋       | 6/22 [00:03<00:07,  2.24it/s]\u001b[A\n",
            "Epoch-50 Validate:  32%|███▏      | 7/22 [00:03<00:08,  1.86it/s]\u001b[A\n",
            "Epoch-50 Validate:  36%|███▋      | 8/22 [00:04<00:05,  2.39it/s]\u001b[A\n",
            "Epoch-50 Validate:  41%|████      | 9/22 [00:05<00:08,  1.45it/s]\u001b[A\n",
            "Epoch-50 Validate:  45%|████▌     | 10/22 [00:05<00:07,  1.53it/s]\u001b[A\n",
            "Epoch-50 Validate:  50%|█████     | 11/22 [00:06<00:08,  1.36it/s]\u001b[A\n",
            "Epoch-50 Validate:  55%|█████▍    | 12/22 [00:07<00:06,  1.52it/s]\u001b[A\n",
            "Epoch-50 Validate:  59%|█████▉    | 13/22 [00:08<00:06,  1.31it/s]\u001b[A\n",
            "Epoch-50 Validate:  64%|██████▎   | 14/22 [00:08<00:05,  1.37it/s]\u001b[A\n",
            "Epoch-50 Validate:  68%|██████▊   | 15/22 [00:09<00:05,  1.25it/s]\u001b[A\n",
            "Epoch-50 Validate:  73%|███████▎  | 16/22 [00:10<00:04,  1.46it/s]\u001b[A\n",
            "Epoch-50 Validate:  77%|███████▋  | 17/22 [00:10<00:02,  1.70it/s]\u001b[A\n",
            "Epoch-50 Validate:  82%|████████▏ | 18/22 [00:11<00:02,  1.67it/s]\u001b[A\n",
            "Epoch-50 Validate:  86%|████████▋ | 19/22 [00:11<00:01,  1.94it/s]\u001b[A\n",
            "Epoch-50 Validate:  91%|█████████ | 20/22 [00:12<00:01,  1.85it/s]\u001b[A\n",
            "Epoch-50 Validate:  95%|█████████▌| 21/22 [00:12<00:00,  2.07it/s]\u001b[A\n",
            "Epoch-50 Validate: 100%|██████████| 22/22 [00:12<00:00,  1.71it/s]\n",
            "Epoch 50/50 - Training: 100%|██████████| 87/87 [00:59<00:00,  1.46batch/s, loss=0.0159]\n"
          ]
        },
        {
          "output_type": "stream",
          "name": "stdout",
          "text": [
            "Epoch [50/50],  Training Loss 0.0159,  Validation Loss 0.0172,  LR 1e-05\n"
          ]
        }
      ]
    },
    {
      "cell_type": "code",
      "source": [
        "epochs = np.arange(50)+1\n",
        "\n",
        "\n",
        "plt.plot(epochs, train_loss, 'bo', label='Training loss')\n",
        "plt.plot(epochs, test_loss, 'r', label='Test loss')\n",
        "plt.title('Training and Test loss over increasing epochs')\n",
        "plt.xlabel('Epochs')\n",
        "plt.ylabel('Loss')\n",
        "plt.legend()\n",
        "plt.grid('off')\n",
        "plt.show()"
      ],
      "metadata": {
        "colab": {
          "base_uri": "https://localhost:8080/",
          "height": 472
        },
        "id": "U67Z9-YEyKiV",
        "outputId": "57fdf81f-09d6-47ab-bb9c-dd2edd620433"
      },
      "execution_count": 10,
      "outputs": [
        {
          "output_type": "display_data",
          "data": {
            "text/plain": [
              "<Figure size 640x480 with 1 Axes>"
            ],
            "image/png": "[encoded data removed]"
          },
          "metadata": {}
        }
      ]
    },
    {
      "cell_type": "code",
      "source": [
        "ix = 0\n",
        "plt.figure(figsize=(10,10))\n",
        "plt.subplot(221)\n",
        "plt.title('Original image')\n",
        "im = test_ds.load_img(ix)\n",
        "plt.imshow(im)\n",
        "plt.grid(False)\n",
        "plt.axis('off')\n",
        "\n",
        "plt.subplot(222)\n",
        "plt.title('Image with facial keypoints')\n",
        "x, _ = test_ds[ix]\n",
        "plt.imshow(im)\n",
        "kp = model(x[None].to(device)).flatten().detach().cpu()\n",
        "plt.scatter(kp[:68]*224, kp[68:]*224, c='r')\n",
        "plt.grid(False)\n",
        "plt.axis('off')\n",
        "plt.show()"
      ],
      "metadata": {
        "colab": {
          "base_uri": "https://localhost:8080/",
          "height": 409
        },
        "id": "EqgN4M2D8tQl",
        "outputId": "4a1c9fa1-6338-4c5b-e784-f2609f7263ea"
      },
      "execution_count": 11,
      "outputs": [
        {
          "output_type": "display_data",
          "data": {
            "text/plain": [
              "<Figure size 1000x1000 with 2 Axes>"
            ],
            "image/png": "[encoded data removed]"
          },
          "metadata": {}
        }
      ]
    }
  ]
}